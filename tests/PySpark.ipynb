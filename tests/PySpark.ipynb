{
 "cells": [
  {
   "cell_type": "code",
   "execution_count": null,
   "id": "200868c3-a54e-442d-839f-6a7795024b7f",
   "metadata": {},
   "outputs": [],
   "source": [
    "! pip install -q kaggle\n",
    "from google.colab import drive\n",
    "drive.mount('/content/drive')\n",
    "! mkdir ~/.kaggle\n",
    "! cp '/content/drive/MyDrive/Colab Notebooks/kaggle.json' ~/.kaggle/ # файл kaggle.json можно положить в любую папку в Drive, главное указать актуальный адрес в первом аргументе команды cp\n",
    "! chmod 600 ~/.kaggle/kaggle.json\n",
    "! kaggle competitions download -c 'riiid-test-answer-prediction'\n",
    "! mkdir data\n",
    "! unzip riiid-test-answer-prediction.zip -d data"
   ]
  },
  {
   "cell_type": "code",
   "execution_count": null,
   "id": "e85e7174-f816-4515-aaff-900b2d59b610",
   "metadata": {
    "tags": []
   },
   "outputs": [],
   "source": [
    "! pip install kaggle\n",
    "! pip install google-colab --use-pep517"
   ]
  },
  {
   "cell_type": "code",
   "execution_count": null,
   "id": "3fc82a86-b23b-4332-948e-c93949cb189a",
   "metadata": {},
   "outputs": [],
   "source": []
  }
 ],
 "metadata": {
  "kernelspec": {
   "display_name": "Python 3 (ipykernel)",
   "language": "python",
   "name": "python3"
  },
  "language_info": {
   "codemirror_mode": {
    "name": "ipython",
    "version": 3
   },
   "file_extension": ".py",
   "mimetype": "text/x-python",
   "name": "python",
   "nbconvert_exporter": "python",
   "pygments_lexer": "ipython3",
   "version": "3.10.11"
  }
 },
 "nbformat": 4,
 "nbformat_minor": 5
}
