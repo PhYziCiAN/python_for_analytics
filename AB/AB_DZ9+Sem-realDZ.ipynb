{
 "cells": [
  {
   "cell_type": "code",
   "execution_count": 2,
   "id": "6f534a44-d33a-406b-b46a-68cbd0b67bde",
   "metadata": {},
   "outputs": [],
   "source": [
    "from scipy.stats import ttest_1samp\n",
    "import numpy as np\n",
    "\n",
    "import warnings\n",
    "warnings.filterwarnings('ignore')\n",
    "warnings.warn('DelftStack')\n",
    "warnings.warn('Do not show this message')\n",
    "\n",
    "from scipy.stats import norm, t, kstest, shapiro\n",
    "import statsmodels.api as sm\n",
    "\n",
    "import matplotlib.pyplot as plt\n",
    "import seaborn as sns\n",
    "import pandas as pd"
   ]
  },
  {
   "cell_type": "code",
   "execution_count": 3,
   "id": "2b708ee2-5678-46c0-b3ba-af180eaba31d",
   "metadata": {},
   "outputs": [
    {
     "data": {
      "text/html": [
       "<div>\n",
       "<style scoped>\n",
       "    .dataframe tbody tr th:only-of-type {\n",
       "        vertical-align: middle;\n",
       "    }\n",
       "\n",
       "    .dataframe tbody tr th {\n",
       "        vertical-align: top;\n",
       "    }\n",
       "\n",
       "    .dataframe thead th {\n",
       "        text-align: right;\n",
       "    }\n",
       "</style>\n",
       "<table border=\"1\" class=\"dataframe\">\n",
       "  <thead>\n",
       "    <tr style=\"text-align: right;\">\n",
       "      <th></th>\n",
       "      <th>userid</th>\n",
       "      <th>version</th>\n",
       "      <th>sum_gamerounds</th>\n",
       "      <th>retention_1</th>\n",
       "      <th>retention_7</th>\n",
       "    </tr>\n",
       "  </thead>\n",
       "  <tbody>\n",
       "    <tr>\n",
       "      <th>0</th>\n",
       "      <td>116</td>\n",
       "      <td>gate_30</td>\n",
       "      <td>3</td>\n",
       "      <td>False</td>\n",
       "      <td>False</td>\n",
       "    </tr>\n",
       "    <tr>\n",
       "      <th>1</th>\n",
       "      <td>337</td>\n",
       "      <td>gate_30</td>\n",
       "      <td>38</td>\n",
       "      <td>True</td>\n",
       "      <td>False</td>\n",
       "    </tr>\n",
       "    <tr>\n",
       "      <th>2</th>\n",
       "      <td>377</td>\n",
       "      <td>gate_40</td>\n",
       "      <td>165</td>\n",
       "      <td>True</td>\n",
       "      <td>False</td>\n",
       "    </tr>\n",
       "    <tr>\n",
       "      <th>3</th>\n",
       "      <td>483</td>\n",
       "      <td>gate_40</td>\n",
       "      <td>1</td>\n",
       "      <td>False</td>\n",
       "      <td>False</td>\n",
       "    </tr>\n",
       "    <tr>\n",
       "      <th>4</th>\n",
       "      <td>488</td>\n",
       "      <td>gate_40</td>\n",
       "      <td>179</td>\n",
       "      <td>True</td>\n",
       "      <td>True</td>\n",
       "    </tr>\n",
       "    <tr>\n",
       "      <th>5</th>\n",
       "      <td>540</td>\n",
       "      <td>gate_40</td>\n",
       "      <td>187</td>\n",
       "      <td>True</td>\n",
       "      <td>True</td>\n",
       "    </tr>\n",
       "    <tr>\n",
       "      <th>6</th>\n",
       "      <td>1066</td>\n",
       "      <td>gate_30</td>\n",
       "      <td>0</td>\n",
       "      <td>False</td>\n",
       "      <td>False</td>\n",
       "    </tr>\n",
       "    <tr>\n",
       "      <th>7</th>\n",
       "      <td>1444</td>\n",
       "      <td>gate_40</td>\n",
       "      <td>2</td>\n",
       "      <td>False</td>\n",
       "      <td>False</td>\n",
       "    </tr>\n",
       "    <tr>\n",
       "      <th>8</th>\n",
       "      <td>1574</td>\n",
       "      <td>gate_40</td>\n",
       "      <td>108</td>\n",
       "      <td>True</td>\n",
       "      <td>True</td>\n",
       "    </tr>\n",
       "    <tr>\n",
       "      <th>9</th>\n",
       "      <td>1587</td>\n",
       "      <td>gate_40</td>\n",
       "      <td>153</td>\n",
       "      <td>True</td>\n",
       "      <td>False</td>\n",
       "    </tr>\n",
       "    <tr>\n",
       "      <th>10</th>\n",
       "      <td>1842</td>\n",
       "      <td>gate_40</td>\n",
       "      <td>3</td>\n",
       "      <td>False</td>\n",
       "      <td>True</td>\n",
       "    </tr>\n",
       "    <tr>\n",
       "      <th>11</th>\n",
       "      <td>2101</td>\n",
       "      <td>gate_30</td>\n",
       "      <td>0</td>\n",
       "      <td>False</td>\n",
       "      <td>False</td>\n",
       "    </tr>\n",
       "    <tr>\n",
       "      <th>12</th>\n",
       "      <td>2132</td>\n",
       "      <td>gate_40</td>\n",
       "      <td>30</td>\n",
       "      <td>True</td>\n",
       "      <td>False</td>\n",
       "    </tr>\n",
       "    <tr>\n",
       "      <th>13</th>\n",
       "      <td>2179</td>\n",
       "      <td>gate_30</td>\n",
       "      <td>39</td>\n",
       "      <td>True</td>\n",
       "      <td>False</td>\n",
       "    </tr>\n",
       "    <tr>\n",
       "      <th>14</th>\n",
       "      <td>2218</td>\n",
       "      <td>gate_30</td>\n",
       "      <td>305</td>\n",
       "      <td>True</td>\n",
       "      <td>True</td>\n",
       "    </tr>\n",
       "    <tr>\n",
       "      <th>15</th>\n",
       "      <td>2382</td>\n",
       "      <td>gate_30</td>\n",
       "      <td>73</td>\n",
       "      <td>True</td>\n",
       "      <td>False</td>\n",
       "    </tr>\n",
       "    <tr>\n",
       "      <th>16</th>\n",
       "      <td>2392</td>\n",
       "      <td>gate_30</td>\n",
       "      <td>14</td>\n",
       "      <td>True</td>\n",
       "      <td>False</td>\n",
       "    </tr>\n",
       "    <tr>\n",
       "      <th>17</th>\n",
       "      <td>2451</td>\n",
       "      <td>gate_30</td>\n",
       "      <td>204</td>\n",
       "      <td>True</td>\n",
       "      <td>True</td>\n",
       "    </tr>\n",
       "    <tr>\n",
       "      <th>18</th>\n",
       "      <td>2482</td>\n",
       "      <td>gate_30</td>\n",
       "      <td>108</td>\n",
       "      <td>True</td>\n",
       "      <td>True</td>\n",
       "    </tr>\n",
       "    <tr>\n",
       "      <th>19</th>\n",
       "      <td>2502</td>\n",
       "      <td>gate_40</td>\n",
       "      <td>1</td>\n",
       "      <td>False</td>\n",
       "      <td>False</td>\n",
       "    </tr>\n",
       "  </tbody>\n",
       "</table>\n",
       "</div>"
      ],
      "text/plain": [
       "    userid  version  sum_gamerounds  retention_1  retention_7\n",
       "0      116  gate_30               3        False        False\n",
       "1      337  gate_30              38         True        False\n",
       "2      377  gate_40             165         True        False\n",
       "3      483  gate_40               1        False        False\n",
       "4      488  gate_40             179         True         True\n",
       "5      540  gate_40             187         True         True\n",
       "6     1066  gate_30               0        False        False\n",
       "7     1444  gate_40               2        False        False\n",
       "8     1574  gate_40             108         True         True\n",
       "9     1587  gate_40             153         True        False\n",
       "10    1842  gate_40               3        False         True\n",
       "11    2101  gate_30               0        False        False\n",
       "12    2132  gate_40              30         True        False\n",
       "13    2179  gate_30              39         True        False\n",
       "14    2218  gate_30             305         True         True\n",
       "15    2382  gate_30              73         True        False\n",
       "16    2392  gate_30              14         True        False\n",
       "17    2451  gate_30             204         True         True\n",
       "18    2482  gate_30             108         True         True\n",
       "19    2502  gate_40               1        False        False"
      ]
     },
     "execution_count": 3,
     "metadata": {},
     "output_type": "execute_result"
    }
   ],
   "source": [
    "# Need conda install -c conda-forge openpyxl\n",
    "data = pd.read_csv ('cookie_cats.csv')\n",
    "data.head(20)"
   ]
  },
  {
   "cell_type": "code",
   "execution_count": 5,
   "id": "9416c5cf-b2a0-47fe-b679-40faa1e4e1af",
   "metadata": {},
   "outputs": [
    {
     "name": "stdout",
     "output_type": "stream",
     "text": [
      "<class 'pandas.core.frame.DataFrame'>\n",
      "RangeIndex: 90189 entries, 0 to 90188\n",
      "Data columns (total 5 columns):\n",
      " #   Column          Non-Null Count  Dtype \n",
      "---  ------          --------------  ----- \n",
      " 0   userid          90189 non-null  int64 \n",
      " 1   version         90189 non-null  object\n",
      " 2   sum_gamerounds  90189 non-null  int64 \n",
      " 3   retention_1     90189 non-null  bool  \n",
      " 4   retention_7     90189 non-null  bool  \n",
      "dtypes: bool(2), int64(2), object(1)\n",
      "memory usage: 2.2+ MB\n"
     ]
    }
   ],
   "source": [
    "data.info()"
   ]
  },
  {
   "cell_type": "code",
   "execution_count": 54,
   "id": "001b1531-80a8-43c4-bc32-c8323b806c8b",
   "metadata": {},
   "outputs": [
    {
     "data": {
      "text/plain": [
       "(90189, 5)"
      ]
     },
     "execution_count": 54,
     "metadata": {},
     "output_type": "execute_result"
    }
   ],
   "source": [
    "data.shape"
   ]
  },
  {
   "cell_type": "code",
   "execution_count": 7,
   "id": "2dc1e363-7539-4ea0-accf-297f903f176c",
   "metadata": {},
   "outputs": [
    {
     "data": {
      "text/html": [
       "<div>\n",
       "<style scoped>\n",
       "    .dataframe tbody tr th:only-of-type {\n",
       "        vertical-align: middle;\n",
       "    }\n",
       "\n",
       "    .dataframe tbody tr th {\n",
       "        vertical-align: top;\n",
       "    }\n",
       "\n",
       "    .dataframe thead th {\n",
       "        text-align: right;\n",
       "    }\n",
       "</style>\n",
       "<table border=\"1\" class=\"dataframe\">\n",
       "  <thead>\n",
       "    <tr style=\"text-align: right;\">\n",
       "      <th></th>\n",
       "      <th>userid</th>\n",
       "      <th>sum_gamerounds</th>\n",
       "    </tr>\n",
       "  </thead>\n",
       "  <tbody>\n",
       "    <tr>\n",
       "      <th>count</th>\n",
       "      <td>9.018900e+04</td>\n",
       "      <td>90189.000000</td>\n",
       "    </tr>\n",
       "    <tr>\n",
       "      <th>mean</th>\n",
       "      <td>4.998412e+06</td>\n",
       "      <td>51.872457</td>\n",
       "    </tr>\n",
       "    <tr>\n",
       "      <th>std</th>\n",
       "      <td>2.883286e+06</td>\n",
       "      <td>195.050858</td>\n",
       "    </tr>\n",
       "    <tr>\n",
       "      <th>min</th>\n",
       "      <td>1.160000e+02</td>\n",
       "      <td>0.000000</td>\n",
       "    </tr>\n",
       "    <tr>\n",
       "      <th>25%</th>\n",
       "      <td>2.512230e+06</td>\n",
       "      <td>5.000000</td>\n",
       "    </tr>\n",
       "    <tr>\n",
       "      <th>50%</th>\n",
       "      <td>4.995815e+06</td>\n",
       "      <td>16.000000</td>\n",
       "    </tr>\n",
       "    <tr>\n",
       "      <th>75%</th>\n",
       "      <td>7.496452e+06</td>\n",
       "      <td>51.000000</td>\n",
       "    </tr>\n",
       "    <tr>\n",
       "      <th>max</th>\n",
       "      <td>9.999861e+06</td>\n",
       "      <td>49854.000000</td>\n",
       "    </tr>\n",
       "  </tbody>\n",
       "</table>\n",
       "</div>"
      ],
      "text/plain": [
       "             userid  sum_gamerounds\n",
       "count  9.018900e+04    90189.000000\n",
       "mean   4.998412e+06       51.872457\n",
       "std    2.883286e+06      195.050858\n",
       "min    1.160000e+02        0.000000\n",
       "25%    2.512230e+06        5.000000\n",
       "50%    4.995815e+06       16.000000\n",
       "75%    7.496452e+06       51.000000\n",
       "max    9.999861e+06    49854.000000"
      ]
     },
     "execution_count": 7,
     "metadata": {},
     "output_type": "execute_result"
    }
   ],
   "source": [
    "data.describe()"
   ]
  },
  {
   "cell_type": "code",
   "execution_count": 10,
   "id": "08fb5bcc-4295-4723-8ace-23615c7ea0b5",
   "metadata": {},
   "outputs": [
    {
     "data": {
      "text/plain": [
       "gate_30    44700\n",
       "gate_40    45489\n",
       "Name: version, dtype: int64"
      ]
     },
     "execution_count": 10,
     "metadata": {},
     "output_type": "execute_result"
    }
   ],
   "source": [
    "data.version.value_counts(ascending=True)"
   ]
  },
  {
   "cell_type": "code",
   "execution_count": 12,
   "id": "6cbf78dc-839b-4227-8f31-9b463deb32cf",
   "metadata": {},
   "outputs": [
    {
     "data": {
      "text/plain": [
       "True     40153\n",
       "False    50036\n",
       "Name: retention_1, dtype: int64"
      ]
     },
     "execution_count": 12,
     "metadata": {},
     "output_type": "execute_result"
    }
   ],
   "source": [
    "data.retention_1.value_counts(ascending=True)"
   ]
  },
  {
   "cell_type": "code",
   "execution_count": 13,
   "id": "21012557-faf0-4189-8ad6-11b28978a166",
   "metadata": {},
   "outputs": [
    {
     "data": {
      "text/plain": [
       "True     16781\n",
       "False    73408\n",
       "Name: retention_7, dtype: int64"
      ]
     },
     "execution_count": 13,
     "metadata": {},
     "output_type": "execute_result"
    }
   ],
   "source": [
    "data.retention_7.value_counts(ascending=True)"
   ]
  },
  {
   "cell_type": "code",
   "execution_count": 7,
   "id": "17836482-e540-457f-a057-705866d408f5",
   "metadata": {},
   "outputs": [
    {
     "data": {
      "text/html": [
       "<div>\n",
       "<style scoped>\n",
       "    .dataframe tbody tr th:only-of-type {\n",
       "        vertical-align: middle;\n",
       "    }\n",
       "\n",
       "    .dataframe tbody tr th {\n",
       "        vertical-align: top;\n",
       "    }\n",
       "\n",
       "    .dataframe thead th {\n",
       "        text-align: right;\n",
       "    }\n",
       "</style>\n",
       "<table border=\"1\" class=\"dataframe\">\n",
       "  <thead>\n",
       "    <tr style=\"text-align: right;\">\n",
       "      <th></th>\n",
       "      <th>id</th>\n",
       "      <th>converted</th>\n",
       "    </tr>\n",
       "  </thead>\n",
       "  <tbody>\n",
       "    <tr>\n",
       "      <th>count</th>\n",
       "      <td>35237.000000</td>\n",
       "      <td>35237.0</td>\n",
       "    </tr>\n",
       "    <tr>\n",
       "      <th>mean</th>\n",
       "      <td>788394.376962</td>\n",
       "      <td>1.0</td>\n",
       "    </tr>\n",
       "    <tr>\n",
       "      <th>std</th>\n",
       "      <td>91398.565565</td>\n",
       "      <td>0.0</td>\n",
       "    </tr>\n",
       "    <tr>\n",
       "      <th>min</th>\n",
       "      <td>630001.000000</td>\n",
       "      <td>1.0</td>\n",
       "    </tr>\n",
       "    <tr>\n",
       "      <th>25%</th>\n",
       "      <td>709555.000000</td>\n",
       "      <td>1.0</td>\n",
       "    </tr>\n",
       "    <tr>\n",
       "      <th>50%</th>\n",
       "      <td>787633.000000</td>\n",
       "      <td>1.0</td>\n",
       "    </tr>\n",
       "    <tr>\n",
       "      <th>75%</th>\n",
       "      <td>867831.000000</td>\n",
       "      <td>1.0</td>\n",
       "    </tr>\n",
       "    <tr>\n",
       "      <th>max</th>\n",
       "      <td>945991.000000</td>\n",
       "      <td>1.0</td>\n",
       "    </tr>\n",
       "  </tbody>\n",
       "</table>\n",
       "</div>"
      ],
      "text/plain": [
       "                  id  converted\n",
       "count   35237.000000    35237.0\n",
       "mean   788394.376962        1.0\n",
       "std     91398.565565        0.0\n",
       "min    630001.000000        1.0\n",
       "25%    709555.000000        1.0\n",
       "50%    787633.000000        1.0\n",
       "75%    867831.000000        1.0\n",
       "max    945991.000000        1.0"
      ]
     },
     "execution_count": 7,
     "metadata": {},
     "output_type": "execute_result"
    }
   ],
   "source": [
    "# data[data['converted']>0].describe()"
   ]
  },
  {
   "cell_type": "code",
   "execution_count": 14,
   "id": "443a6713-70ff-450f-84a0-fe743a1caf38",
   "metadata": {},
   "outputs": [
    {
     "data": {
      "text/plain": [
       "userid            0\n",
       "version           0\n",
       "sum_gamerounds    0\n",
       "retention_1       0\n",
       "retention_7       0\n",
       "dtype: int64"
      ]
     },
     "execution_count": 14,
     "metadata": {},
     "output_type": "execute_result"
    }
   ],
   "source": [
    "data.isna().sum()"
   ]
  },
  {
   "cell_type": "code",
   "execution_count": 59,
   "id": "4f0bda06-3f21-41ea-80ba-9a0a261c7ce5",
   "metadata": {},
   "outputs": [
    {
     "name": "stdout",
     "output_type": "stream",
     "text": [
      "20034,20119\n",
      "8502,8279\n"
     ]
    }
   ],
   "source": [
    "k1 = data[data['version']=='gate_30']['retention_1'].sum()\n",
    "k2 = data[data['version']=='gate_40']['retention_1'].sum()\n",
    "k1_7 = data[data['version']=='gate_30']['retention_7'].sum()\n",
    "k2_7 = data[data['version']=='gate_40']['retention_7'].sum()\n",
    "print(f'{k1},{k2}')\n",
    "print(f'{k1_7},{k2_7}')"
   ]
  },
  {
   "cell_type": "code",
   "execution_count": 15,
   "id": "feb27d74-3167-46cd-aff3-b23c87d71b0b",
   "metadata": {},
   "outputs": [
    {
     "name": "stdout",
     "output_type": "stream",
     "text": [
      "44700,45489\n"
     ]
    }
   ],
   "source": [
    "n1 = data[data['version']=='gate_30'].shape[0]\n",
    "n2 = data[data['version']=='gate_40'].shape[0]\n",
    "print(f'{n1},{n2}')"
   ]
  },
  {
   "cell_type": "code",
   "execution_count": 17,
   "id": "c5adc0a1-dd00-40ab-9cf0-3ee65f616241",
   "metadata": {},
   "outputs": [
    {
     "name": "stdout",
     "output_type": "stream",
     "text": [
      "0.4481879194630872\n"
     ]
    }
   ],
   "source": [
    "print(k1/n1)"
   ]
  },
  {
   "cell_type": "code",
   "execution_count": 18,
   "id": "bccaeece-6c21-4bf5-b3e2-bf263372790d",
   "metadata": {},
   "outputs": [
    {
     "name": "stdout",
     "output_type": "stream",
     "text": [
      "0.44228274967574577\n"
     ]
    }
   ],
   "source": [
    "print(k2/n2)"
   ]
  },
  {
   "cell_type": "code",
   "execution_count": 79,
   "id": "60435929-2a34-4952-be69-2cf0b9d84b94",
   "metadata": {},
   "outputs": [
    {
     "name": "stdout",
     "output_type": "stream",
     "text": [
      " Z score_1: 1.784, P-value_1: 0.074\n",
      " Z score_7: 3.164, P-value_7: 0.002\n"
     ]
    }
   ],
   "source": [
    "from statsmodels.stats import proportion\n",
    "retention1 = np.array([k1, k2])\n",
    "overall_gate = np.array([n1, n2])\n",
    "z_score, z_pvalue = proportion.proportions_ztest(count=retention1, nobs=overall_gate,  alternative='two-sided')\n",
    "print(f' Z score_1: {z_score:.3f}, P-value_1: {z_pvalue:.3f}')\n",
    "z_score, z_pvalue = proportion.proportions_ztest(np.array([k1_7, k2_7]), \n",
    "                                                   np.array([n1, n2]))\n",
    "print(f' Z score_7: {z_score:.3f}, P-value_7: {z_pvalue:.3f}')"
   ]
  },
  {
   "cell_type": "code",
   "execution_count": 77,
   "id": "ea31e831-410a-40b5-b6bd-d9c495d69452",
   "metadata": {},
   "outputs": [
    {
     "name": "stdout",
     "output_type": "stream",
     "text": [
      "Z-score and p-value 1-day: 1.784, 0.074\n",
      "Z-score and p-value 7-day: 3.164, 0.002\n"
     ]
    }
   ],
   "source": [
    "def ZandPcount(control,variant):\n",
    "    z_score, z_pvalue = proportion.proportions_ztest(np.array([control, variant]), np.array([n1, n2]))\n",
    "    return f'{z_score:.3f}, {z_pvalue:.3f}'\n",
    "print(f'Z-score and p-value 1-day: {ZandPcount(k1,k2)}\\nZ-score and p-value 7-day: {ZandPcount(k1_7,k2_7)}')"
   ]
  },
  {
   "cell_type": "code",
   "execution_count": 28,
   "id": "d9cdd930-85c2-48b4-b253-14c3f409123d",
   "metadata": {},
   "outputs": [
    {
     "name": "stdout",
     "output_type": "stream",
     "text": [
      "ChiSq: 3.183, P-value: 0.074\n"
     ]
    }
   ],
   "source": [
    "chisq, pvalue, table = proportion.proportions_chisquare(np.array([k1, k2]), \n",
    "                                                   np.array([n1, n2]))\n",
    "\n",
    "print(f'ChiSq: {chisq:.3f}, P-value: {pvalue:.3f}')"
   ]
  },
  {
   "cell_type": "markdown",
   "id": "8e0021b2-52da-46c4-8487-86ef15ba0b2f",
   "metadata": {
    "tags": []
   },
   "source": [
    "<b>Проверка мощности"
   ]
  },
  {
   "cell_type": "code",
   "execution_count": 43,
   "id": "130f035a-2459-4b39-88db-c997e6610c9c",
   "metadata": {},
   "outputs": [],
   "source": [
    "import math\n",
    "import statsmodels.stats.power as smp\n",
    "from statsmodels.stats.power import TTestIndPower\n",
    "from tqdm.notebook import tqdm\n",
    "from scipy import optimize\n",
    "\n",
    "\n",
    "plt.style.use('ggplot')"
   ]
  },
  {
   "cell_type": "markdown",
   "id": "134bf753-aa3e-40af-a565-58d9ed107c19",
   "metadata": {
    "tags": []
   },
   "source": [
    "#### Критерий пропорций (нужен для кликов, конверсий)"
   ]
  },
  {
   "cell_type": "code",
   "execution_count": 55,
   "id": "2e521ce2-7145-45bb-a24d-3130fcdd6d3c",
   "metadata": {},
   "outputs": [
    {
     "data": {
      "text/plain": [
       "0.011881898259223478"
      ]
     },
     "execution_count": 55,
     "metadata": {},
     "output_type": "execute_result"
    }
   ],
   "source": [
    "alpha = 0.05\n",
    "power = 0.95\n",
    "n = data.shape[0]\n",
    "p_x = k1/n1\n",
    "p_y = k2/n2\n",
    "\n",
    "h = 2*math.asin(np.sqrt(p_x)) - 2*math.asin(np.sqrt(p_y))\n",
    "# h - величина эффекта\n",
    "h"
   ]
  },
  {
   "cell_type": "markdown",
   "id": "70128d91-6fa6-4c3c-92c9-a9134d554c14",
   "metadata": {},
   "source": [
    "#### расчет мощности"
   ]
  },
  {
   "cell_type": "code",
   "execution_count": 56,
   "id": "b74ca8dc-69c0-491e-a288-87b7c052b7b4",
   "metadata": {},
   "outputs": [
    {
     "data": {
      "text/plain": [
       "0.7133585594607001"
      ]
     },
     "execution_count": 56,
     "metadata": {},
     "output_type": "execute_result"
    }
   ],
   "source": [
    "power = smp.zt_ind_solve_power(effect_size=h, nobs1=n, alpha=alpha, alternative='two-sided')\n",
    "power"
   ]
  },
  {
   "cell_type": "markdown",
   "id": "f199b8af-9f45-4a34-81fe-7b5370e837ca",
   "metadata": {},
   "source": [
    "#### Расчет количества наблюдений  необходимо для заданного эффекта при с alpha = 5% и power = 95%"
   ]
  },
  {
   "cell_type": "code",
   "execution_count": 58,
   "id": "57b331c6-357d-4285-a63d-8ea5a37487bb",
   "metadata": {},
   "outputs": [
    {
     "name": "stdout",
     "output_type": "stream",
     "text": [
      "Number to observe: 90189\n"
     ]
    }
   ],
   "source": [
    "number_to_observe = smp.zt_ind_solve_power(effect_size = h, alpha = alpha, power = power, alternative='two-sided')\n",
    "print(f'Number to observe: {number_to_observe:.0f}')"
   ]
  },
  {
   "cell_type": "code",
   "execution_count": 57,
   "id": "2f9cffd5-0444-4d9e-9a94-b2d2cb39d547",
   "metadata": {},
   "outputs": [
    {
     "name": "stdout",
     "output_type": "stream",
     "text": [
      "Maximum detectable effect size: 0.01\n"
     ]
    }
   ],
   "source": [
    "# effects = []\n",
    "sample_size = data.shape[0]\n",
    "power_analysis = TTestIndPower()\n",
    "def analysis(effect_size):\n",
    "    return power_analysis.solve_power(effect_size=effect_size, power=power, alpha = alpha) - sample_size\n",
    "    # for i in tqdm(range(10,1000)):\n",
    "    # return effects.append(smp.tt_ind_solve_power(effect_size=None,nobs1 = i, alpha = alpha, power = power))\n",
    "    # sample_sizes.append(i)\n",
    "print('Maximum detectable effect size: {0:.2f}'.format(optimize.root_scalar(analysis, bracket=[0.01, 1.0]).root))"
   ]
  },
  {
   "cell_type": "markdown",
   "id": "fa758b0e-169e-47ac-92ba-2b97598d2983",
   "metadata": {},
   "source": [
    "<b>Различия между группами не достоверны по показателю retention 1 day, достоверны по retention 7 day (однако проверка 2-сторонняя, поэтому различия могут быть со знаком минус). То есть различия есть, но в отрицательную сторону, нулевая гипотеза выглядит предпочтительнее в данном случае. \n",
    "<p><b>Вывод: изменения точки входа в игру после теста не принимаем"
   ]
  },
  {
   "cell_type": "code",
   "execution_count": null,
   "id": "ebf5020a-aef0-4dd1-9a35-935c34487511",
   "metadata": {},
   "outputs": [],
   "source": []
  }
 ],
 "metadata": {
  "kernelspec": {
   "display_name": "Python 3 (ipykernel)",
   "language": "python",
   "name": "python3"
  },
  "language_info": {
   "codemirror_mode": {
    "name": "ipython",
    "version": 3
   },
   "file_extension": ".py",
   "mimetype": "text/x-python",
   "name": "python",
   "nbconvert_exporter": "python",
   "pygments_lexer": "ipython3",
   "version": "3.9.13"
  }
 },
 "nbformat": 4,
 "nbformat_minor": 5
}
