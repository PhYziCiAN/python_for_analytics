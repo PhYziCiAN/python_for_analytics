{
 "cells": [
  {
   "cell_type": "markdown",
   "id": "266b8d0f-166e-4771-8266-89ca3e8a2f4e",
   "metadata": {},
   "source": [
    "### Семинар 2."
   ]
  },
  {
   "cell_type": "markdown",
   "id": "eaa103d6-34fe-4c0f-8c34-ce8f9023e175",
   "metadata": {},
   "source": [
    "#### Домашнее задание 1"
   ]
  },
  {
   "cell_type": "code",
   "execution_count": null,
   "id": "b88839dc-cd74-4950-ad17-66c1e420eeb8",
   "metadata": {},
   "outputs": [],
   "source": [
    "- Скачать данные по ссылке https://www.kaggle.com/datasets/esratmaria/house-price-dataset-with-other-information\n",
    "- Описание датасета\n",
    "- Считать данные с помощью pandas\n",
    "- Вывести на экран первые 5 строк\n",
    "- Посмотреть на описание признаков и на их содержание\n"
   ]
  },
  {
   "cell_type": "code",
   "execution_count": 5,
   "id": "6462cfa2-dee3-4832-80fa-1a1593fcc3ce",
   "metadata": {},
   "outputs": [
    {
     "ename": "SyntaxError",
     "evalue": "EOL while scanning string literal (3666015468.py, line 2)",
     "output_type": "error",
     "traceback": [
      "\u001b[1;36m  Input \u001b[1;32mIn [5]\u001b[1;36m\u001b[0m\n\u001b[1;33m    df = pd.read_csv('kc_house_data.csv, sep=',')\u001b[0m\n\u001b[1;37m                                                 ^\u001b[0m\n\u001b[1;31mSyntaxError\u001b[0m\u001b[1;31m:\u001b[0m EOL while scanning string literal\n"
     ]
    }
   ],
   "source": [
    "import pandas as pd\n",
    "df = pd.read_csv('kc_house_data.csv, sep=';')\n",
    "df.head()"
   ]
  },
  {
   "cell_type": "code",
   "execution_count": null,
   "id": "2fdb2f49-59c7-4404-8daf-3c00779105e8",
   "metadata": {},
   "outputs": [],
   "source": []
  }
 ],
 "metadata": {
  "kernelspec": {
   "display_name": "Python 3 (ipykernel)",
   "language": "python",
   "name": "python3"
  },
  "language_info": {
   "codemirror_mode": {
    "name": "ipython",
    "version": 3
   },
   "file_extension": ".py",
   "mimetype": "text/x-python",
   "name": "python",
   "nbconvert_exporter": "python",
   "pygments_lexer": "ipython3",
   "version": "3.9.12"
  }
 },
 "nbformat": 4,
 "nbformat_minor": 5
}
