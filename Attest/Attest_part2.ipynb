{
 "cells": [
  {
   "cell_type": "markdown",
   "id": "a43e4e5a-3384-4e86-bb62-fdfbe41e4ed9",
   "metadata": {},
   "source": [
    "3) Мы хотим провести А/Б-тест для трех источников трафика. Нынешняя конверсия равна 5%, мы ожидаем прирост в 0,2%. Уровень доверия 97% и уровень мощности 87%. Всего на наш продукт заходит 40 000 пользователей в месяц.<br>3.1) За сколько дней мы сможем протестировать гипотезу? И что вы можете посоветовать по результатам подсчета?<br> 3.2) Допустим в задаче нет проблемы с количеством посетителей на сайт, тогда подведите результаты тестирования, если у нас следующие результаты по количеству конверсии:<p> 1)25 000 <p>2)30 000<p> 3)32 000"
   ]
  },
  {
   "cell_type": "code",
   "execution_count": 2,
   "id": "293949df-ced5-4edb-a4ce-f4e2a9e04c5e",
   "metadata": {},
   "outputs": [],
   "source": [
    "from scipy.stats import ttest_1samp\n",
    "import numpy as np\n",
    "\n",
    "import warnings\n",
    "warnings.filterwarnings('ignore')\n",
    "warnings.warn('DelftStack')\n",
    "warnings.warn('Do not show this message')\n",
    "\n",
    "from scipy.stats import norm, t, kstest, shapiro\n",
    "import statsmodels.api as sm\n",
    "\n",
    "import matplotlib.pyplot as plt\n",
    "import seaborn as sns\n",
    "import pandas as pd\n",
    "import math\n",
    "import statsmodels.stats.power as smp\n",
    "import statsmodels.stats.api as sms\n",
    "from tqdm.notebook import tqdm\n",
    "from statsmodels.stats.proportion import proportions_ztest"
   ]
  },
  {
   "cell_type": "code",
   "execution_count": 25,
   "id": "03e41355-c643-4fc7-b1dc-39915678146c",
   "metadata": {},
   "outputs": [
    {
     "data": {
      "text/plain": [
       "-0.009091425586399637"
      ]
     },
     "execution_count": 25,
     "metadata": {},
     "output_type": "execute_result"
    }
   ],
   "source": [
    "conversion = 0.05\n",
    "increment = 0.002\n",
    "monthly_visitors = 40000\n",
    "conv1, conv2, conv3 = 25000, 30000, 32000\n",
    "# effect = increment/conversion\n",
    "effect_size = sms.proportion_effectsize(conversion, conversion+increment, method='normal')\n",
    "alpha = 0.03\n",
    "power = 0.87\n",
    "effect_size"
   ]
  },
  {
   "cell_type": "code",
   "execution_count": 28,
   "id": "fe527418-8c10-4a07-b4ad-4f5c50117d75",
   "metadata": {},
   "outputs": [
    {
     "name": "stdout",
     "output_type": "stream",
     "text": [
      "Number to observe: 262946, Ожидаемое количество конверсий 13673\n"
     ]
    }
   ],
   "source": [
    "number_to_observe = smp.zt_ind_solve_power(effect_size = effect_size, alpha = alpha, power = power)\n",
    "print(f'Number to observe: {number_to_observe:.0f}, Ожидаемое количество конверсий {number_to_observe*0.052:.0f}')"
   ]
  },
  {
   "cell_type": "code",
   "execution_count": 22,
   "id": "343de47e-f3d5-4e74-a3f1-c63ad7bc637b",
   "metadata": {},
   "outputs": [
    {
     "name": "stdout",
     "output_type": "stream",
     "text": [
      "Тест при количестве посетителей 40000 в месяц нужно проводить 6.57 месяцев\n"
     ]
    }
   ],
   "source": [
    "print(f'Тест при количестве посетителей 40000 в месяц нужно проводить {number_to_observe/monthly_visitors:.2f} месяцев')"
   ]
  },
  {
   "cell_type": "code",
   "execution_count": 36,
   "id": "933b36d4-1e36-41d2-abca-beb1bc28db44",
   "metadata": {},
   "outputs": [
    {
     "data": {
      "text/plain": [
       "'%.2f'"
      ]
     },
     "execution_count": 36,
     "metadata": {},
     "output_type": "execute_result"
    }
   ],
   "source": [
    "%precision 2"
   ]
  },
  {
   "cell_type": "code",
   "execution_count": 38,
   "id": "536245ab-d599-450f-a972-70477366a827",
   "metadata": {},
   "outputs": [
    {
     "data": {
      "text/plain": [
       "16.67"
      ]
     },
     "execution_count": 38,
     "metadata": {},
     "output_type": "execute_result"
    }
   ],
   "source": [
    "conversion_increment1 = 100-(conv1/conv2)*100\n",
    "conversion_increment1"
   ]
  },
  {
   "cell_type": "code",
   "execution_count": 39,
   "id": "74eaa34b-1df7-4031-a92c-638822225f01",
   "metadata": {},
   "outputs": [
    {
     "data": {
      "text/plain": [
       "6.25"
      ]
     },
     "execution_count": 39,
     "metadata": {},
     "output_type": "execute_result"
    }
   ],
   "source": [
    "conversion_increment2 = 100-(conv2/conv3)*100\n",
    "conversion_increment2"
   ]
  },
  {
   "cell_type": "code",
   "execution_count": null,
   "id": "82ff2201-571b-4e11-882f-df24544e6c83",
   "metadata": {},
   "outputs": [],
   "source": []
  }
 ],
 "metadata": {
  "kernelspec": {
   "display_name": "Python 3 (ipykernel)",
   "language": "python",
   "name": "python3"
  },
  "language_info": {
   "codemirror_mode": {
    "name": "ipython",
    "version": 3
   },
   "file_extension": ".py",
   "mimetype": "text/x-python",
   "name": "python",
   "nbconvert_exporter": "python",
   "pygments_lexer": "ipython3",
   "version": "3.9.15"
  }
 },
 "nbformat": 4,
 "nbformat_minor": 5
}
