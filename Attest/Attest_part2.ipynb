{
 "cells": [
  {
   "cell_type": "code",
   "execution_count": 39,
   "id": "28eed766-884d-4e30-9e3c-0a1d876bffd3",
   "metadata": {},
   "outputs": [],
   "source": [
    "from scipy.stats import ttest_1samp\n",
    "import numpy as np\n",
    "from scipy.stats import norm, t, kstest, shapiro\n",
    "import statsmodels.api as sm\n",
    "import pandas as pd\n",
    "import statsmodels.stats.power as smp\n",
    "import statsmodels.stats.api as sms\n",
    "from pandasql import sqldf\n",
    "# from scipy.stats import norm, t, kstest, shapiro\n",
    "# import statsmodels.api as sm\n",
    "# import math\n",
    "# import matplotlib.pyplot as plt\n",
    "# import seaborn as sns\n",
    "# import warnings\n",
    "# warnings.filterwarnings('ignore')\n",
    "# warnings.warn('DelftStack')\n",
    "# warnings.warn('Do not show this message')\n",
    "# from tqdm.notebook import tqdm\n",
    "# from statsmodels.stats.proportion import proportions_ztest"
   ]
  },
  {
   "cell_type": "markdown",
   "id": "ade57add-f72e-4dc6-9231-4a53acc105f5",
   "metadata": {
    "tags": []
   },
   "source": [
    "## Задание 2"
   ]
  },
  {
   "cell_type": "code",
   "execution_count": 16,
   "id": "47d13107-1ed4-406c-9231-aa3141f713e5",
   "metadata": {},
   "outputs": [],
   "source": [
    "data_csv = pd.read_csv('ab_stats.csv')"
   ]
  },
  {
   "cell_type": "code",
   "execution_count": 75,
   "id": "4d987ccb-803a-48d3-b5d0-42be2bf04512",
   "metadata": {},
   "outputs": [
    {
     "data": {
      "text/html": [
       "<div>\n",
       "<style scoped>\n",
       "    .dataframe tbody tr th:only-of-type {\n",
       "        vertical-align: middle;\n",
       "    }\n",
       "\n",
       "    .dataframe tbody tr th {\n",
       "        vertical-align: top;\n",
       "    }\n",
       "\n",
       "    .dataframe thead th {\n",
       "        text-align: right;\n",
       "    }\n",
       "</style>\n",
       "<table border=\"1\" class=\"dataframe\">\n",
       "  <thead>\n",
       "    <tr style=\"text-align: right;\">\n",
       "      <th></th>\n",
       "      <th>revenue</th>\n",
       "      <th>num_purchases</th>\n",
       "      <th>purchase</th>\n",
       "      <th>ab_group</th>\n",
       "      <th>av_site visit</th>\n",
       "    </tr>\n",
       "  </thead>\n",
       "  <tbody>\n",
       "    <tr>\n",
       "      <th>0</th>\n",
       "      <td>0.0</td>\n",
       "      <td>0</td>\n",
       "      <td>0</td>\n",
       "      <td>A</td>\n",
       "      <td>9.040174</td>\n",
       "    </tr>\n",
       "    <tr>\n",
       "      <th>1</th>\n",
       "      <td>0.0</td>\n",
       "      <td>0</td>\n",
       "      <td>0</td>\n",
       "      <td>A</td>\n",
       "      <td>4.811628</td>\n",
       "    </tr>\n",
       "    <tr>\n",
       "      <th>2</th>\n",
       "      <td>0.0</td>\n",
       "      <td>0</td>\n",
       "      <td>0</td>\n",
       "      <td>A</td>\n",
       "      <td>7.342623</td>\n",
       "    </tr>\n",
       "    <tr>\n",
       "      <th>3</th>\n",
       "      <td>0.0</td>\n",
       "      <td>0</td>\n",
       "      <td>0</td>\n",
       "      <td>A</td>\n",
       "      <td>7.744581</td>\n",
       "    </tr>\n",
       "    <tr>\n",
       "      <th>4</th>\n",
       "      <td>0.0</td>\n",
       "      <td>0</td>\n",
       "      <td>0</td>\n",
       "      <td>A</td>\n",
       "      <td>10.511814</td>\n",
       "    </tr>\n",
       "    <tr>\n",
       "      <th>...</th>\n",
       "      <td>...</td>\n",
       "      <td>...</td>\n",
       "      <td>...</td>\n",
       "      <td>...</td>\n",
       "      <td>...</td>\n",
       "    </tr>\n",
       "    <tr>\n",
       "      <th>23647</th>\n",
       "      <td>0.0</td>\n",
       "      <td>0</td>\n",
       "      <td>0</td>\n",
       "      <td>B</td>\n",
       "      <td>10.207152</td>\n",
       "    </tr>\n",
       "    <tr>\n",
       "      <th>23648</th>\n",
       "      <td>0.0</td>\n",
       "      <td>0</td>\n",
       "      <td>0</td>\n",
       "      <td>B</td>\n",
       "      <td>5.148761</td>\n",
       "    </tr>\n",
       "    <tr>\n",
       "      <th>23649</th>\n",
       "      <td>0.0</td>\n",
       "      <td>0</td>\n",
       "      <td>0</td>\n",
       "      <td>B</td>\n",
       "      <td>4.809019</td>\n",
       "    </tr>\n",
       "    <tr>\n",
       "      <th>23650</th>\n",
       "      <td>0.0</td>\n",
       "      <td>0</td>\n",
       "      <td>0</td>\n",
       "      <td>B</td>\n",
       "      <td>8.127488</td>\n",
       "    </tr>\n",
       "    <tr>\n",
       "      <th>23651</th>\n",
       "      <td>0.0</td>\n",
       "      <td>0</td>\n",
       "      <td>0</td>\n",
       "      <td>B</td>\n",
       "      <td>8.928102</td>\n",
       "    </tr>\n",
       "  </tbody>\n",
       "</table>\n",
       "<p>23652 rows × 5 columns</p>\n",
       "</div>"
      ],
      "text/plain": [
       "       revenue  num_purchases  purchase ab_group  av_site visit\n",
       "0          0.0              0         0        A       9.040174\n",
       "1          0.0              0         0        A       4.811628\n",
       "2          0.0              0         0        A       7.342623\n",
       "3          0.0              0         0        A       7.744581\n",
       "4          0.0              0         0        A      10.511814\n",
       "...        ...            ...       ...      ...            ...\n",
       "23647      0.0              0         0        B      10.207152\n",
       "23648      0.0              0         0        B       5.148761\n",
       "23649      0.0              0         0        B       4.809019\n",
       "23650      0.0              0         0        B       8.127488\n",
       "23651      0.0              0         0        B       8.928102\n",
       "\n",
       "[23652 rows x 5 columns]"
      ]
     },
     "execution_count": 75,
     "metadata": {},
     "output_type": "execute_result"
    }
   ],
   "source": [
    "data_csv"
   ]
  },
  {
   "cell_type": "code",
   "execution_count": 104,
   "id": "81f54efe-11b9-498f-99fb-0f87693a52e1",
   "metadata": {},
   "outputs": [
    {
     "data": {
      "text/plain": [
       "1.990000     42\n",
       "4.990000     22\n",
       "2.990000     16\n",
       "29.980000     6\n",
       "14.990000     5\n",
       "             ..\n",
       "3.488343      1\n",
       "0.991949      1\n",
       "4.980000      1\n",
       "0.996660      1\n",
       "3.667866      1\n",
       "Name: revenue, Length: 374, dtype: int64"
      ]
     },
     "execution_count": 104,
     "metadata": {},
     "output_type": "execute_result"
    }
   ],
   "source": [
    "data_csv.revenue.value_counts()"
   ]
  },
  {
   "cell_type": "code",
   "execution_count": 95,
   "id": "a3fa6c18-103e-45ff-8175-ecfc59b99067",
   "metadata": {},
   "outputs": [],
   "source": [
    "data_csv['ARPPU'] = data_csv['revenue']/490\n",
    "data_csv = data_csv[data_csv['ARPPU']>0]"
   ]
  },
  {
   "cell_type": "code",
   "execution_count": 101,
   "id": "6b641be6-c132-4359-b2ef-02f61823d38d",
   "metadata": {},
   "outputs": [
    {
     "data": {
      "text/plain": [
       "45       0.003848\n",
       "54       0.002045\n",
       "82       0.006102\n",
       "104      0.102020\n",
       "110      0.045089\n",
       "           ...   \n",
       "11682    0.004061\n",
       "11758    0.030638\n",
       "11781    0.041473\n",
       "11803    0.027744\n",
       "11807    0.014265\n",
       "Name: ARPPU, Length: 241, dtype: float64"
      ]
     },
     "execution_count": 101,
     "metadata": {},
     "output_type": "execute_result"
    }
   ],
   "source": [
    "df_temp = data_csv['ARPPU'][(data_csv['ab_group'] == 'A')&(data_csv['revenue'] > 1)&(data_csv['ARPPU'] > 0)]\n",
    "df_temp = df_temp[df_temp>0]\n",
    "df_temp\n",
    "# df_temp.sort_values(by=['ARPPU'],inplace=True)"
   ]
  },
  {
   "cell_type": "code",
   "execution_count": 93,
   "id": "3e090bc4-29bd-4b64-a056-93fb9a1893c7",
   "metadata": {},
   "outputs": [
    {
     "data": {
      "text/plain": [
       "0.00"
      ]
     },
     "execution_count": 93,
     "metadata": {},
     "output_type": "execute_result"
    }
   ],
   "source": [
    "df_tempB = data_csv['ARPPU'][(data_csv['ab_group'] == 'B')&(data_csv['revenue'] > 1)]\n",
    "df_tempB.sort_values(inplace=True)\n",
    "df_tempB"
   ]
  },
  {
   "cell_type": "code",
   "execution_count": 91,
   "id": "a1ce8d03-48e8-4b57-be53-04bade11dc75",
   "metadata": {},
   "outputs": [
    {
     "data": {
      "text/plain": [
       "array([2.05e-03, 2.05e-03, 2.48e-03, 2.49e-03, 2.52e-03, 2.53e-03,\n",
       "       2.56e-03, 2.61e-03, 2.69e-03, 2.89e-03, 2.97e-03, 2.97e-03,\n",
       "       3.00e-03, 3.00e-03, 3.04e-03, 3.05e-03, 3.09e-03, 3.10e-03,\n",
       "       3.11e-03, 3.23e-03, 3.74e-03, 3.85e-03, 4.03e-03, 4.03e-03,\n",
       "       4.06e-03, 4.06e-03, 4.06e-03, 4.06e-03, 4.06e-03, 4.06e-03,\n",
       "       4.06e-03, 4.06e-03, 4.06e-03, 4.06e-03, 4.06e-03, 4.06e-03,\n",
       "       4.06e-03, 4.06e-03, 4.06e-03, 4.06e-03, 4.06e-03, 4.06e-03,\n",
       "       4.06e-03, 4.06e-03, 4.09e-03, 4.35e-03, 4.40e-03, 4.70e-03,\n",
       "       4.73e-03, 4.73e-03, 4.77e-03, 4.81e-03, 4.81e-03, 4.87e-03,\n",
       "       4.88e-03, 4.96e-03, 4.98e-03, 4.98e-03, 4.98e-03, 4.98e-03,\n",
       "       4.99e-03, 4.99e-03, 4.99e-03, 4.99e-03, 5.00e-03, 5.03e-03,\n",
       "       5.06e-03, 5.08e-03, 5.09e-03, 5.10e-03, 5.10e-03, 5.11e-03,\n",
       "       5.11e-03, 5.12e-03, 5.15e-03, 5.47e-03, 5.51e-03, 5.66e-03,\n",
       "       5.73e-03, 5.77e-03, 6.10e-03, 6.10e-03, 6.10e-03, 6.10e-03,\n",
       "       6.10e-03, 6.10e-03, 6.43e-03, 6.66e-03, 6.66e-03, 6.67e-03,\n",
       "       7.00e-03, 7.12e-03, 7.30e-03, 7.46e-03, 7.49e-03, 7.51e-03,\n",
       "       7.51e-03, 7.52e-03, 7.59e-03, 7.73e-03, 7.99e-03, 7.99e-03,\n",
       "       7.99e-03, 8.02e-03, 8.12e-03, 8.12e-03, 8.13e-03, 8.14e-03,\n",
       "       8.14e-03, 8.32e-03, 8.32e-03, 8.39e-03, 8.74e-03, 8.74e-03,\n",
       "       9.32e-03, 9.98e-03, 1.01e-02, 1.02e-02, 1.02e-02, 1.02e-02,\n",
       "       1.02e-02, 1.02e-02, 1.02e-02, 1.02e-02, 1.02e-02, 1.02e-02,\n",
       "       1.02e-02, 1.02e-02, 1.02e-02, 1.10e-02, 1.11e-02, 1.12e-02,\n",
       "       1.13e-02, 1.14e-02, 1.21e-02, 1.21e-02, 1.22e-02, 1.22e-02,\n",
       "       1.22e-02, 1.22e-02, 1.23e-02, 1.24e-02, 1.25e-02, 1.25e-02,\n",
       "       1.25e-02, 1.25e-02, 1.25e-02, 1.26e-02, 1.26e-02, 1.34e-02,\n",
       "       1.38e-02, 1.42e-02, 1.42e-02, 1.42e-02, 1.42e-02, 1.43e-02,\n",
       "       1.50e-02, 1.66e-02, 1.69e-02, 1.78e-02, 1.83e-02, 1.94e-02,\n",
       "       2.00e-02, 2.03e-02, 2.03e-02, 2.04e-02, 2.04e-02, 2.04e-02,\n",
       "       2.04e-02, 2.04e-02, 2.06e-02, 2.10e-02, 2.11e-02, 2.25e-02,\n",
       "       2.26e-02, 2.29e-02, 2.43e-02, 2.44e-02, 2.44e-02, 2.44e-02,\n",
       "       2.50e-02, 2.51e-02, 2.51e-02, 2.59e-02, 2.77e-02, 2.81e-02,\n",
       "       2.85e-02, 2.98e-02, 3.01e-02, 3.01e-02, 3.03e-02, 3.06e-02,\n",
       "       3.06e-02, 3.06e-02, 3.06e-02, 3.48e-02, 3.75e-02, 3.76e-02,\n",
       "       3.97e-02, 4.08e-02, 4.08e-02, 4.08e-02, 4.13e-02, 4.15e-02,\n",
       "       4.22e-02, 4.30e-02, 4.51e-02, 4.51e-02, 4.53e-02, 4.84e-02,\n",
       "       5.10e-02, 5.30e-02, 5.51e-02, 5.99e-02, 6.12e-02, 6.12e-02,\n",
       "       6.12e-02, 6.51e-02, 6.51e-02, 7.13e-02, 7.14e-02, 8.16e-02,\n",
       "       8.72e-02, 9.17e-02, 9.58e-02, 1.00e-01, 1.02e-01, 1.15e-01,\n",
       "       1.23e-01, 1.31e-01, 1.33e-01, 1.33e-01, 1.41e-01, 1.63e-01,\n",
       "       1.73e-01, 2.04e-01, 2.78e-01, 3.88e-01, 4.25e-01, 8.20e-01,\n",
       "       2.66e+00])"
      ]
     },
     "execution_count": 91,
     "metadata": {},
     "output_type": "execute_result"
    }
   ],
   "source": [
    "A = df_temp.to_numpy()\n",
    "A"
   ]
  },
  {
   "cell_type": "code",
   "execution_count": 90,
   "id": "203c6ca9-d635-4e28-8571-ea3da2e0dec5",
   "metadata": {},
   "outputs": [
    {
     "data": {
      "text/plain": [
       "array([0.  , 0.  , 0.  , 0.  , 0.  , 0.  , 0.  , 0.  , 0.  , 0.  , 0.  ,\n",
       "       0.  , 0.  , 0.  , 0.  , 0.  , 0.  , 0.  , 0.  , 0.  , 0.  , 0.  ,\n",
       "       0.  , 0.  , 0.  , 0.  , 0.  , 0.  , 0.  , 0.  , 0.  , 0.  , 0.  ,\n",
       "       0.  , 0.  , 0.  , 0.  , 0.  , 0.  , 0.  , 0.  , 0.  , 0.  , 0.  ,\n",
       "       0.  , 0.  , 0.  , 0.  , 0.  , 0.  , 0.  , 0.  , 0.  , 0.  , 0.  ,\n",
       "       0.  , 0.  , 0.  , 0.  , 0.  , 0.  , 0.  , 0.  , 0.  , 0.  , 0.  ,\n",
       "       0.01, 0.01, 0.01, 0.01, 0.01, 0.01, 0.01, 0.01, 0.01, 0.01, 0.01,\n",
       "       0.01, 0.01, 0.01, 0.01, 0.01, 0.01, 0.01, 0.01, 0.01, 0.01, 0.01,\n",
       "       0.01, 0.01, 0.01, 0.01, 0.01, 0.01, 0.01, 0.01, 0.01, 0.01, 0.01,\n",
       "       0.01, 0.01, 0.01, 0.01, 0.01, 0.01, 0.01, 0.01, 0.01, 0.01, 0.01,\n",
       "       0.01, 0.01, 0.01, 0.01, 0.01, 0.01, 0.01, 0.01, 0.01, 0.01, 0.01,\n",
       "       0.01, 0.01, 0.01, 0.01, 0.01, 0.01, 0.01, 0.01, 0.01, 0.01, 0.01,\n",
       "       0.01, 0.01, 0.01, 0.01, 0.01, 0.01, 0.01, 0.01, 0.01, 0.01, 0.01,\n",
       "       0.01, 0.01, 0.01, 0.02, 0.02, 0.02, 0.02, 0.02, 0.02, 0.02, 0.02,\n",
       "       0.02, 0.02, 0.02, 0.02, 0.02, 0.02, 0.02, 0.02, 0.02, 0.02, 0.02,\n",
       "       0.02, 0.02, 0.03, 0.03, 0.03, 0.03, 0.03, 0.03, 0.03, 0.03, 0.03,\n",
       "       0.03, 0.04, 0.04, 0.04, 0.04, 0.04, 0.04, 0.04, 0.05, 0.05, 0.05,\n",
       "       0.05, 0.05, 0.05, 0.06, 0.06, 0.06, 0.06, 0.06, 0.06, 0.06, 0.06,\n",
       "       0.06, 0.06, 0.07, 0.07, 0.07, 0.07, 0.08, 0.08, 0.08, 0.09, 0.09,\n",
       "       0.09, 0.1 , 0.1 , 0.1 , 0.1 , 0.1 , 0.11, 0.12, 0.13, 0.13, 0.14,\n",
       "       0.14, 0.15, 0.16, 0.2 , 0.23, 0.23])"
      ]
     },
     "execution_count": 90,
     "metadata": {},
     "output_type": "execute_result"
    }
   ],
   "source": [
    "B = df_tempB.to_numpy()\n",
    "B"
   ]
  },
  {
   "cell_type": "code",
   "execution_count": 61,
   "id": "4c56b7c5-5526-4f1c-b364-c611f20cf561",
   "metadata": {},
   "outputs": [
    {
     "name": "stdout",
     "output_type": "stream",
     "text": [
      "Shapiro-Wilk normality test for A\n",
      "W = 0.1574382185935974\n",
      "P-value = 6.092845722884305e-42\n"
     ]
    }
   ],
   "source": [
    "W, p_val = shapiro(A)\n",
    "print(\"Shapiro-Wilk normality test for A\")\n",
    "print(\"W =\", W)\n",
    "print(\"P-value =\", p_val)"
   ]
  },
  {
   "cell_type": "code",
   "execution_count": 62,
   "id": "c5cb7efa-73bc-4e36-85f3-9470991a5045",
   "metadata": {},
   "outputs": [
    {
     "name": "stdout",
     "output_type": "stream",
     "text": [
      "Shapiro-Wilk normality test for B\n",
      "W = 0.1574382185935974\n",
      "P-value = 6.092845722884305e-42\n"
     ]
    }
   ],
   "source": [
    "W, p_val = shapiro(B)\n",
    "print(\"Shapiro-Wilk normality test for B\")\n",
    "print(\"W =\", W)\n",
    "print(\"P-value =\", p_val)"
   ]
  },
  {
   "cell_type": "code",
   "execution_count": null,
   "id": "4ea106c3-3dc7-4fd0-a003-0426f04eaee5",
   "metadata": {},
   "outputs": [
    {
     "data": {
      "text/plain": [
       "MannwhitneyuResult(statistic=120050.0, pvalue=1.0)"
      ]
     },
     "execution_count": 67,
     "metadata": {},
     "output_type": "execute_result"
    }
   ],
   "source": [
    "from scipy.stats import mannwhitneyu\n",
    "\n",
    "mw_stats = mannwhitneyu(x=A, y=B)\n",
    "mw_stats"
   ]
  },
  {
   "cell_type": "markdown",
   "id": "af89d82c-5008-4611-a63a-d20a54f282e0",
   "metadata": {},
   "source": [
    " Получается, что показатели ARPPU имеют ненормальное распределение, значит нужно применять непараметрические критерии.\n",
    " Достоверной разницы между группой А и B не выявлено, значит остается нулевая гипотеза (А), нужно придумывать и тестировать другую гипотезу."
   ]
  },
  {
   "cell_type": "markdown",
   "id": "a43e4e5a-3384-4e86-bb62-fdfbe41e4ed9",
   "metadata": {
    "tags": []
   },
   "source": [
    "## Задание 3\n",
    "3) Мы хотим провести А/Б-тест для трех источников трафика. Нынешняя конверсия равна 5%, мы ожидаем прирост в 0,2%. Уровень доверия 97% и уровень мощности 87%. Всего на наш продукт заходит 40 000 пользователей в месяц.<br>3.1) За сколько дней мы сможем протестировать гипотезу? И что вы можете посоветовать по результатам подсчета?<br> 3.2) Допустим в задаче нет проблемы с количеством посетителей на сайт, тогда подведите результаты тестирования, если у нас следующие результаты по количеству конверсии:<p> \n",
    "    1. 25 000 \n",
    "    2. 30 000 \n",
    "    3. 32 000"
   ]
  },
  {
   "cell_type": "code",
   "execution_count": 3,
   "id": "03e41355-c643-4fc7-b1dc-39915678146c",
   "metadata": {},
   "outputs": [
    {
     "data": {
      "text/plain": [
       "-0.009091425586399637"
      ]
     },
     "execution_count": 3,
     "metadata": {},
     "output_type": "execute_result"
    }
   ],
   "source": [
    "conversion = 0.05\n",
    "increment = 0.002\n",
    "monthly_visitors = 40000\n",
    "conv1, conv2, conv3 = 25000, 30000, 32000\n",
    "# effect = increment/conversion\n",
    "effect_size = sms.proportion_effectsize(conversion, conversion+increment, method='normal')\n",
    "alpha = 0.03\n",
    "power = 0.87\n",
    "effect_size"
   ]
  },
  {
   "cell_type": "code",
   "execution_count": 4,
   "id": "fe527418-8c10-4a07-b4ad-4f5c50117d75",
   "metadata": {},
   "outputs": [
    {
     "name": "stdout",
     "output_type": "stream",
     "text": [
      "Number to observe: 262946, Ожидаемое количество конверсий 13673\n"
     ]
    }
   ],
   "source": [
    "number_to_observe = smp.zt_ind_solve_power(effect_size = effect_size, alpha = alpha, power = power)\n",
    "print(f'Number to observe: {number_to_observe:.0f}, Ожидаемое количество конверсий {number_to_observe*0.052:.0f}')"
   ]
  },
  {
   "cell_type": "code",
   "execution_count": 5,
   "id": "343de47e-f3d5-4e74-a3f1-c63ad7bc637b",
   "metadata": {},
   "outputs": [
    {
     "name": "stdout",
     "output_type": "stream",
     "text": [
      "При количестве пользователей 40000 в месяц тест нужно проводить 6.57 месяцев\n"
     ]
    }
   ],
   "source": [
    "print(f'При количестве пользователей 40000 в месяц тест нужно проводить {number_to_observe/monthly_visitors:.2f} месяцев')"
   ]
  },
  {
   "cell_type": "code",
   "execution_count": 10,
   "id": "933b36d4-1e36-41d2-abca-beb1bc28db44",
   "metadata": {},
   "outputs": [
    {
     "data": {
      "text/plain": [
       "'%.2f'"
      ]
     },
     "execution_count": 10,
     "metadata": {},
     "output_type": "execute_result"
    }
   ],
   "source": [
    "%precision 2"
   ]
  },
  {
   "cell_type": "code",
   "execution_count": 11,
   "id": "536245ab-d599-450f-a972-70477366a827",
   "metadata": {},
   "outputs": [
    {
     "name": "stdout",
     "output_type": "stream",
     "text": [
      "Конверсия  в первом случае выросла на 16.7 %\n"
     ]
    }
   ],
   "source": [
    "conversion_increment1 = 100-(conv1/conv2)*100\n",
    "print (f'Конверсия  в первом случае выросла на {conversion_increment1:.1f} %')"
   ]
  },
  {
   "cell_type": "code",
   "execution_count": 12,
   "id": "74eaa34b-1df7-4031-a92c-638822225f01",
   "metadata": {},
   "outputs": [
    {
     "name": "stdout",
     "output_type": "stream",
     "text": [
      "Конверсия  во втором случае выросла на 6.2 %\n"
     ]
    }
   ],
   "source": [
    "conversion_increment2 = 100-(conv2/conv3)*100\n",
    "print (f'Конверсия  во втором случае выросла на {conversion_increment2:.1f} %')"
   ]
  },
  {
   "cell_type": "code",
   "execution_count": null,
   "id": "82ff2201-571b-4e11-882f-df24544e6c83",
   "metadata": {},
   "outputs": [],
   "source": []
  }
 ],
 "metadata": {
  "kernelspec": {
   "display_name": "Python 3 (ipykernel)",
   "language": "python",
   "name": "python3"
  },
  "language_info": {
   "codemirror_mode": {
    "name": "ipython",
    "version": 3
   },
   "file_extension": ".py",
   "mimetype": "text/x-python",
   "name": "python",
   "nbconvert_exporter": "python",
   "pygments_lexer": "ipython3",
   "version": "3.9.15"
  }
 },
 "nbformat": 4,
 "nbformat_minor": 5
}
