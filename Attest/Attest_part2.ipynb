{
 "cells": [
  {
   "cell_type": "code",
   "execution_count": 106,
   "id": "28eed766-884d-4e30-9e3c-0a1d876bffd3",
   "metadata": {},
   "outputs": [],
   "source": [
    "from scipy.stats import ttest_1samp, ttest_ind_from_stats\n",
    "import numpy as np\n",
    "from scipy.stats import norm, t, kstest, shapiro\n",
    "import pandas as pd\n",
    "import statsmodels.stats.power as smp\n",
    "import statsmodels.stats.api as sms\n",
    "# import statsmodels.api as sm\n",
    "from pandasql import sqldf\n",
    "# import statsmodels.api as sm\n",
    "# import math\n",
    "# import matplotlib.pyplot as plt\n",
    "# import seaborn as sns\n",
    "# import warnings\n",
    "# warnings.filterwarnings('ignore')\n",
    "# warnings.warn('DelftStack')\n",
    "# warnings.warn('Do not show this message')\n",
    "# from tqdm.notebook import tqdm\n",
    "from statsmodels.stats.proportion import proportions_ztest"
   ]
  },
  {
   "cell_type": "markdown",
   "id": "ade57add-f72e-4dc6-9231-4a53acc105f5",
   "metadata": {
    "tags": []
   },
   "source": [
    "<div style=\"font-family:Papyrus;text-align:center;color:orange;font-size:35px;\">\n",
    "Задание 2\n",
    "</div>"
   ]
  },
  {
   "cell_type": "markdown",
   "id": "1646b29d-30b4-4ff3-a2f0-ebd456caa86a",
   "metadata": {},
   "source": [
    "Подведите результаты эксперимента в экселе по следующим данным: ab_stats.csv (https://drive.google.com/file/d/1XYk_NrBvrpx9IEA-_0gSndcINuoGudW6/view) - Google Диск: Стат значимо ли отличается ARPPU в двух группах ? Какие рекомендации дадите менеджеру?"
   ]
  },
  {
   "cell_type": "markdown",
   "id": "395067ba-5c7f-4afa-9258-7f9585bcbc6b",
   "metadata": {},
   "source": [
    "Сделано в ***Excel***, тут просто решил проверить."
   ]
  },
  {
   "cell_type": "code",
   "execution_count": 2,
   "id": "47d13107-1ed4-406c-9231-aa3141f713e5",
   "metadata": {},
   "outputs": [],
   "source": [
    "data_csv = pd.read_csv('ab_stats.csv')"
   ]
  },
  {
   "cell_type": "code",
   "execution_count": 21,
   "id": "62fdeef3-b6c3-46c6-93cc-90cc54a91707",
   "metadata": {},
   "outputs": [
    {
     "name": "stdout",
     "output_type": "stream",
     "text": [
      "<class 'pandas.core.frame.DataFrame'>\n",
      "RangeIndex: 23652 entries, 0 to 23651\n",
      "Data columns (total 5 columns):\n",
      " #   Column         Non-Null Count  Dtype  \n",
      "---  ------         --------------  -----  \n",
      " 0   revenue        23652 non-null  float64\n",
      " 1   num_purchases  23652 non-null  int64  \n",
      " 2   purchase       23652 non-null  int64  \n",
      " 3   ab_group       23652 non-null  object \n",
      " 4   av_site visit  23652 non-null  float64\n",
      "dtypes: float64(2), int64(2), object(1)\n",
      "memory usage: 924.0+ KB\n"
     ]
    }
   ],
   "source": [
    "data_csv.info()"
   ]
  },
  {
   "cell_type": "code",
   "execution_count": 49,
   "id": "53a14250-63b3-466b-bf52-58df355fb331",
   "metadata": {},
   "outputs": [],
   "source": [
    "query = query = 'SELECT \"revenue\", \"purchase\", \"ab_group\" FROM data_csv WHERE \"purchase\"=1;'\n",
    "result = sqldf(query)"
   ]
  },
  {
   "cell_type": "code",
   "execution_count": null,
   "id": "d9b0f982-298a-48f3-b487-aaf9c24a28c6",
   "metadata": {},
   "outputs": [],
   "source": [
    "# result['ARPPU'] = result.revenue.div(490)\n",
    "# result['ARPPU'].value_counts()\n",
    "# result.value_counts()\n",
    "# result.info()\n",
    "df_s = result['revenue'].to_numpy()\n",
    "df_s"
   ]
  },
  {
   "cell_type": "code",
   "execution_count": null,
   "id": "9eda2d53-55a2-43d8-9f22-3d56b4a322d7",
   "metadata": {},
   "outputs": [],
   "source": [
    "s = df_s/490\n",
    "s"
   ]
  },
  {
   "cell_type": "code",
   "execution_count": 52,
   "id": "c17a1045-6d91-48a7-87b2-48b44290df58",
   "metadata": {},
   "outputs": [
    {
     "data": {
      "text/html": [
       "<div>\n",
       "<style scoped>\n",
       "    .dataframe tbody tr th:only-of-type {\n",
       "        vertical-align: middle;\n",
       "    }\n",
       "\n",
       "    .dataframe tbody tr th {\n",
       "        vertical-align: top;\n",
       "    }\n",
       "\n",
       "    .dataframe thead th {\n",
       "        text-align: right;\n",
       "    }\n",
       "</style>\n",
       "<table border=\"1\" class=\"dataframe\">\n",
       "  <thead>\n",
       "    <tr style=\"text-align: right;\">\n",
       "      <th></th>\n",
       "      <th>revenue</th>\n",
       "      <th>num_purchases</th>\n",
       "      <th>purchase</th>\n",
       "      <th>ab_group</th>\n",
       "      <th>av_site visit</th>\n",
       "    </tr>\n",
       "  </thead>\n",
       "  <tbody>\n",
       "    <tr>\n",
       "      <th>0</th>\n",
       "      <td>False</td>\n",
       "      <td>False</td>\n",
       "      <td>False</td>\n",
       "      <td>True</td>\n",
       "      <td>False</td>\n",
       "    </tr>\n",
       "    <tr>\n",
       "      <th>1</th>\n",
       "      <td>False</td>\n",
       "      <td>False</td>\n",
       "      <td>False</td>\n",
       "      <td>True</td>\n",
       "      <td>False</td>\n",
       "    </tr>\n",
       "    <tr>\n",
       "      <th>2</th>\n",
       "      <td>False</td>\n",
       "      <td>False</td>\n",
       "      <td>False</td>\n",
       "      <td>True</td>\n",
       "      <td>False</td>\n",
       "    </tr>\n",
       "    <tr>\n",
       "      <th>3</th>\n",
       "      <td>False</td>\n",
       "      <td>False</td>\n",
       "      <td>False</td>\n",
       "      <td>True</td>\n",
       "      <td>False</td>\n",
       "    </tr>\n",
       "    <tr>\n",
       "      <th>4</th>\n",
       "      <td>False</td>\n",
       "      <td>False</td>\n",
       "      <td>False</td>\n",
       "      <td>True</td>\n",
       "      <td>False</td>\n",
       "    </tr>\n",
       "    <tr>\n",
       "      <th>...</th>\n",
       "      <td>...</td>\n",
       "      <td>...</td>\n",
       "      <td>...</td>\n",
       "      <td>...</td>\n",
       "      <td>...</td>\n",
       "    </tr>\n",
       "    <tr>\n",
       "      <th>23647</th>\n",
       "      <td>False</td>\n",
       "      <td>False</td>\n",
       "      <td>False</td>\n",
       "      <td>True</td>\n",
       "      <td>False</td>\n",
       "    </tr>\n",
       "    <tr>\n",
       "      <th>23648</th>\n",
       "      <td>False</td>\n",
       "      <td>False</td>\n",
       "      <td>False</td>\n",
       "      <td>True</td>\n",
       "      <td>False</td>\n",
       "    </tr>\n",
       "    <tr>\n",
       "      <th>23649</th>\n",
       "      <td>False</td>\n",
       "      <td>False</td>\n",
       "      <td>False</td>\n",
       "      <td>True</td>\n",
       "      <td>False</td>\n",
       "    </tr>\n",
       "    <tr>\n",
       "      <th>23650</th>\n",
       "      <td>False</td>\n",
       "      <td>False</td>\n",
       "      <td>False</td>\n",
       "      <td>True</td>\n",
       "      <td>False</td>\n",
       "    </tr>\n",
       "    <tr>\n",
       "      <th>23651</th>\n",
       "      <td>False</td>\n",
       "      <td>False</td>\n",
       "      <td>False</td>\n",
       "      <td>True</td>\n",
       "      <td>False</td>\n",
       "    </tr>\n",
       "  </tbody>\n",
       "</table>\n",
       "<p>23652 rows × 5 columns</p>\n",
       "</div>"
      ],
      "text/plain": [
       "       revenue  num_purchases  purchase  ab_group  av_site visit\n",
       "0        False          False     False      True          False\n",
       "1        False          False     False      True          False\n",
       "2        False          False     False      True          False\n",
       "3        False          False     False      True          False\n",
       "4        False          False     False      True          False\n",
       "...        ...            ...       ...       ...            ...\n",
       "23647    False          False     False      True          False\n",
       "23648    False          False     False      True          False\n",
       "23649    False          False     False      True          False\n",
       "23650    False          False     False      True          False\n",
       "23651    False          False     False      True          False\n",
       "\n",
       "[23652 rows x 5 columns]"
      ]
     },
     "execution_count": 52,
     "metadata": {},
     "output_type": "execute_result"
    }
   ],
   "source": [
    "data_csv.isin(['A','B'])"
   ]
  },
  {
   "cell_type": "code",
   "execution_count": 62,
   "id": "81f54efe-11b9-498f-99fb-0f87693a52e1",
   "metadata": {},
   "outputs": [
    {
     "data": {
      "text/html": [
       "<div>\n",
       "<style scoped>\n",
       "    .dataframe tbody tr th:only-of-type {\n",
       "        vertical-align: middle;\n",
       "    }\n",
       "\n",
       "    .dataframe tbody tr th {\n",
       "        vertical-align: top;\n",
       "    }\n",
       "\n",
       "    .dataframe thead th {\n",
       "        text-align: right;\n",
       "    }\n",
       "</style>\n",
       "<table border=\"1\" class=\"dataframe\">\n",
       "  <thead>\n",
       "    <tr style=\"text-align: right;\">\n",
       "      <th></th>\n",
       "      <th>revenue</th>\n",
       "      <th>num_purchases</th>\n",
       "      <th>purchase</th>\n",
       "      <th>ab_group</th>\n",
       "      <th>av_site visit</th>\n",
       "    </tr>\n",
       "  </thead>\n",
       "  <tbody>\n",
       "    <tr>\n",
       "      <th>45</th>\n",
       "      <td>1.885595</td>\n",
       "      <td>1</td>\n",
       "      <td>1</td>\n",
       "      <td>A</td>\n",
       "      <td>7.654627</td>\n",
       "    </tr>\n",
       "    <tr>\n",
       "      <th>54</th>\n",
       "      <td>1.002159</td>\n",
       "      <td>1</td>\n",
       "      <td>1</td>\n",
       "      <td>A</td>\n",
       "      <td>6.392489</td>\n",
       "    </tr>\n",
       "    <tr>\n",
       "      <th>82</th>\n",
       "      <td>2.990000</td>\n",
       "      <td>1</td>\n",
       "      <td>1</td>\n",
       "      <td>A</td>\n",
       "      <td>8.596604</td>\n",
       "    </tr>\n",
       "    <tr>\n",
       "      <th>104</th>\n",
       "      <td>49.990000</td>\n",
       "      <td>1</td>\n",
       "      <td>1</td>\n",
       "      <td>A</td>\n",
       "      <td>8.885633</td>\n",
       "    </tr>\n",
       "    <tr>\n",
       "      <th>110</th>\n",
       "      <td>22.093757</td>\n",
       "      <td>4</td>\n",
       "      <td>1</td>\n",
       "      <td>A</td>\n",
       "      <td>8.708759</td>\n",
       "    </tr>\n",
       "    <tr>\n",
       "      <th>...</th>\n",
       "      <td>...</td>\n",
       "      <td>...</td>\n",
       "      <td>...</td>\n",
       "      <td>...</td>\n",
       "      <td>...</td>\n",
       "    </tr>\n",
       "    <tr>\n",
       "      <th>23426</th>\n",
       "      <td>2.489611</td>\n",
       "      <td>1</td>\n",
       "      <td>1</td>\n",
       "      <td>B</td>\n",
       "      <td>9.015714</td>\n",
       "    </tr>\n",
       "    <tr>\n",
       "      <th>23493</th>\n",
       "      <td>74.950000</td>\n",
       "      <td>5</td>\n",
       "      <td>1</td>\n",
       "      <td>B</td>\n",
       "      <td>5.881950</td>\n",
       "    </tr>\n",
       "    <tr>\n",
       "      <th>23495</th>\n",
       "      <td>3.667866</td>\n",
       "      <td>1</td>\n",
       "      <td>1</td>\n",
       "      <td>B</td>\n",
       "      <td>7.450014</td>\n",
       "    </tr>\n",
       "    <tr>\n",
       "      <th>23584</th>\n",
       "      <td>19.990000</td>\n",
       "      <td>1</td>\n",
       "      <td>1</td>\n",
       "      <td>B</td>\n",
       "      <td>9.813696</td>\n",
       "    </tr>\n",
       "    <tr>\n",
       "      <th>23616</th>\n",
       "      <td>2.453401</td>\n",
       "      <td>1</td>\n",
       "      <td>1</td>\n",
       "      <td>B</td>\n",
       "      <td>11.909353</td>\n",
       "    </tr>\n",
       "  </tbody>\n",
       "</table>\n",
       "<p>490 rows × 5 columns</p>\n",
       "</div>"
      ],
      "text/plain": [
       "         revenue  num_purchases  purchase ab_group  av_site visit\n",
       "45      1.885595              1         1        A       7.654627\n",
       "54      1.002159              1         1        A       6.392489\n",
       "82      2.990000              1         1        A       8.596604\n",
       "104    49.990000              1         1        A       8.885633\n",
       "110    22.093757              4         1        A       8.708759\n",
       "...          ...            ...       ...      ...            ...\n",
       "23426   2.489611              1         1        B       9.015714\n",
       "23493  74.950000              5         1        B       5.881950\n",
       "23495   3.667866              1         1        B       7.450014\n",
       "23584  19.990000              1         1        B       9.813696\n",
       "23616   2.453401              1         1        B      11.909353\n",
       "\n",
       "[490 rows x 5 columns]"
      ]
     },
     "execution_count": 62,
     "metadata": {},
     "output_type": "execute_result"
    }
   ],
   "source": [
    "data_csv[data_csv['revenue']>0]"
   ]
  },
  {
   "cell_type": "code",
   "execution_count": 66,
   "id": "a3fa6c18-103e-45ff-8175-ecfc59b99067",
   "metadata": {},
   "outputs": [
    {
     "data": {
      "text/plain": [
       "45       0.003848\n",
       "54       0.002045\n",
       "82       0.006102\n",
       "104      0.102020\n",
       "110      0.045089\n",
       "           ...   \n",
       "23426    0.005081\n",
       "23493    0.152959\n",
       "23495    0.007485\n",
       "23584    0.040796\n",
       "23616    0.005007\n",
       "Name: ARPPU, Length: 490, dtype: float64"
      ]
     },
     "execution_count": 66,
     "metadata": {},
     "output_type": "execute_result"
    }
   ],
   "source": [
    "# data_csv['ARPPU'] = data_csv['revenue'].div(490.0)\n",
    "data_csv['ARPPU']"
   ]
  },
  {
   "cell_type": "code",
   "execution_count": 68,
   "id": "6b641be6-c132-4359-b2ef-02f61823d38d",
   "metadata": {},
   "outputs": [],
   "source": [
    "df_tempA = data_csv['ARPPU'][(data_csv['ab_group'] == 'A')]\n",
    "# df_temp = df_temp[df_temp>0]\n",
    "df_tempA.sort_values(inplace=True)\n",
    "# df_temp.sort_values(by=['ARPPU'],inplace=True)"
   ]
  },
  {
   "cell_type": "code",
   "execution_count": 69,
   "id": "3e090bc4-29bd-4b64-a056-93fb9a1893c7",
   "metadata": {},
   "outputs": [
    {
     "data": {
      "text/plain": [
       "17488    0.000529\n",
       "11936    0.000529\n",
       "16861    0.000530\n",
       "15987    0.000531\n",
       "19677    0.001618\n",
       "           ...   \n",
       "23493    0.152959\n",
       "17703    0.162317\n",
       "21862    0.204000\n",
       "15884    0.228061\n",
       "18664    0.232306\n",
       "Name: ARPPU, Length: 234, dtype: float64"
      ]
     },
     "execution_count": 69,
     "metadata": {},
     "output_type": "execute_result"
    }
   ],
   "source": [
    "df_tempB = data_csv['ARPPU'][(data_csv['ab_group'] == 'B')]\n",
    "df_tempB.sort_values(inplace=True)\n",
    "df_tempB"
   ]
  },
  {
   "cell_type": "code",
   "execution_count": 70,
   "id": "a1ce8d03-48e8-4b57-be53-04bade11dc75",
   "metadata": {},
   "outputs": [
    {
     "data": {
      "text/plain": [
       "array([5.29977551e-04, 5.30073469e-04, 1.00843469e-03, 1.52075714e-03,\n",
       "       1.88231020e-03, 1.90569592e-03, 1.92245714e-03, 1.93363265e-03,\n",
       "       1.93390000e-03, 1.97418367e-03, 2.01637755e-03, 2.02040816e-03,\n",
       "       2.02438571e-03, 2.02626939e-03, 2.03400000e-03, 2.04522245e-03,\n",
       "       2.05013061e-03, 2.48479388e-03, 2.49053673e-03, 2.52389796e-03,\n",
       "       2.52643265e-03, 2.56486327e-03, 2.61172857e-03, 2.69288776e-03,\n",
       "       2.88630000e-03, 2.96507143e-03, 2.97483469e-03, 3.00136939e-03,\n",
       "       3.00289388e-03, 3.04470408e-03, 3.05263469e-03, 3.09269184e-03,\n",
       "       3.10247755e-03, 3.11095714e-03, 3.23285510e-03, 3.74312449e-03,\n",
       "       3.84815306e-03, 4.02591837e-03, 4.02972449e-03, 4.06122449e-03,\n",
       "       4.06122449e-03, 4.06122449e-03, 4.06122449e-03, 4.06122449e-03,\n",
       "       4.06122449e-03, 4.06122449e-03, 4.06122449e-03, 4.06122449e-03,\n",
       "       4.06122449e-03, 4.06122449e-03, 4.06122449e-03, 4.06122449e-03,\n",
       "       4.06122449e-03, 4.06122449e-03, 4.06122449e-03, 4.06122449e-03,\n",
       "       4.06122449e-03, 4.06122449e-03, 4.06122449e-03, 4.08715306e-03,\n",
       "       4.34821020e-03, 4.39551224e-03, 4.70077143e-03, 4.73043265e-03,\n",
       "       4.73148980e-03, 4.77273469e-03, 4.81142041e-03, 4.81480408e-03,\n",
       "       4.87302245e-03, 4.87611837e-03, 4.96211020e-03, 4.97983265e-03,\n",
       "       4.98274898e-03, 4.98298163e-03, 4.98401837e-03, 4.98669592e-03,\n",
       "       4.98792653e-03, 4.99490204e-03, 4.99498163e-03, 4.99651224e-03,\n",
       "       5.02500816e-03, 5.06325510e-03, 5.07818776e-03, 5.09114286e-03,\n",
       "       5.10285510e-03, 5.10359184e-03, 5.10614694e-03, 5.11056327e-03,\n",
       "       5.12104286e-03, 5.14969796e-03, 5.46825918e-03, 5.50586327e-03,\n",
       "       5.66051020e-03, 5.72746531e-03, 5.77094082e-03, 6.10204082e-03,\n",
       "       6.10204082e-03, 6.10204082e-03, 6.10204082e-03, 6.10204082e-03,\n",
       "       6.10204082e-03, 6.42510612e-03, 6.66036122e-03, 6.66188980e-03,\n",
       "       6.66538367e-03, 6.99951020e-03, 7.11906735e-03, 7.30107551e-03,\n",
       "       7.45931633e-03, 7.49375918e-03, 7.50732041e-03, 7.50917755e-03,\n",
       "       7.51691224e-03, 7.59064286e-03, 7.72950612e-03, 7.98655918e-03,\n",
       "       7.98866735e-03, 7.98866735e-03, 8.02352449e-03, 8.12244898e-03,\n",
       "       8.12244898e-03, 8.13171429e-03, 8.14285714e-03, 8.14285714e-03,\n",
       "       8.31768980e-03, 8.32166122e-03, 8.39098367e-03, 8.73967347e-03,\n",
       "       8.74261224e-03, 9.31797551e-03, 9.98001837e-03, 1.00550449e-02,\n",
       "       1.01632653e-02, 1.01836735e-02, 1.01836735e-02, 1.01836735e-02,\n",
       "       1.01836735e-02, 1.01836735e-02, 1.01836735e-02, 1.01836735e-02,\n",
       "       1.01836735e-02, 1.01836735e-02, 1.01836735e-02, 1.02464245e-02,\n",
       "       1.10072816e-02, 1.10799816e-02, 1.12040816e-02, 1.12686265e-02,\n",
       "       1.14206796e-02, 1.20526898e-02, 1.20575469e-02, 1.21624429e-02,\n",
       "       1.21632653e-02, 1.21836735e-02, 1.22118286e-02, 1.23347612e-02,\n",
       "       1.24076673e-02, 1.24897959e-02, 1.24961184e-02, 1.25249041e-02,\n",
       "       1.25383980e-02, 1.25493857e-02, 1.25714286e-02, 1.26013245e-02,\n",
       "       1.34053551e-02, 1.37566735e-02, 1.42396673e-02, 1.42448980e-02,\n",
       "       1.42448980e-02, 1.42448980e-02, 1.42653061e-02, 1.49856571e-02,\n",
       "       1.65744959e-02, 1.68617714e-02, 1.77951510e-02, 1.83061224e-02,\n",
       "       1.93819918e-02, 2.00474510e-02, 2.02854286e-02, 2.03469388e-02,\n",
       "       2.03673469e-02, 2.03673469e-02, 2.03877551e-02, 2.03877551e-02,\n",
       "       2.03877551e-02, 2.05669939e-02, 2.10049204e-02, 2.10521980e-02,\n",
       "       2.24634061e-02, 2.25645449e-02, 2.28980000e-02, 2.43077878e-02,\n",
       "       2.44083959e-02, 2.44201612e-02, 2.44489796e-02, 2.50167857e-02,\n",
       "       2.51344163e-02, 2.51350347e-02, 2.59487735e-02, 2.77441041e-02,\n",
       "       2.81071755e-02, 2.85378551e-02, 2.98147776e-02, 3.00508531e-02,\n",
       "       3.00545816e-02, 3.03172796e-02, 3.05918367e-02, 3.05918367e-02,\n",
       "       3.05918367e-02, 3.06382082e-02, 3.47960796e-02, 3.75375163e-02,\n",
       "       3.76100633e-02, 3.97479143e-02, 4.07755102e-02, 4.07959184e-02,\n",
       "       4.07959184e-02, 4.12706041e-02, 4.14731939e-02, 4.22366980e-02,\n",
       "       4.29864694e-02, 4.50893000e-02, 4.51027633e-02, 4.53243673e-02,\n",
       "       4.83512551e-02, 5.09591837e-02, 5.29702796e-02, 5.50903551e-02,\n",
       "       5.98599510e-02, 6.11836735e-02, 6.11836735e-02, 6.11836735e-02,\n",
       "       6.50678143e-02, 6.51428571e-02, 7.13469388e-02, 7.13673469e-02,\n",
       "       8.15918367e-02, 8.72316184e-02, 9.17346939e-02, 9.57959184e-02,\n",
       "       1.00212502e-01, 1.02020408e-01, 1.15277180e-01, 1.22958724e-01,\n",
       "       1.31178300e-01, 1.32510204e-01, 1.32626867e-01, 1.40693878e-01,\n",
       "       1.63204082e-01, 1.73346943e-01, 2.03877551e-01, 2.77950498e-01,\n",
       "       3.88020206e-01, 4.25109696e-01, 8.19673469e-01, 2.66042711e+00])"
      ]
     },
     "execution_count": 70,
     "metadata": {},
     "output_type": "execute_result"
    }
   ],
   "source": [
    "A = df_tempA.to_numpy()\n",
    "A"
   ]
  },
  {
   "cell_type": "code",
   "execution_count": 71,
   "id": "203c6ca9-d635-4e28-8571-ea3da2e0dec5",
   "metadata": {},
   "outputs": [
    {
     "data": {
      "text/plain": [
       "array([0.00052933, 0.00052949, 0.00053019, 0.00053058, 0.00161796,\n",
       "       0.00190627, 0.00201822, 0.00202351, 0.00204174, 0.00204366,\n",
       "       0.00204406, 0.00204633, 0.00204633, 0.00205139, 0.00220508,\n",
       "       0.00248022, 0.00254844, 0.00258056, 0.00268422, 0.00297783,\n",
       "       0.00298676, 0.00302349, 0.00303942, 0.00304395, 0.00309524,\n",
       "       0.00384266, 0.00398699, 0.00402217, 0.00406122, 0.00406122,\n",
       "       0.00406122, 0.00406122, 0.00406122, 0.00406122, 0.00406122,\n",
       "       0.00406122, 0.00406122, 0.00406122, 0.00406122, 0.00406122,\n",
       "       0.00406122, 0.00406122, 0.00406122, 0.00406122, 0.00406122,\n",
       "       0.00406122, 0.00406122, 0.00406122, 0.00406122, 0.00406122,\n",
       "       0.00415091, 0.00415179, 0.00423646, 0.00424309, 0.00448523,\n",
       "       0.00462701, 0.00467819, 0.00470236, 0.00472883, 0.00475133,\n",
       "       0.00475151, 0.00491536, 0.00496341, 0.00496386, 0.00496402,\n",
       "       0.00497533, 0.00498317, 0.00498337, 0.00499078, 0.00499147,\n",
       "       0.00499469, 0.00499705, 0.00499729, 0.00499775, 0.00500097,\n",
       "       0.00500694, 0.00500694, 0.00506682, 0.00507718, 0.00508084,\n",
       "       0.00508168, 0.00508193, 0.00510299, 0.00518816, 0.00519973,\n",
       "       0.00520081, 0.0054543 , 0.0055266 , 0.00553426, 0.00553426,\n",
       "       0.00553458, 0.00572493, 0.00572886, 0.00575929, 0.00576318,\n",
       "       0.00610204, 0.00610204, 0.00610204, 0.00610204, 0.00610204,\n",
       "       0.00610204, 0.00610204, 0.00610204, 0.00610204, 0.00610204,\n",
       "       0.00710494, 0.00734324, 0.00743011, 0.00746209, 0.00747822,\n",
       "       0.00748544, 0.00749144, 0.00750361, 0.00752486, 0.00810996,\n",
       "       0.00812245, 0.00812245, 0.00812245, 0.00814286, 0.00875431,\n",
       "       0.00896819, 0.00927902, 0.00998013, 0.01018367, 0.01018367,\n",
       "       0.01018367, 0.01018367, 0.01018367, 0.01018367, 0.01018367,\n",
       "       0.01018367, 0.01018367, 0.01018367, 0.01018367, 0.01018367,\n",
       "       0.01187874, 0.01209811, 0.0121633 , 0.01217641, 0.01221364,\n",
       "       0.01227856, 0.01240022, 0.01247064, 0.01249322, 0.01249672,\n",
       "       0.01249836, 0.01249836, 0.01251064, 0.01257507, 0.01317983,\n",
       "       0.01381417, 0.01407424, 0.01412283, 0.0142449 , 0.0162167 ,\n",
       "       0.01626452, 0.01628571, 0.01672228, 0.01748903, 0.01830612,\n",
       "       0.01830612, 0.02031803, 0.02036735, 0.02038776, 0.02038776,\n",
       "       0.02065336, 0.02110591, 0.02140436, 0.02148547, 0.02167794,\n",
       "       0.02240816, 0.02248686, 0.02442857, 0.02478538, 0.02497881,\n",
       "       0.02507462, 0.0265102 , 0.0265102 , 0.02722232, 0.02761476,\n",
       "       0.03004663, 0.03059184, 0.03059184, 0.03249462, 0.03336957,\n",
       "       0.03818767, 0.03937736, 0.04032965, 0.04079592, 0.04255009,\n",
       "       0.04485714, 0.04485714, 0.05009078, 0.05013849, 0.05205335,\n",
       "       0.05211767, 0.05250539, 0.05295918, 0.05506122, 0.05524866,\n",
       "       0.05560497, 0.06118367, 0.06118367, 0.06118367, 0.06120408,\n",
       "       0.06120408, 0.06120408, 0.06143451, 0.0652449 , 0.06663752,\n",
       "       0.07331821, 0.07340816, 0.07857606, 0.0795102 , 0.08159184,\n",
       "       0.08761224, 0.08955669, 0.0917551 , 0.09502284, 0.10195918,\n",
       "       0.10202041, 0.10202041, 0.10253191, 0.10592702, 0.12316506,\n",
       "       0.1258846 , 0.12923167, 0.14273469, 0.14482409, 0.15295918,\n",
       "       0.16231706, 0.204     , 0.22806122, 0.23230612])"
      ]
     },
     "execution_count": 71,
     "metadata": {},
     "output_type": "execute_result"
    }
   ],
   "source": [
    "B = df_tempB.to_numpy()\n",
    "B"
   ]
  },
  {
   "cell_type": "code",
   "execution_count": 72,
   "id": "4c56b7c5-5526-4f1c-b364-c611f20cf561",
   "metadata": {},
   "outputs": [
    {
     "name": "stdout",
     "output_type": "stream",
     "text": [
      "Shapiro-Wilk normality test for A\n",
      "W = 0.1513245701789856\n",
      "P-value = 2.4723388038366e-32\n"
     ]
    }
   ],
   "source": [
    "W, p_val = shapiro(A)\n",
    "print(\"Shapiro-Wilk normality test for A\")\n",
    "print(\"W =\", W)\n",
    "print(\"P-value =\", p_val)"
   ]
  },
  {
   "cell_type": "code",
   "execution_count": 73,
   "id": "c5cb7efa-73bc-4e36-85f3-9470991a5045",
   "metadata": {},
   "outputs": [
    {
     "name": "stdout",
     "output_type": "stream",
     "text": [
      "Shapiro-Wilk normality test for B\n",
      "W = 0.6179500818252563\n",
      "P-value = 1.599590675565433e-22\n"
     ]
    }
   ],
   "source": [
    "W, p_val = shapiro(B)\n",
    "print(\"Shapiro-Wilk normality test for B\")\n",
    "print(\"W =\", W)\n",
    "print(\"P-value =\", p_val)"
   ]
  },
  {
   "cell_type": "code",
   "execution_count": 74,
   "id": "4ea106c3-3dc7-4fd0-a003-0426f04eaee5",
   "metadata": {},
   "outputs": [
    {
     "data": {
      "text/plain": [
       "MannwhitneyuResult(statistic=29729.5, pvalue=0.8871956616344514)"
      ]
     },
     "execution_count": 74,
     "metadata": {},
     "output_type": "execute_result"
    }
   ],
   "source": [
    "from scipy.stats import mannwhitneyu\n",
    "\n",
    "mw_stats = mannwhitneyu(x=A, y=B)\n",
    "mw_stats"
   ]
  },
  {
   "cell_type": "code",
   "execution_count": 98,
   "id": "92e0570c-3242-4dd3-a2d3-4c0e06fdf41c",
   "metadata": {},
   "outputs": [
    {
     "data": {
      "text/plain": [
       "('A',\n",
       " 0.03178322707667677,\n",
       " 0.1782785098565634,\n",
       " 0.03816014008290816,\n",
       " 'B',\n",
       " 0.001498228368380117,\n",
       " 0.03870695503885726,\n",
       " 0.025228813788592347)"
      ]
     },
     "execution_count": 98,
     "metadata": {},
     "output_type": "execute_result"
    }
   ],
   "source": [
    "'A', np.var(A), np.std(A), np.mean(A), 'B', np.var(B), np.std(B), np.mean(B)"
   ]
  },
  {
   "cell_type": "markdown",
   "id": "af89d82c-5008-4611-a63a-d20a54f282e0",
   "metadata": {},
   "source": [
    " Получается, что показатели ARPPU имеют ненормальное распределение, значит нужно применять непараметрические критерии (напр. тест Манна-Уитни).\n",
    " Достоверной разницы между группой А и B не выявлено, значит остается нулевая гипотеза (А), нужно придумывать и тестировать другую гипотезу."
   ]
  },
  {
   "cell_type": "markdown",
   "id": "a43e4e5a-3384-4e86-bb62-fdfbe41e4ed9",
   "metadata": {
    "tags": []
   },
   "source": [
    "<div style=\"font-family:Papyrus;text-align:center;color:orange;font-size:35px;\">\n",
    "Задание 3\n",
    "</div>\n",
    "3) Мы хотим провести А/Б-тест для трех источников трафика. Нынешняя конверсия равна 5%, мы ожидаем прирост в 0,2%. Уровень доверия 97% и уровень мощности 87%. Всего на наш продукт заходит 40 000 пользователей в месяц.<br>3.1) За сколько дней мы сможем протестировать гипотезу? И что вы можете посоветовать по результатам подсчета?<br> 3.2) Допустим в задаче нет проблемы с количеством посетителей на сайт, тогда подведите результаты тестирования, если у нас следующие результаты по количеству конверсии:<p> \n",
    "    1. 25 000 \n",
    "    2. 30 000 \n",
    "    3. 32 000"
   ]
  },
  {
   "cell_type": "code",
   "execution_count": 3,
   "id": "03e41355-c643-4fc7-b1dc-39915678146c",
   "metadata": {},
   "outputs": [
    {
     "data": {
      "text/plain": [
       "-0.009091425586399637"
      ]
     },
     "execution_count": 3,
     "metadata": {},
     "output_type": "execute_result"
    }
   ],
   "source": [
    "conversion = 0.05\n",
    "increment = 0.002\n",
    "monthly_visitors = 40000\n",
    "conv1, conv2, conv3 = 25000, 30000, 32000\n",
    "# effect = increment/conversion\n",
    "effect_size = sms.proportion_effectsize(conversion, conversion+increment, method='normal')\n",
    "alpha = 0.03\n",
    "power = 0.87\n",
    "effect_size"
   ]
  },
  {
   "cell_type": "code",
   "execution_count": 4,
   "id": "fe527418-8c10-4a07-b4ad-4f5c50117d75",
   "metadata": {},
   "outputs": [
    {
     "name": "stdout",
     "output_type": "stream",
     "text": [
      "Number to observe: 262946, Ожидаемое количество конверсий 13673\n"
     ]
    }
   ],
   "source": [
    "number_to_observe = smp.zt_ind_solve_power(effect_size = effect_size, alpha = alpha, power = power)\n",
    "print(f'Number to observe: {number_to_observe:.0f}, Ожидаемое количество конверсий после теста {number_to_observe*0.052:.0f}')"
   ]
  },
  {
   "cell_type": "code",
   "execution_count": 5,
   "id": "343de47e-f3d5-4e74-a3f1-c63ad7bc637b",
   "metadata": {},
   "outputs": [
    {
     "name": "stdout",
     "output_type": "stream",
     "text": [
      "При количестве пользователей 40000 в месяц тест нужно проводить 6.57 месяцев\n"
     ]
    }
   ],
   "source": [
    "print(f'При количестве пользователей 40000 в месяц тест нужно проводить {number_to_observe/monthly_visitors:.2f} месяцев')"
   ]
  },
  {
   "cell_type": "code",
   "execution_count": 10,
   "id": "933b36d4-1e36-41d2-abca-beb1bc28db44",
   "metadata": {},
   "outputs": [
    {
     "data": {
      "text/plain": [
       "'%.2f'"
      ]
     },
     "execution_count": 10,
     "metadata": {},
     "output_type": "execute_result"
    }
   ],
   "source": [
    "%precision 2"
   ]
  },
  {
   "cell_type": "code",
   "execution_count": 11,
   "id": "536245ab-d599-450f-a972-70477366a827",
   "metadata": {},
   "outputs": [
    {
     "name": "stdout",
     "output_type": "stream",
     "text": [
      "Конверсия  в первом случае выросла на 16.7 %\n"
     ]
    }
   ],
   "source": [
    "conversion_increment1 = 100-(conv1/conv2)*100\n",
    "print (f'Конверсия  в первом случае выросла на {conversion_increment1:.1f} %')"
   ]
  },
  {
   "cell_type": "code",
   "execution_count": 12,
   "id": "74eaa34b-1df7-4031-a92c-638822225f01",
   "metadata": {},
   "outputs": [
    {
     "name": "stdout",
     "output_type": "stream",
     "text": [
      "Конверсия  во втором случае выросла на 6.2 %\n"
     ]
    }
   ],
   "source": [
    "conversion_increment2 = 100-(conv2/conv3)*100\n",
    "print (f'Конверсия  во втором случае выросла на {conversion_increment2:.1f} %')"
   ]
  },
  {
   "cell_type": "markdown",
   "id": "7ed64509-e86b-4966-94a8-f79996d99f52",
   "metadata": {},
   "source": [
    "<div style=\"font-family:Papyrus;text-align:center;color:orange;font-size:35px;\">\n",
    "Задание 4\n",
    "</div>"
   ]
  },
  {
   "cell_type": "markdown",
   "id": "02cd6021-e69f-47ee-b9f7-e3a28e52b5bf",
   "metadata": {},
   "source": [
    "Вы решили сравнивать метрику **CPA** в двух группах. \n",
    "Размер выборки - 2350 элементов в каждой группе.<br>\n",
    "Для проверки нормальности распределения на выборке в 2350 наблюдений применили, критерий Шапиро-Уилка \n",
    "и получили **p-value**, равный **0.00002**, **alpha = 5%**. <br>\n",
    "Какой бы вывод мы могли сделать в данном случае? <br>\n",
    "В этом случае какой статистический критерий для проверки первоначальной гипотезы тут лучше всего подойдёт и почему ?<br>"
   ]
  },
  {
   "cell_type": "markdown",
   "id": "8f92ea69-f3c0-4221-b99a-94d6aa8a7d0d",
   "metadata": {},
   "source": [
    "Учитывая, что **p-value** < **alpha**, нулевая гипотеза (о нормальности данных) опровергнута. Данные не имеют нормальное распределение."
   ]
  },
  {
   "cell_type": "markdown",
   "id": "e9995e98-229f-4842-8d06-86ab436b61fb",
   "metadata": {},
   "source": [
    "Для данных неимеющих нормальное распределение нужен непараметрический критерии для проверки 2 независимых групп **(подходит *критерий Манна-Уитни*)**."
   ]
  },
  {
   "cell_type": "markdown",
   "id": "a3ea2f06-7029-47a5-b2b4-279b9eeadf63",
   "metadata": {},
   "source": [
    "<div style=\"font-family:Papyrus;text-align:center;color:orange;font-size:35px;\">\n",
    "Задание 5\n",
    "</div>"
   ]
  },
  {
   "cell_type": "markdown",
   "id": "3c0b07ff-1059-4fd1-b0c1-d529f3120a0a",
   "metadata": {},
   "source": [
    "Мы провели АБ-тест на увеличение **average timespent  per user**.<br>\n",
    "По итогам тестирования мы получили следующие данные. Является ли результат статистически значимым с уровнем доверия **80%**?<br> \n",
    "Какую версию мы выкатим на продакшн?<br> \n",
    "    **A)** Средняя - 360, отклонение - 40, количество - 9802<br> \n",
    "    **B)** Средняя - 352, отклонение - 58, количество - 9789"
   ]
  },
  {
   "cell_type": "code",
   "execution_count": 124,
   "id": "0b77e8dd-2794-46b1-9a5e-665abf5932df",
   "metadata": {},
   "outputs": [
    {
     "data": {
      "text/plain": [
       "0.19999999999999996"
      ]
     },
     "execution_count": 124,
     "metadata": {},
     "output_type": "execute_result"
    }
   ],
   "source": [
    "mean_1, SD_1, N1 = 360, 40, 9802\n",
    "mean_2, SD_2, N2 = 352, 58, 9789\n",
    "beta = 0.8\n",
    "alpha = 0.2"
   ]
  },
  {
   "cell_type": "code",
   "execution_count": 109,
   "id": "5435fcbf-8947-45aa-885d-694012e353ad",
   "metadata": {},
   "outputs": [
    {
     "data": {
      "text/plain": [
       "Ttest_indResult(statistic=11.239280890562718, pvalue=3.213170110556281e-29)"
      ]
     },
     "execution_count": 109,
     "metadata": {},
     "output_type": "execute_result"
    }
   ],
   "source": [
    "ttest_ind_from_stats(mean_1, SD_1, N1, mean_2, SD_2, N2, )"
   ]
  },
  {
   "cell_type": "markdown",
   "id": "38d9abfe-d2d9-44ce-bc31-9a6f763ffaf1",
   "metadata": {},
   "source": [
    "Поскольку **p-value** < alpha , нулевая гипотеза (отсутствие заначимых различий между A и B) опровергнута.\n",
    "<br> \n",
    "На продакшн выкатим версию *B*"
   ]
  },
  {
   "cell_type": "markdown",
   "id": "d9b4986a-0556-4ba4-ae71-443f6dd7bd1c",
   "metadata": {},
   "source": [
    "<div style=\"font-family:Papyrus;text-align:center;color:orange;font-size:35px;\">\n",
    "Задание 6\n",
    "</div>"
   ]
  },
  {
   "cell_type": "markdown",
   "id": "10d37271-8b11-470f-a06b-8e1504249a22",
   "metadata": {},
   "source": [
    "Создайте техническую архитектуру проекта по аб тестированию продукта он-лайн кинотеатра с учетом кросс-девайс аналитики по следующей гипотезе:<br> Если договориться с банком о 99% кэшбэке на подписку первого месяца, то это повысит конверсию в подписку на 30%, благодаря упрощенному принятию решения со стороны пользователя.<br> На схеме необходимо отобразить: \n",
    "1) Управленческий процесс по договоренностям с внешними партнерами \n",
    "2) Архитектуру данных с указанием систем, из которых будем скачивать данные \n",
    "3) Внутрикомандное взаимодействие"
   ]
  },
  {
   "cell_type": "markdown",
   "id": "407e237c-0093-4465-8a2d-2c765597439d",
   "metadata": {},
   "source": [
    "Изучаю презентации из курса вне четверти \"Бизнес-процессы\", которые скинули коллеги. Курс я не смотрел, хотя после этого задания в аттестации, не понимаю, почему он не был обязательным."
   ]
  },
  {
   "cell_type": "code",
   "execution_count": null,
   "id": "a3acdcdf-35a6-4afb-8df6-18abb9122855",
   "metadata": {},
   "outputs": [],
   "source": []
  }
 ],
 "metadata": {
  "kernelspec": {
   "display_name": "Python 3 (ipykernel)",
   "language": "python",
   "name": "python3"
  },
  "language_info": {
   "codemirror_mode": {
    "name": "ipython",
    "version": 3
   },
   "file_extension": ".py",
   "mimetype": "text/x-python",
   "name": "python",
   "nbconvert_exporter": "python",
   "pygments_lexer": "ipython3",
   "version": "3.9.15"
  }
 },
 "nbformat": 4,
 "nbformat_minor": 5
}
