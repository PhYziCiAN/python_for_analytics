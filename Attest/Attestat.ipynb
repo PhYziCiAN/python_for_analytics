{
 "cells": [
  {
   "cell_type": "code",
   "execution_count": 1,
   "id": "86559cf5-0fe7-4cf6-a7da-bc10af2b7d41",
   "metadata": {},
   "outputs": [],
   "source": [
    "import pandas as pd\n",
    "from IPython.display import display\n",
    "import re"
   ]
  },
  {
   "cell_type": "markdown",
   "id": "05c26851-6aa7-4dae-903d-9331a4b2918b",
   "metadata": {},
   "source": [
    "book_id = '152JyksagijqyscnrFDc6Ez2VjT5MKNXpDOyc4PRlauw'<br>\n",
    "sheet_name = '1111580473' // Маркетинговые<br>\n",
    "sheet_name = '208646510' // Справочник<br>\n",
    "sheet_name = '444632080' // Данные из CRM"
   ]
  },
  {
   "cell_type": "code",
   "execution_count": 54,
   "id": "5d73010b-dc68-42ea-ac39-77484c261060",
   "metadata": {},
   "outputs": [],
   "source": [
    "book_id = '152JyksagijqyscnrFDc6Ez2VjT5MKNXpDOyc4PRlauw'\n",
    "crm_sheet_name = '444632080'\n",
    "market_sheet_name = '1111580473'\n",
    "ref_book = '208646510'\n",
    "crm = f'https://docs.google.com/spreadsheets/d/{book_id}/edit#gid={crm_sheet_name}'\n",
    "market = f'https://docs.google.com/spreadsheets/d/{book_id}/edit#gid={market_sheet_name}'\n",
    "ref = f'https://docs.google.com/spreadsheets/d/{book_id}/edit#gid={ref_book}'\n",
    "crm_url = crm.replace('/edit#gid=', '/export?format=csv&gid=')\n",
    "market_url = market.replace('/edit#gid=', '/export?format=csv&gid=')\n",
    "ref_url = ref.replace('/edit#gid=', '/export?format=csv&gid=')\n",
    "df = pd.read_csv(crm_url)\n",
    "df1 = pd.read_csv(market_url)\n",
    "df2 = pd.read_csv(ref_url)\n",
    "# Можно было загрузить XLSX со всеми листами"
   ]
  },
  {
   "cell_type": "code",
   "execution_count": 78,
   "id": "f8a7e847-82b9-4c67-827e-9542b9a69e1f",
   "metadata": {},
   "outputs": [
    {
     "data": {
      "text/html": [
       "<div>\n",
       "<style scoped>\n",
       "    .dataframe tbody tr th:only-of-type {\n",
       "        vertical-align: middle;\n",
       "    }\n",
       "\n",
       "    .dataframe tbody tr th {\n",
       "        vertical-align: top;\n",
       "    }\n",
       "\n",
       "    .dataframe thead th {\n",
       "        text-align: right;\n",
       "    }\n",
       "</style>\n",
       "<table border=\"1\" class=\"dataframe\">\n",
       "  <thead>\n",
       "    <tr style=\"text-align: right;\">\n",
       "      <th></th>\n",
       "      <th>Марка</th>\n",
       "      <th>Модель</th>\n",
       "      <th>Цена</th>\n",
       "      <th>Валюта</th>\n",
       "      <th>Маржинальность</th>\n",
       "      <th>Unnamed: 5</th>\n",
       "    </tr>\n",
       "  </thead>\n",
       "  <tbody>\n",
       "    <tr>\n",
       "      <th>0</th>\n",
       "      <td>Mercedes</td>\n",
       "      <td>gls</td>\n",
       "      <td>113 514</td>\n",
       "      <td>$</td>\n",
       "      <td>33%</td>\n",
       "      <td>Нет</td>\n",
       "    </tr>\n",
       "    <tr>\n",
       "      <th>1</th>\n",
       "      <td>Mercedes</td>\n",
       "      <td>GT_AMG</td>\n",
       "      <td>174 324</td>\n",
       "      <td>NaN</td>\n",
       "      <td>34%</td>\n",
       "      <td>Нет</td>\n",
       "    </tr>\n",
       "    <tr>\n",
       "      <th>2</th>\n",
       "      <td>Bм W</td>\n",
       "      <td>x5</td>\n",
       "      <td>72 222</td>\n",
       "      <td>Евро</td>\n",
       "      <td>27%</td>\n",
       "      <td>Нет</td>\n",
       "    </tr>\n",
       "    <tr>\n",
       "      <th>3</th>\n",
       "      <td>BMW</td>\n",
       "      <td>i3</td>\n",
       "      <td>51 667</td>\n",
       "      <td>NaN</td>\n",
       "      <td>35%</td>\n",
       "      <td>Нет</td>\n",
       "    </tr>\n",
       "    <tr>\n",
       "      <th>4</th>\n",
       "      <td>Mercedes</td>\n",
       "      <td>с180</td>\n",
       "      <td>2 300 000</td>\n",
       "      <td>Рубль</td>\n",
       "      <td>20%</td>\n",
       "      <td>Нет</td>\n",
       "    </tr>\n",
       "    <tr>\n",
       "      <th>5</th>\n",
       "      <td>MercedeS</td>\n",
       "      <td>e220</td>\n",
       "      <td>3 850 000</td>\n",
       "      <td>NaN</td>\n",
       "      <td>21%</td>\n",
       "      <td>Да</td>\n",
       "    </tr>\n",
       "    <tr>\n",
       "      <th>6</th>\n",
       "      <td>BMW</td>\n",
       "      <td>x1</td>\n",
       "      <td>2 200 000</td>\n",
       "      <td>NaN</td>\n",
       "      <td>22%</td>\n",
       "      <td>Нет</td>\n",
       "    </tr>\n",
       "    <tr>\n",
       "      <th>7</th>\n",
       "      <td>BMW</td>\n",
       "      <td>x3</td>\n",
       "      <td>3 350 000</td>\n",
       "      <td>NaN</td>\n",
       "      <td>23%</td>\n",
       "      <td>Да</td>\n",
       "    </tr>\n",
       "    <tr>\n",
       "      <th>8</th>\n",
       "      <td>Mercedes</td>\n",
       "      <td>c200</td>\n",
       "      <td>2 750 000</td>\n",
       "      <td>NaN</td>\n",
       "      <td>24%</td>\n",
       "      <td>Нет</td>\n",
       "    </tr>\n",
       "    <tr>\n",
       "      <th>9</th>\n",
       "      <td>BMW</td>\n",
       "      <td>318</td>\n",
       "      <td>2 100 000</td>\n",
       "      <td>NaN</td>\n",
       "      <td>25%</td>\n",
       "      <td>Нет</td>\n",
       "    </tr>\n",
       "    <tr>\n",
       "      <th>10</th>\n",
       "      <td>BMW</td>\n",
       "      <td>530d</td>\n",
       "      <td>5 300 000</td>\n",
       "      <td>NaN</td>\n",
       "      <td>26%</td>\n",
       "      <td>Да</td>\n",
       "    </tr>\n",
       "    <tr>\n",
       "      <th>11</th>\n",
       "      <td>MERCEDES</td>\n",
       "      <td>e400</td>\n",
       "      <td>5 900 000</td>\n",
       "      <td>NaN</td>\n",
       "      <td>28%</td>\n",
       "      <td>Да</td>\n",
       "    </tr>\n",
       "    <tr>\n",
       "      <th>12</th>\n",
       "      <td>Mercedes</td>\n",
       "      <td>GLE</td>\n",
       "      <td>7 200 000</td>\n",
       "      <td>NaN</td>\n",
       "      <td>29%</td>\n",
       "      <td>Да</td>\n",
       "    </tr>\n",
       "    <tr>\n",
       "      <th>13</th>\n",
       "      <td>Mercedes</td>\n",
       "      <td>cla</td>\n",
       "      <td>2 050 000</td>\n",
       "      <td>NaN</td>\n",
       "      <td>30%</td>\n",
       "      <td>Нет</td>\n",
       "    </tr>\n",
       "    <tr>\n",
       "      <th>14</th>\n",
       "      <td>Mercedes</td>\n",
       "      <td>cls</td>\n",
       "      <td>4 650 000</td>\n",
       "      <td>NaN</td>\n",
       "      <td>31%</td>\n",
       "      <td>Да</td>\n",
       "    </tr>\n",
       "    <tr>\n",
       "      <th>15</th>\n",
       "      <td>Mercedes</td>\n",
       "      <td>glc</td>\n",
       "      <td>3 950 000</td>\n",
       "      <td>NaN</td>\n",
       "      <td>32%</td>\n",
       "      <td>Да</td>\n",
       "    </tr>\n",
       "  </tbody>\n",
       "</table>\n",
       "</div>"
      ],
      "text/plain": [
       "        Марка  Модель            Цена Валюта Маржинальность Unnamed: 5\n",
       "0    Mercedes     gls      113 514         $            33%        Нет\n",
       "1    Mercedes  GT_AMG      174 324       NaN            34%        Нет\n",
       "2        Bм W      x5       72 222      Евро            27%        Нет\n",
       "3         BMW      i3       51 667       NaN            35%        Нет\n",
       "4    Mercedes    с180    2 300 000     Рубль            20%        Нет\n",
       "5   MercedeS     e220    3 850 000       NaN            21%         Да\n",
       "6         BMW      x1    2 200 000       NaN            22%        Нет\n",
       "7         BMW      x3    3 350 000       NaN            23%         Да\n",
       "8    Mercedes    c200    2 750 000       NaN            24%        Нет\n",
       "9         BMW     318    2 100 000       NaN            25%        Нет\n",
       "10        BMW    530d    5 300 000       NaN            26%         Да\n",
       "11  MERCEDES     e400    5 900 000       NaN            28%         Да\n",
       "12   Mercedes     GLE    7 200 000       NaN            29%         Да\n",
       "13   Mercedes     cla    2 050 000       NaN            30%        Нет\n",
       "14   Mercedes     cls    4 650 000       NaN            31%         Да\n",
       "15   Mercedes     glc    3 950 000       NaN            32%         Да"
      ]
     },
     "execution_count": 78,
     "metadata": {},
     "output_type": "execute_result"
    }
   ],
   "source": [
    "df2"
   ]
  },
  {
   "cell_type": "code",
   "execution_count": 56,
   "id": "c0d2e070-2ea6-41b8-a4dc-7d5aa1699a1a",
   "metadata": {},
   "outputs": [
    {
     "data": {
      "text/plain": [
       "-    33129\n",
       "1    16558\n",
       "0    16475\n",
       "Name: Приход к диллеру, dtype: int64"
      ]
     },
     "execution_count": 56,
     "metadata": {},
     "output_type": "execute_result"
    }
   ],
   "source": [
    "df['Приход к диллеру'].value_counts()"
   ]
  },
  {
   "cell_type": "code",
   "execution_count": 57,
   "id": "5c176391-46bb-4d04-8f1c-3f190eff130c",
   "metadata": {},
   "outputs": [
    {
     "data": {
      "text/plain": [
       "-    33129\n",
       "1     8281\n",
       "0     8277\n",
       "Name: Просчет стоимости модели, dtype: int64"
      ]
     },
     "execution_count": 57,
     "metadata": {},
     "output_type": "execute_result"
    }
   ],
   "source": [
    "df['Просчет стоимости модели'].value_counts()"
   ]
  },
  {
   "cell_type": "code",
   "execution_count": 58,
   "id": "51767b1a-f483-4475-bbc0-be6cb8cd3fd8",
   "metadata": {},
   "outputs": [
    {
     "data": {
      "text/plain": [
       "-             33129\n",
       "0              4195\n",
       "1              4086\n",
       "Нет данных        1\n",
       "Name: Продажа, dtype: int64"
      ]
     },
     "execution_count": 58,
     "metadata": {},
     "output_type": "execute_result"
    }
   ],
   "source": [
    "df['Продажа'].value_counts()"
   ]
  },
  {
   "cell_type": "code",
   "execution_count": 59,
   "id": "b0128015-3648-4e1c-87f8-1415c387c5f8",
   "metadata": {},
   "outputs": [
    {
     "data": {
      "text/plain": [
       "Client ID                       0\n",
       "Город                           0\n",
       "Приход к диллеру                0\n",
       "Просчет стоимости модели    16475\n",
       "Продажа                     24751\n",
       "dtype: int64"
      ]
     },
     "execution_count": 59,
     "metadata": {},
     "output_type": "execute_result"
    }
   ],
   "source": [
    "df.isna().sum()"
   ]
  },
  {
   "cell_type": "code",
   "execution_count": 60,
   "id": "ad01aed2-12b8-43d6-858b-e3425ba43020",
   "metadata": {},
   "outputs": [
    {
     "data": {
      "text/plain": [
       "26110"
      ]
     },
     "execution_count": 60,
     "metadata": {},
     "output_type": "execute_result"
    }
   ],
   "source": [
    "df['Client ID'].duplicated().sum()"
   ]
  },
  {
   "cell_type": "code",
   "execution_count": 61,
   "id": "058b02bd-c5c9-4a68-9c81-1c41b6ea37fd",
   "metadata": {},
   "outputs": [
    {
     "data": {
      "text/plain": [
       "12495"
      ]
     },
     "execution_count": 61,
     "metadata": {},
     "output_type": "execute_result"
    }
   ],
   "source": [
    "df.duplicated().sum()"
   ]
  },
  {
   "cell_type": "code",
   "execution_count": 62,
   "id": "a2c66e26-b431-42a3-9d6c-44b1c59bb312",
   "metadata": {},
   "outputs": [
    {
     "data": {
      "text/plain": [
       "1"
      ]
     },
     "execution_count": 62,
     "metadata": {},
     "output_type": "execute_result"
    }
   ],
   "source": [
    "df1.duplicated().sum()"
   ]
  },
  {
   "cell_type": "code",
   "execution_count": 76,
   "id": "ddafe2e1-7e01-4ffa-aa8c-f09c64c3b1d8",
   "metadata": {},
   "outputs": [
    {
     "data": {
      "text/plain": [
       "(not set)                                                42746\n",
       "(not provided)                                           16641\n",
       "#NAME?                                                    1455\n",
       "киа краснодар                                              801\n",
       "КИА                                                        366\n",
       "                                                         ...  \n",
       "пиканто gt line                                              1\n",
       "киа пиканто gt line                                          1\n",
       "автосалоны в краснодаре новые автомобили цены и акции        1\n",
       "церато 2019 цена и комплектация                              1\n",
       "киа сол                                                      1\n",
       "Name: Keyword, Length: 685, dtype: int64"
      ]
     },
     "execution_count": 76,
     "metadata": {},
     "output_type": "execute_result"
    }
   ],
   "source": [
    "df1['Keyword'].value_counts()"
   ]
  },
  {
   "cell_type": "code",
   "execution_count": 63,
   "id": "1be87f15-f685-45c9-8b74-471b982134fc",
   "metadata": {
    "tags": []
   },
   "outputs": [
    {
     "data": {
      "text/plain": [
       "Mersedes-krasnodar.ru         33875\n",
       "BMW-keyauto-krd.ru            23860\n",
       "cars.BMW-keyauto-krd.ru        7790\n",
       "cars.Mersedes-krasnodar.ru      637\n",
       "Name: Domain, dtype: int64"
      ]
     },
     "execution_count": 63,
     "metadata": {},
     "output_type": "execute_result"
    }
   ],
   "source": [
    "df1['Domain'].value_counts()"
   ]
  },
  {
   "cell_type": "code",
   "execution_count": 64,
   "id": "13df3417-2a3e-487d-96c3-11795151f018",
   "metadata": {},
   "outputs": [
    {
     "data": {
      "text/plain": [
       "66162"
      ]
     },
     "execution_count": 64,
     "metadata": {},
     "output_type": "execute_result"
    }
   ],
   "source": [
    "df1['Domain'].value_counts().sum()"
   ]
  },
  {
   "cell_type": "code",
   "execution_count": 65,
   "id": "600c0101-8e74-4db0-9b07-6a1e2205e619",
   "metadata": {},
   "outputs": [
    {
     "data": {
      "text/plain": [
       "/                                                                                                                                                                                      32862\n",
       "(entrance)                                                                                                                                                                              6715\n",
       "/?keyauto_from=1                                                                                                                                                                        4639\n",
       "/models/e220/options/                                                                                                                                                                   1233\n",
       "/special/purchase/e220/item66188051.php                                                                                                                                                  890\n",
       "                                                                                                                                                                                       ...  \n",
       "/special/purchase/?calltouch_tm=yd_c:36451549_gb:3436027166_ad:6082727479_ph:14002772508_st:search_pt:premium_p:1_s:none_dt:mobile_reg:35_ret:_apt:none&yclid=18069394192645000064         1\n",
       "/special/purchase/?calltouch_tm=yd_c:36451549_gb:3436027166_ad:6082727479_ph:14002772508_st:search_pt:premium_p:2_s:none_dt:mobile_reg:35_ret:_apt:none&yclid=483784355639233388           1\n",
       "/special/purchase/?calltouch_tm=yd_c:36451549_gb:3436027166_ad:6082727479_ph:14002772508_st:search_pt:premium_p:1_s:none_dt:desktop_reg:35_ret:_apt:none&yclid=18384205705610824526        1\n",
       "/special/purchase/?calltouch_tm=yd_c:36451549_gb:3436027166_ad:6082727479_ph:14002772508_st:search_pt:premium_p:1_s:none_dt:mobile_reg:35_ret:_apt:none&yclid=18410907295974448606         1\n",
       "/special/purchase/?calltouch_tm=yd_c:36451549_gb:3435681394_ad:6081170080_ph:14000399287_st:search_pt:premium_p:1_s:none_dt:mobile_reg:40_ret:_apt:none&yclid=618685954909044492           1\n",
       "Name: Goal Completion Location, Length: 5080, dtype: int64"
      ]
     },
     "execution_count": 65,
     "metadata": {},
     "output_type": "execute_result"
    }
   ],
   "source": [
    "df1['Goal Completion Location'].value_counts()"
   ]
  },
  {
   "cell_type": "code",
   "execution_count": 66,
   "id": "f917c074-521b-4d12-8b0e-1e84eb97ed1d",
   "metadata": {
    "tags": []
   },
   "outputs": [],
   "source": [
    "df1['Car_manufacturer'] = df1['Domain'].str.findall('bmw|mersedes',flags=re.IGNORECASE)"
   ]
  },
  {
   "cell_type": "code",
   "execution_count": 67,
   "id": "27727bff-04a5-4738-9ef6-3c2255bb1676",
   "metadata": {},
   "outputs": [
    {
     "data": {
      "text/plain": [
       "[Mersedes]    34512\n",
       "[BMW]         31650\n",
       "Name: Car_manufacturer, dtype: int64"
      ]
     },
     "execution_count": 67,
     "metadata": {},
     "output_type": "execute_result"
    }
   ],
   "source": [
    "df1['Car_manufacturer'].value_counts()"
   ]
  },
  {
   "cell_type": "code",
   "execution_count": 68,
   "id": "a8664ab2-1dd7-4196-89a4-dbc2817509b6",
   "metadata": {},
   "outputs": [
    {
     "name": "stdout",
     "output_type": "stream",
     "text": [
      "<class 'list'>\n"
     ]
    }
   ],
   "source": [
    "print (type(df1.loc[df1.index[0], 'Car_manufacturer']))"
   ]
  },
  {
   "cell_type": "code",
   "execution_count": 69,
   "id": "5b028831-c988-4e5c-ab2f-bad1b5c1f0af",
   "metadata": {},
   "outputs": [],
   "source": [
    "df1['Car_manufacturer']= df1['Car_manufacturer'].str[0]"
   ]
  },
  {
   "cell_type": "code",
   "execution_count": 82,
   "id": "e4a90e2a-9ae6-4943-9b31-b87767781f31",
   "metadata": {
    "tags": []
   },
   "outputs": [],
   "source": [
    "df1['Model'] = df1['Goal Completion Location'].str.findall('x1|x3|x5|i3|318|530d|gls|gt_amg|c180|e220|c200|e400|gle|cla|cls|glc', flags=re.IGNORECASE)"
   ]
  },
  {
   "cell_type": "code",
   "execution_count": 85,
   "id": "c39cc486-7a09-4456-b923-6b8df9260632",
   "metadata": {},
   "outputs": [
    {
     "data": {
      "text/plain": [
       "e220      4585\n",
       "gls        938\n",
       "c200       935\n",
       "e400       909\n",
       "x1         789\n",
       "c180       688\n",
       "318        657\n",
       "glc        524\n",
       "cla        516\n",
       "cls        466\n",
       "X5         261\n",
       "530d       251\n",
       "GT_AMG     218\n",
       "x3         178\n",
       "GLE         41\n",
       "i3          21\n",
       "x5           3\n",
       "gle          1\n",
       "X3           1\n",
       "Name: Model, dtype: int64"
      ]
     },
     "execution_count": 85,
     "metadata": {},
     "output_type": "execute_result"
    }
   ],
   "source": [
    "df1['Model'].value_counts()"
   ]
  },
  {
   "cell_type": "code",
   "execution_count": 84,
   "id": "8bec92b8-10f5-4dcb-a45f-38f2026602c1",
   "metadata": {},
   "outputs": [],
   "source": [
    "df1['Model']=df1['Model'].str[0]"
   ]
  },
  {
   "cell_type": "code",
   "execution_count": 73,
   "id": "0a311d8f-acb1-4fe4-a574-35ab1180a0a3",
   "metadata": {},
   "outputs": [],
   "source": [
    "# df1.to_excel('Interim_data.xlsx',index=False, sheet_name='MarketData')\n",
    "with pd.ExcelWriter('Interim_data.xlsx') as writer:  \n",
    "    df1.to_excel(writer, sheet_name='MarketData')\n",
    "    df.to_excel(writer, sheet_name='CRM_data')\n",
    "    df2.to_excel(writer, sheet_name='Справочник')"
   ]
  },
  {
   "cell_type": "code",
   "execution_count": null,
   "id": "bf17ecce-8ecb-4032-8131-287049270cb1",
   "metadata": {},
   "outputs": [],
   "source": [
    "df1.to_csv('data.csv',index=False)"
   ]
  }
 ],
 "metadata": {
  "kernelspec": {
   "display_name": "Python 3 (ipykernel)",
   "language": "python",
   "name": "python3"
  },
  "language_info": {
   "codemirror_mode": {
    "name": "ipython",
    "version": 3
   },
   "file_extension": ".py",
   "mimetype": "text/x-python",
   "name": "python",
   "nbconvert_exporter": "python",
   "pygments_lexer": "ipython3",
   "version": "3.9.15"
  }
 },
 "nbformat": 4,
 "nbformat_minor": 5
}
