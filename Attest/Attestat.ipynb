{
 "cells": [
  {
   "cell_type": "code",
   "execution_count": 2,
   "id": "86559cf5-0fe7-4cf6-a7da-bc10af2b7d41",
   "metadata": {},
   "outputs": [],
   "source": [
    "import pandas as pd\n",
    "from IPython.display import display\n",
    "import re"
   ]
  },
  {
   "cell_type": "code",
   "execution_count": 10,
   "id": "78117d22-9581-4dce-af58-aee858e7f7c5",
   "metadata": {},
   "outputs": [],
   "source": [
    "from pandasql import sqldf"
   ]
  },
  {
   "cell_type": "code",
   "execution_count": 4,
   "id": "92b71536-40d4-475c-b56b-b075fdbd16fb",
   "metadata": {},
   "outputs": [
    {
     "data": {
      "text/plain": [
       "('Data.xlsx', <http.client.HTTPMessage at 0x2c8aa4871c0>)"
      ]
     },
     "execution_count": 4,
     "metadata": {},
     "output_type": "execute_result"
    }
   ],
   "source": [
    "import urllib.request\n",
    "book_id = '152JyksagijqyscnrFDc6Ez2VjT5MKNXpDOyc4PRlauw'\n",
    "link = f'https://docs.google.com/spreadsheets/d/{book_id}/export?format=xlsx'\n",
    "urllib.request.urlretrieve(link, \"Data.xlsx\")"
   ]
  },
  {
   "cell_type": "markdown",
   "id": "05c26851-6aa7-4dae-903d-9331a4b2918b",
   "metadata": {},
   "source": [
    "book_id = '152JyksagijqyscnrFDc6Ez2VjT5MKNXpDOyc4PRlauw'<br>\n",
    "sheet_name = '1111580473' // Маркетинговые<br>\n",
    "sheet_name = '208646510' // Справочник<br>\n",
    "sheet_name = '444632080' // Данные из CRM"
   ]
  },
  {
   "cell_type": "code",
   "execution_count": 4,
   "id": "5d73010b-dc68-42ea-ac39-77484c261060",
   "metadata": {},
   "outputs": [],
   "source": [
    "book_id = '152JyksagijqyscnrFDc6Ez2VjT5MKNXpDOyc4PRlauw'\n",
    "link = f'https://docs.google.com/spreadsheets/d/{book_id}/export?format=xlsx'\n",
    "# df = pd.read_excel(link, sheet_name = 1)\n",
    "# crm_sheet_name = '444632080'\n",
    "# market_sheet_name = '1111580473'\n",
    "# ref_book = '208646510'\n",
    "# crm = f'https://docs.google.com/spreadsheets/d/{book_id}/edit#gid={crm_sheet_name}'\n",
    "# market = f'https://docs.google.com/spreadsheets/d/{book_id}/edit#gid={market_sheet_name}'\n",
    "# ref = f'https://docs.google.com/spreadsheets/d/{book_id}/edit#gid={ref_book}'\n",
    "# crm_url = crm.replace('/edit#gid=', '/export?format=csv&gid=')\n",
    "# market_url = market.replace('/edit#gid=', '/export?format=csv&gid=')\n",
    "# ref_url = ref.replace('/edit#gid=', '/export?format=csv&gid=')\n",
    "# df = pd.read_csv(crm_url)\n",
    "# df1 = pd.read_csv(market_url)\n",
    "# df2 = pd.read_csv(ref_url)\n",
    "# Можно было загрузить XLSX со всеми листами, но тогда получается словарь при выводе которого можно посмотреть сколько листов и их названия. Далее повторно\n",
    "# доступ (pd.read_excel) - по умолчанию выводит первый лист, если нужен второй или третий (то аргумент sheet_name 1 или 2 соответственно)"
   ]
  },
  {
   "cell_type": "code",
   "execution_count": 5,
   "id": "376ca5bf-805f-4faf-a91f-1ca0d17cc4f2",
   "metadata": {
    "tags": []
   },
   "outputs": [],
   "source": [
    "df = pd.read_excel('Data.xlsx',sheet_name=2)"
   ]
  },
  {
   "cell_type": "code",
   "execution_count": 6,
   "id": "817016ba-1fdd-45d0-a0c3-b8772c37f460",
   "metadata": {},
   "outputs": [],
   "source": [
    "df1 = pd.read_excel('Data.xlsx', sheet_name = 0)"
   ]
  },
  {
   "cell_type": "code",
   "execution_count": 58,
   "id": "0e9055f6-21d7-4fcb-aebd-65f393919052",
   "metadata": {},
   "outputs": [
    {
     "name": "stdout",
     "output_type": "stream",
     "text": [
      "<class 'pandas.core.frame.DataFrame'>\n",
      "RangeIndex: 66162 entries, 0 to 66161\n",
      "Data columns (total 23 columns):\n",
      " #   Column                    Non-Null Count  Dtype  \n",
      "---  ------                    --------------  -----  \n",
      " 0   Client ID                 66162 non-null  object \n",
      " 1   Domain                    66162 non-null  object \n",
      " 2   City                      66162 non-null  object \n",
      " 3   Region                    66162 non-null  object \n",
      " 4   Browser                   66162 non-null  object \n",
      " 5   Device Category           66162 non-null  object \n",
      " 6   Date                      66162 non-null  object \n",
      " 7   Pageviews                 66162 non-null  int64  \n",
      " 8   Campaign                  66162 non-null  object \n",
      " 9   Keyword                   66162 non-null  object \n",
      " 10  Medium                    66162 non-null  object \n",
      " 11  Source                    66162 non-null  object \n",
      " 12  Avg. Session Duration     66162 non-null  float64\n",
      " 13  Bounce Rate               66162 non-null  float64\n",
      " 14  Sessions                  66162 non-null  int64  \n",
      " 15  Goal Completion Location  66162 non-null  object \n",
      " 16  Goal Completions          66162 non-null  int64  \n",
      " 17  Goal Conversion Rate      66162 non-null  float64\n",
      " 18  Goal Value                66162 non-null  int64  \n",
      " 19  Конверсия                 66162 non-null  int64  \n",
      " 20  Source conv.              66162 non-null  object \n",
      " 21  Car_manufacturer          66162 non-null  object \n",
      " 22  Model                     11982 non-null  object \n",
      "dtypes: float64(3), int64(5), object(15)\n",
      "memory usage: 11.6+ MB\n"
     ]
    }
   ],
   "source": [
    "df1.info()"
   ]
  },
  {
   "cell_type": "code",
   "execution_count": 7,
   "id": "3ab106de-d40e-4bec-bd34-684cc5ee0c17",
   "metadata": {},
   "outputs": [],
   "source": [
    "df2 = pd.read_excel('Data.xlsx', sheet_name = 1)"
   ]
  },
  {
   "cell_type": "code",
   "execution_count": 50,
   "id": "aa2bdd26-b737-4e72-8775-3e4c878ac145",
   "metadata": {},
   "outputs": [
    {
     "name": "stdout",
     "output_type": "stream",
     "text": [
      "<class 'pandas.core.frame.DataFrame'>\n",
      "RangeIndex: 16 entries, 0 to 15\n",
      "Data columns (total 6 columns):\n",
      " #   Column          Non-Null Count  Dtype  \n",
      "---  ------          --------------  -----  \n",
      " 0   Марка           16 non-null     object \n",
      " 1   Модель          16 non-null     object \n",
      " 2   Цена            16 non-null     float64\n",
      " 3   Валюта          3 non-null      object \n",
      " 4   Маржинальность  16 non-null     float64\n",
      " 5   Unnamed: 5      16 non-null     object \n",
      "dtypes: float64(2), object(4)\n",
      "memory usage: 896.0+ bytes\n"
     ]
    }
   ],
   "source": [
    "df2.info()"
   ]
  },
  {
   "cell_type": "code",
   "execution_count": 11,
   "id": "f8a7e847-82b9-4c67-827e-9542b9a69e1f",
   "metadata": {},
   "outputs": [],
   "source": [
    "# print(f'{df} \\n--------------'), print(xlsx)\n",
    "df_sales = df.query('Продажа == 1') "
   ]
  },
  {
   "cell_type": "code",
   "execution_count": 13,
   "id": "cbd449b0-52b3-45f6-8bf9-930c8d061024",
   "metadata": {},
   "outputs": [
    {
     "name": "stdout",
     "output_type": "stream",
     "text": [
      "<class 'pandas.core.frame.DataFrame'>\n",
      "Int64Index: 4086 entries, 12 to 66157\n",
      "Data columns (total 5 columns):\n",
      " #   Column                    Non-Null Count  Dtype \n",
      "---  ------                    --------------  ----- \n",
      " 0   Client ID                 4086 non-null   object\n",
      " 1   Город                     4086 non-null   object\n",
      " 2   Приход к диллеру          4086 non-null   object\n",
      " 3   Просчет стоимости модели  4086 non-null   object\n",
      " 4   Продажа                   4086 non-null   object\n",
      "dtypes: object(5)\n",
      "memory usage: 191.5+ KB\n"
     ]
    }
   ],
   "source": [
    "df_sales.info()"
   ]
  },
  {
   "cell_type": "code",
   "execution_count": 117,
   "id": "042550ad-f010-460f-8006-6bc766fc16ad",
   "metadata": {
    "tags": []
   },
   "outputs": [],
   "source": [
    "query = 'SELECT MD.\"Client ID\", SL.\"Город\", MD.\"Date\", MD.\"Car_manufacturer\", MD.\"Model\" FROM df_sales SL RIGHT JOIN df1 MD on SL.\"Client ID\" = MD.\"Client ID\" WHERE MD.\"Model\" NOT NULL;'\n",
    "result = sqldf(query)\n",
    "# Правая таблица больше, чем левая. В некоторых моделях стоял NULL, что не позволяет в будущем посчитать выручку."
   ]
  },
  {
   "cell_type": "code",
   "execution_count": 142,
   "id": "0a143eda-2fd3-497c-b4ad-92a0c22fad09",
   "metadata": {
    "tags": []
   },
   "outputs": [],
   "source": [
    "result['Client ID'].drop_duplicates(inplace=True)"
   ]
  },
  {
   "cell_type": "code",
   "execution_count": 139,
   "id": "4c605534-c024-4909-a11b-8512ef2e578f",
   "metadata": {},
   "outputs": [],
   "source": [
    "result2 = result1.groupby(by='Client ID').value_counts()"
   ]
  },
  {
   "cell_type": "code",
   "execution_count": 110,
   "id": "8dc4689a-8ffe-4c02-826d-b27ec716e4da",
   "metadata": {},
   "outputs": [],
   "source": [
    "# result1 = result[result['Model'].notnull()]"
   ]
  },
  {
   "cell_type": "code",
   "execution_count": 23,
   "id": "c0d2e070-2ea6-41b8-a4dc-7d5aa1699a1a",
   "metadata": {},
   "outputs": [
    {
     "data": {
      "text/plain": [
       "-    33129\n",
       "1    16558\n",
       "0    16475\n",
       "Name: Приход к диллеру, dtype: int64"
      ]
     },
     "execution_count": 23,
     "metadata": {},
     "output_type": "execute_result"
    }
   ],
   "source": [
    "df['Приход к диллеру'].value_counts()"
   ]
  },
  {
   "cell_type": "code",
   "execution_count": 24,
   "id": "5c176391-46bb-4d04-8f1c-3f190eff130c",
   "metadata": {},
   "outputs": [
    {
     "data": {
      "text/plain": [
       "-    33129\n",
       "1     8281\n",
       "0     8277\n",
       "Name: Просчет стоимости модели, dtype: int64"
      ]
     },
     "execution_count": 24,
     "metadata": {},
     "output_type": "execute_result"
    }
   ],
   "source": [
    "df['Просчет стоимости модели'].value_counts()"
   ]
  },
  {
   "cell_type": "code",
   "execution_count": 25,
   "id": "51767b1a-f483-4475-bbc0-be6cb8cd3fd8",
   "metadata": {},
   "outputs": [
    {
     "data": {
      "text/plain": [
       "-             33129\n",
       "0              4195\n",
       "1              4086\n",
       "Нет данных        1\n",
       "Name: Продажа, dtype: int64"
      ]
     },
     "execution_count": 25,
     "metadata": {},
     "output_type": "execute_result"
    }
   ],
   "source": [
    "df['Продажа'].value_counts()"
   ]
  },
  {
   "cell_type": "code",
   "execution_count": 26,
   "id": "b0128015-3648-4e1c-87f8-1415c387c5f8",
   "metadata": {},
   "outputs": [
    {
     "data": {
      "text/plain": [
       "Client ID                       0\n",
       "Город                           0\n",
       "Приход к диллеру                0\n",
       "Просчет стоимости модели    16475\n",
       "Продажа                     24751\n",
       "dtype: int64"
      ]
     },
     "execution_count": 26,
     "metadata": {},
     "output_type": "execute_result"
    }
   ],
   "source": [
    "df.isna().sum()"
   ]
  },
  {
   "cell_type": "code",
   "execution_count": 27,
   "id": "ad01aed2-12b8-43d6-858b-e3425ba43020",
   "metadata": {},
   "outputs": [
    {
     "data": {
      "text/plain": [
       "26110"
      ]
     },
     "execution_count": 27,
     "metadata": {},
     "output_type": "execute_result"
    }
   ],
   "source": [
    "df['Client ID'].duplicated().sum()"
   ]
  },
  {
   "cell_type": "code",
   "execution_count": 28,
   "id": "058b02bd-c5c9-4a68-9c81-1c41b6ea37fd",
   "metadata": {},
   "outputs": [
    {
     "data": {
      "text/plain": [
       "12495"
      ]
     },
     "execution_count": 28,
     "metadata": {},
     "output_type": "execute_result"
    }
   ],
   "source": [
    "df.duplicated().sum()"
   ]
  },
  {
   "cell_type": "code",
   "execution_count": 29,
   "id": "a2c66e26-b431-42a3-9d6c-44b1c59bb312",
   "metadata": {},
   "outputs": [
    {
     "data": {
      "text/plain": [
       "1"
      ]
     },
     "execution_count": 29,
     "metadata": {},
     "output_type": "execute_result"
    }
   ],
   "source": [
    "df1.duplicated().sum()"
   ]
  },
  {
   "cell_type": "code",
   "execution_count": 30,
   "id": "ddafe2e1-7e01-4ffa-aa8c-f09c64c3b1d8",
   "metadata": {},
   "outputs": [
    {
     "data": {
      "text/plain": [
       "(not set)                                                42746\n",
       "(not provided)                                           16641\n",
       "#NAME?                                                    1455\n",
       "киа краснодар                                              801\n",
       "КИА                                                        366\n",
       "                                                         ...  \n",
       "пиканто gt line                                              1\n",
       "киа пиканто gt line                                          1\n",
       "автосалоны в краснодаре новые автомобили цены и акции        1\n",
       "церато 2019 цена и комплектация                              1\n",
       "киа сол                                                      1\n",
       "Name: Keyword, Length: 685, dtype: int64"
      ]
     },
     "execution_count": 30,
     "metadata": {},
     "output_type": "execute_result"
    }
   ],
   "source": [
    "df1['Keyword'].value_counts()"
   ]
  },
  {
   "cell_type": "code",
   "execution_count": 31,
   "id": "1be87f15-f685-45c9-8b74-471b982134fc",
   "metadata": {
    "tags": []
   },
   "outputs": [
    {
     "data": {
      "text/plain": [
       "Mersedes-krasnodar.ru         33875\n",
       "BMW-keyauto-krd.ru            23860\n",
       "cars.BMW-keyauto-krd.ru        7790\n",
       "cars.Mersedes-krasnodar.ru      637\n",
       "Name: Domain, dtype: int64"
      ]
     },
     "execution_count": 31,
     "metadata": {},
     "output_type": "execute_result"
    }
   ],
   "source": [
    "df1['Domain'].value_counts()"
   ]
  },
  {
   "cell_type": "code",
   "execution_count": 32,
   "id": "13df3417-2a3e-487d-96c3-11795151f018",
   "metadata": {},
   "outputs": [
    {
     "data": {
      "text/plain": [
       "66162"
      ]
     },
     "execution_count": 32,
     "metadata": {},
     "output_type": "execute_result"
    }
   ],
   "source": [
    "df1['Domain'].value_counts().sum()"
   ]
  },
  {
   "cell_type": "code",
   "execution_count": 33,
   "id": "600c0101-8e74-4db0-9b07-6a1e2205e619",
   "metadata": {},
   "outputs": [
    {
     "data": {
      "text/plain": [
       "/                                                                                                                                                                                      32862\n",
       "(entrance)                                                                                                                                                                              6715\n",
       "/?keyauto_from=1                                                                                                                                                                        4639\n",
       "/models/e220/options/                                                                                                                                                                   1233\n",
       "/special/purchase/e220/item66188051.php                                                                                                                                                  890\n",
       "                                                                                                                                                                                       ...  \n",
       "/special/purchase/?calltouch_tm=yd_c:36451549_gb:3436027166_ad:6082727479_ph:14002772508_st:search_pt:premium_p:1_s:none_dt:mobile_reg:35_ret:_apt:none&yclid=18069394192645000064         1\n",
       "/special/purchase/?calltouch_tm=yd_c:36451549_gb:3436027166_ad:6082727479_ph:14002772508_st:search_pt:premium_p:2_s:none_dt:mobile_reg:35_ret:_apt:none&yclid=483784355639233388           1\n",
       "/special/purchase/?calltouch_tm=yd_c:36451549_gb:3436027166_ad:6082727479_ph:14002772508_st:search_pt:premium_p:1_s:none_dt:desktop_reg:35_ret:_apt:none&yclid=18384205705610824526        1\n",
       "/special/purchase/?calltouch_tm=yd_c:36451549_gb:3436027166_ad:6082727479_ph:14002772508_st:search_pt:premium_p:1_s:none_dt:mobile_reg:35_ret:_apt:none&yclid=18410907295974448606         1\n",
       "/special/purchase/?calltouch_tm=yd_c:36451549_gb:3435681394_ad:6081170080_ph:14000399287_st:search_pt:premium_p:1_s:none_dt:mobile_reg:40_ret:_apt:none&yclid=618685954909044492           1\n",
       "Name: Goal Completion Location, Length: 5080, dtype: int64"
      ]
     },
     "execution_count": 33,
     "metadata": {},
     "output_type": "execute_result"
    }
   ],
   "source": [
    "df1['Goal Completion Location'].value_counts()"
   ]
  },
  {
   "cell_type": "code",
   "execution_count": 51,
   "id": "f917c074-521b-4d12-8b0e-1e84eb97ed1d",
   "metadata": {
    "tags": []
   },
   "outputs": [],
   "source": [
    "df1['Car_manufacturer'] = df1['Domain'].str.findall('bmw|mersedes',flags=re.IGNORECASE)"
   ]
  },
  {
   "cell_type": "code",
   "execution_count": 52,
   "id": "27727bff-04a5-4738-9ef6-3c2255bb1676",
   "metadata": {},
   "outputs": [
    {
     "data": {
      "text/plain": [
       "[Mersedes]    34512\n",
       "[BMW]         31650\n",
       "Name: Car_manufacturer, dtype: int64"
      ]
     },
     "execution_count": 52,
     "metadata": {},
     "output_type": "execute_result"
    }
   ],
   "source": [
    "df1['Car_manufacturer'].value_counts()"
   ]
  },
  {
   "cell_type": "code",
   "execution_count": 53,
   "id": "a8664ab2-1dd7-4196-89a4-dbc2817509b6",
   "metadata": {},
   "outputs": [
    {
     "name": "stdout",
     "output_type": "stream",
     "text": [
      "<class 'list'>\n"
     ]
    }
   ],
   "source": [
    "print (type(df1.loc[df1.index[0], 'Car_manufacturer']))"
   ]
  },
  {
   "cell_type": "code",
   "execution_count": 54,
   "id": "5b028831-c988-4e5c-ab2f-bad1b5c1f0af",
   "metadata": {},
   "outputs": [],
   "source": [
    "df1['Car_manufacturer']= df1['Car_manufacturer'].str[0]"
   ]
  },
  {
   "cell_type": "code",
   "execution_count": 55,
   "id": "e4a90e2a-9ae6-4943-9b31-b87767781f31",
   "metadata": {
    "tags": []
   },
   "outputs": [],
   "source": [
    "df1['Model'] = df1['Goal Completion Location'].str.findall('x1|x3|x5|i3|318|530d|gls|gt_amg|c180|e220|c200|e400|gle|cla|cls|glc', flags=re.IGNORECASE)"
   ]
  },
  {
   "cell_type": "code",
   "execution_count": 56,
   "id": "c39cc486-7a09-4456-b923-6b8df9260632",
   "metadata": {},
   "outputs": [
    {
     "data": {
      "text/plain": [
       "[]                                                                                                          54180\n",
       "[e220]                                                                                                       4563\n",
       "[gls]                                                                                                         928\n",
       "[e400]                                                                                                        905\n",
       "[c200]                                                                                                        870\n",
       "[x1]                                                                                                          764\n",
       "[c180]                                                                                                        682\n",
       "[318]                                                                                                         636\n",
       "[glc]                                                                                                         519\n",
       "[cla]                                                                                                         512\n",
       "[cls]                                                                                                         466\n",
       "[X5]                                                                                                          259\n",
       "[530d]                                                                                                        251\n",
       "[GT_AMG]                                                                                                      215\n",
       "[x3]                                                                                                          178\n",
       "[c200, cla]                                                                                                    63\n",
       "[GLE]                                                                                                          41\n",
       "[i3]                                                                                                           21\n",
       "[e220, 318]                                                                                                    20\n",
       "[x1, x1, x1, x1, x1, x1, x1, x1, x1, x1, x1, x1]                                                                8\n",
       "[x1, x1, x1, x1, x1, x1, x1, x1, x1, x1, x1]                                                                    8\n",
       "[gls, gls, gls, gls]                                                                                            6\n",
       "[318, 318, 318, 318, 318, 318, 318, 318, 318, 318, 318, 318]                                                    6\n",
       "[318, 318, 318, 318, 318]                                                                                       6\n",
       "[318, 318, 318, 318, 318, 318]                                                                                  6\n",
       "[glc, 318]                                                                                                      4\n",
       "[e400, 318]                                                                                                     4\n",
       "[gls, 318]                                                                                                      4\n",
       "[cla, 318]                                                                                                      3\n",
       "[x1, x1, x1, x1, x1, x1, x1, x1, x1, x1]                                                                        3\n",
       "[x5]                                                                                                            3\n",
       "[c180, c180]                                                                                                    2\n",
       "[c200, 318]                                                                                                     2\n",
       "[x1, x1, x1, x1, x1, x1, x1, x1, x1, x1, x1, x1, x1, x1, x1, x1, x1, x1, x1]                                    2\n",
       "[GT_AMG, 318]                                                                                                   2\n",
       "[x1, x1, x1, x1, x1, x1, x1, x1, x1, x1, x1, x1, x1, x1, x1, x1]                                                2\n",
       "[c180, 318]                                                                                                     2\n",
       "[318, 318]                                                                                                      2\n",
       "[e220, glc, glc]                                                                                                1\n",
       "[cla, GLE]                                                                                                      1\n",
       "[e220, e220, e220]                                                                                              1\n",
       "[GT_AMG, GT_AMG]                                                                                                1\n",
       "[X3]                                                                                                            1\n",
       "[c180, c180, c180]                                                                                              1\n",
       "[gle]                                                                                                           1\n",
       "[x1, x1, x1, x1, x1, x1, x1, x1, x1, x1, x1, x1, x1]                                                            1\n",
       "[318, 318, 318]                                                                                                 1\n",
       "[c180, c200, c180, c180, c180, c200, c200, c200, c200]                                                          1\n",
       "[x1, x1, x1, x1, x1, x1, x1, x1, x1, x1, x1, x1, x1, x1, x1, x1, x1, x1, x1, x1, x1, x1, x1, x1, x1, x1]        1\n",
       "[X5, X5, X5, X5, X5, X5, X5, X5, X5, X5, X5, X5, X5, X5, X5, X5, X5, X5, X5, X5, X5, X5, X5]                    1\n",
       "[X5, X5, X5, X5, X5, X5, X5, X5, X5, X5, X5, X5, X5]                                                            1\n",
       "[glc, glc]                                                                                                      1\n",
       "Name: Model, dtype: int64"
      ]
     },
     "execution_count": 56,
     "metadata": {},
     "output_type": "execute_result"
    }
   ],
   "source": [
    "df1['Model'].value_counts()"
   ]
  },
  {
   "cell_type": "code",
   "execution_count": 57,
   "id": "8bec92b8-10f5-4dcb-a45f-38f2026602c1",
   "metadata": {},
   "outputs": [],
   "source": [
    "df1['Model']=df1['Model'].str[0]"
   ]
  },
  {
   "cell_type": "code",
   "execution_count": null,
   "id": "0a311d8f-acb1-4fe4-a574-35ab1180a0a3",
   "metadata": {},
   "outputs": [],
   "source": [
    "# df1.to_excel('Interim_data.xlsx',index=False, sheet_name='MarketData')\n",
    "with pd.ExcelWriter('Interim_data.xlsx') as writer:  \n",
    "    df1.to_excel(writer, sheet_name='MarketData')\n",
    "    df.to_excel(writer, sheet_name='CRM_data')\n",
    "    df2.to_excel(writer, sheet_name='Справочник')"
   ]
  },
  {
   "cell_type": "code",
   "execution_count": 143,
   "id": "3972ad36-49d1-4426-822d-b4a74fb66e82",
   "metadata": {},
   "outputs": [],
   "source": [
    "with pd.ExcelWriter('Sales_data_without_dups.xlsx') as writer:  \n",
    "    result.to_excel(writer, sheet_name='SalesbyDate')"
   ]
  },
  {
   "cell_type": "code",
   "execution_count": null,
   "id": "bf17ecce-8ecb-4032-8131-287049270cb1",
   "metadata": {},
   "outputs": [],
   "source": [
    "df1.to_csv('data.csv',index=False)"
   ]
  },
  {
   "cell_type": "code",
   "execution_count": null,
   "id": "ea73e470-53e0-45d2-9296-e8823e31784c",
   "metadata": {},
   "outputs": [],
   "source": []
  }
 ],
 "metadata": {
  "kernelspec": {
   "display_name": "Python 3 (ipykernel)",
   "language": "python",
   "name": "python3"
  },
  "language_info": {
   "codemirror_mode": {
    "name": "ipython",
    "version": 3
   },
   "file_extension": ".py",
   "mimetype": "text/x-python",
   "name": "python",
   "nbconvert_exporter": "python",
   "pygments_lexer": "ipython3",
   "version": "3.9.15"
  }
 },
 "nbformat": 4,
 "nbformat_minor": 5
}
