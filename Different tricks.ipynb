{
 "cells": [
  {
   "cell_type": "code",
   "execution_count": null,
   "id": "887bb669-d257-4009-a6af-03812770a87a",
   "metadata": {},
   "outputs": [],
   "source": [
    "$PSDefaultParameterValues['Out-File:Encoding'] = 'utf8'\n",
    "# to change output coding page PS to utf-8. It was required for next command \n",
    "pip list > pip_list.md\n",
    "# file was saved in non-uff8 encoding and didn't opened."
   ]
  },
  {
   "cell_type": "code",
   "execution_count": null,
   "id": "c083d209-5a1a-4f6d-8d83-39623c8ea3ee",
   "metadata": {},
   "outputs": [],
   "source": []
  }
 ],
 "metadata": {
  "kernelspec": {
   "display_name": "Python 3 (ipykernel)",
   "language": "python",
   "name": "python3"
  },
  "language_info": {
   "codemirror_mode": {
    "name": "ipython",
    "version": 3
   },
   "file_extension": ".py",
   "mimetype": "text/x-python",
   "name": "python",
   "nbconvert_exporter": "python",
   "pygments_lexer": "ipython3",
   "version": "3.9.16"
  }
 },
 "nbformat": 4,
 "nbformat_minor": 5
}