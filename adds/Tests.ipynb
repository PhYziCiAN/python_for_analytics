{
 "cells": [
  {
   "cell_type": "code",
   "execution_count": 1,
   "id": "c68d0b85-2ce3-4287-99d6-fbe0231080e4",
   "metadata": {},
   "outputs": [],
   "source": [
    "import numpy as np"
   ]
  },
  {
   "cell_type": "code",
   "execution_count": 2,
   "id": "a1859d53-604c-4cf5-8636-d08e8d2bcdf7",
   "metadata": {},
   "outputs": [],
   "source": [
    "my_arr = np.arange(1000)\n",
    "my_list = list(range(1000))"
   ]
  },
  {
   "cell_type": "code",
   "execution_count": 12,
   "id": "56415e95-2aec-4a4f-9d8e-04a20a60d886",
   "metadata": {},
   "outputs": [
    {
     "name": "stdout",
     "output_type": "stream",
     "text": [
      "CPU times: total: 234 ms\n",
      "Wall time: 210 ms\n"
     ]
    }
   ],
   "source": [
    "%time for _ in range(100000):my_arr2 = my_arr*2"
   ]
  },
  {
   "cell_type": "code",
   "execution_count": 13,
   "id": "c19076ba-d7f1-48f2-ac35-7a913c40bb93",
   "metadata": {},
   "outputs": [
    {
     "name": "stdout",
     "output_type": "stream",
     "text": [
      "CPU times: total: 5.69 s\n",
      "Wall time: 5.67 s\n"
     ]
    }
   ],
   "source": [
    "%time for _ in range(100000):my_list2 = [i*2 for i in my_list]"
   ]
  }
 ],
 "metadata": {
  "kernelspec": {
   "display_name": "Python 3 (ipykernel)",
   "language": "python",
   "name": "python3"
  },
  "language_info": {
   "codemirror_mode": {
    "name": "ipython",
    "version": 3
   },
   "file_extension": ".py",
   "mimetype": "text/x-python",
   "name": "python",
   "nbconvert_exporter": "python",
   "pygments_lexer": "ipython3",
   "version": "3.9.13"
  }
 },
 "nbformat": 4,
 "nbformat_minor": 5
}
