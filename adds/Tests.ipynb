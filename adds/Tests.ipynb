{
 "cells": [
  {
   "cell_type": "code",
   "execution_count": 1,
   "id": "515a05bd-2f9c-4e32-aa7f-67a52f3531d9",
   "metadata": {
    "tags": []
   },
   "outputs": [],
   "source": [
    "import pandas as pd\n",
    "import numpy as np"
   ]
  },
  {
   "cell_type": "code",
   "execution_count": null,
   "id": "6d4bc3c4-65b7-4913-a651-f00a9739fcb6",
   "metadata": {
    "tags": []
   },
   "outputs": [],
   "source": [
    "import os"
   ]
  },
  {
   "cell_type": "code",
   "execution_count": null,
   "id": "e61d5b47-abe6-4317-bf4d-05f338dc27d2",
   "metadata": {
    "collapsed": true,
    "jupyter": {
     "outputs_hidden": true
    }
   },
   "outputs": [],
   "source": [
    "dir1 = os.walk('C:/Users/PhYziCiAN/GitHub/python_for_analytics/adds/');\n",
    "a = [i for i in dir1]\n",
    "for item in a:\n",
    "    \n",
    "print (s)"
   ]
  },
  {
   "cell_type": "markdown",
   "id": "599bbdd0-36b6-4465-825f-371fd72388a3",
   "metadata": {
    "jp-MarkdownHeadingCollapsed": true,
    "tags": []
   },
   "source": [
    "### Taxis dataframe"
   ]
  },
  {
   "cell_type": "code",
   "execution_count": 2,
   "id": "579845c9-7172-4df9-b51c-f92c5c38f5e8",
   "metadata": {
    "collapsed": true,
    "jupyter": {
     "outputs_hidden": true
    }
   },
   "outputs": [],
   "source": [
    "df = pd.read_csv('taxis.csv')"
   ]
  },
  {
   "cell_type": "code",
   "execution_count": null,
   "id": "c13904f4-4f0b-49a9-a731-2b03533bace2",
   "metadata": {
    "collapsed": true,
    "jupyter": {
     "outputs_hidden": true
    }
   },
   "outputs": [],
   "source": [
    "def lim(df):\n",
    "    if (dropoff_zone == \"West Village\"):\n",
    "        df1 = df\n",
    "    else:\n",
    "        df1 = df[df.center_JO == geography]\n",
    "    df_date = df1[(df1.date >= start) & (df1.date <= end)]\n",
    "    return df_date\n",
    "\n",
    "df_lim = lim(df).copy() #filter something"
   ]
  },
  {
   "cell_type": "code",
   "execution_count": null,
   "id": "902b4820-e884-49f7-8f95-0216eeeca21c",
   "metadata": {
    "collapsed": true,
    "jupyter": {
     "outputs_hidden": true
    }
   },
   "outputs": [],
   "source": [
    "df_lim = df[df['dropoff_zone'].isin(['West Village','Flatiron']) & (df['fare']<7.5)]\n",
    "df_lim"
   ]
  },
  {
   "cell_type": "code",
   "execution_count": null,
   "id": "553afb51-379c-4214-b293-1d80c5edf604",
   "metadata": {
    "collapsed": true,
    "jupyter": {
     "outputs_hidden": true
    }
   },
   "outputs": [],
   "source": [
    "df1 = df.loc[0:4, :] # create new dataframe from current with definitive number of rows\n",
    "df1.dropoff_zone.value_counts()"
   ]
  },
  {
   "cell_type": "code",
   "execution_count": null,
   "id": "90503a29-ceb8-4e32-9819-c9ba9c0eecd4",
   "metadata": {
    "collapsed": true,
    "jupyter": {
     "outputs_hidden": true
    }
   },
   "outputs": [],
   "source": [
    "df.head(15)"
   ]
  },
  {
   "cell_type": "code",
   "execution_count": null,
   "id": "4d91f12b-9af4-40e5-ae45-a4afc6c7b355",
   "metadata": {
    "collapsed": true,
    "jupyter": {
     "outputs_hidden": true
    }
   },
   "outputs": [],
   "source": [
    "df.info()"
   ]
  },
  {
   "cell_type": "code",
   "execution_count": null,
   "id": "b91e7731-1089-4484-9ae1-60239e3a9222",
   "metadata": {
    "collapsed": true,
    "jupyter": {
     "outputs_hidden": true
    },
    "tags": []
   },
   "outputs": [],
   "source": [
    "df.columns[8:2:-1]"
   ]
  },
  {
   "cell_type": "code",
   "execution_count": null,
   "id": "92498073-ded4-48e5-8925-1f01a61344b1",
   "metadata": {
    "collapsed": true,
    "jupyter": {
     "outputs_hidden": true
    }
   },
   "outputs": [],
   "source": [
    "# df[['orbital_period','mass', 'distance']] = df[['orbital_period','mass', 'distance']].astype('float32')\n",
    "df[df.columns[2:8]] = df[df.columns[2:8]].astype('float32')"
   ]
  },
  {
   "cell_type": "code",
   "execution_count": null,
   "id": "752f6544-0770-425e-a725-b724fe6cec66",
   "metadata": {
    "collapsed": true,
    "jupyter": {
     "outputs_hidden": true
    }
   },
   "outputs": [],
   "source": [
    "df[df.columns[5]] = df[df.columns[5]].astype('int32')"
   ]
  },
  {
   "cell_type": "code",
   "execution_count": null,
   "id": "38b22f14-4bd9-4fce-ab6b-0ce0c1ace52c",
   "metadata": {
    "collapsed": true,
    "jupyter": {
     "outputs_hidden": true
    }
   },
   "outputs": [],
   "source": [
    "%%time\n",
    "df.index"
   ]
  },
  {
   "cell_type": "code",
   "execution_count": null,
   "id": "03a1f674-821e-46cc-a5e3-bc1185730705",
   "metadata": {
    "collapsed": true,
    "jupyter": {
     "outputs_hidden": true
    }
   },
   "outputs": [],
   "source": [
    "df.infer_objects().dtypes #Attempts soft conversion of object-dtyped columns, leaving non-object and unconvertible columns unchanged"
   ]
  },
  {
   "cell_type": "code",
   "execution_count": null,
   "id": "63941e6a-c495-4630-8093-9845828a2bd8",
   "metadata": {
    "collapsed": true,
    "jupyter": {
     "outputs_hidden": true
    }
   },
   "outputs": [],
   "source": [
    "df.info()"
   ]
  },
  {
   "cell_type": "code",
   "execution_count": null,
   "id": "ae9549e6-82ea-4bb3-9357-802cce0fc5d9",
   "metadata": {
    "collapsed": true,
    "jupyter": {
     "outputs_hidden": true
    }
   },
   "outputs": [],
   "source": [
    "# Show dataframe columns\n",
    "df.columns"
   ]
  },
  {
   "cell_type": "code",
   "execution_count": null,
   "id": "e825a319-0d32-4085-9ac5-baf51fb8c2b1",
   "metadata": {
    "collapsed": true,
    "jupyter": {
     "outputs_hidden": true
    }
   },
   "outputs": [],
   "source": [
    "'index', df.index, 'size', df.size, 'shape', df.shape"
   ]
  },
  {
   "cell_type": "code",
   "execution_count": null,
   "id": "ad9cdccf-6e44-48ee-981e-3455c0fd03f7",
   "metadata": {
    "collapsed": true,
    "jupyter": {
     "outputs_hidden": true
    }
   },
   "outputs": [],
   "source": [
    "# Получить столбец\n",
    "df['pickup'][:3]"
   ]
  },
  {
   "cell_type": "code",
   "execution_count": null,
   "id": "bc21e966-f804-400b-a001-63951068040b",
   "metadata": {
    "collapsed": true,
    "jupyter": {
     "outputs_hidden": true
    }
   },
   "outputs": [],
   "source": [
    "# Получить столбец по-другому\n",
    "df.pickup[:3]"
   ]
  },
  {
   "cell_type": "code",
   "execution_count": null,
   "id": "e2c9a94f-2c1c-4d6f-8425-7861d6d4ea93",
   "metadata": {
    "collapsed": true,
    "jupyter": {
     "outputs_hidden": true
    }
   },
   "outputs": [],
   "source": [
    "# Получить более 1 столбца\n",
    "df[['pickup', 'dropoff', 'passengers', 'distance']][:2]"
   ]
  },
  {
   "cell_type": "code",
   "execution_count": null,
   "id": "8f8e3f8b-0977-497a-9965-9b73e7c3c139",
   "metadata": {
    "collapsed": true,
    "jupyter": {
     "outputs_hidden": true
    }
   },
   "outputs": [],
   "source": [
    "# Отбор строк по индексу\n",
    "df.loc[45]"
   ]
  },
  {
   "cell_type": "code",
   "execution_count": null,
   "id": "bd60ae16-3113-489e-952f-939830b22fd5",
   "metadata": {
    "collapsed": true,
    "jupyter": {
     "outputs_hidden": true
    }
   },
   "outputs": [],
   "source": [
    "# Отбираем более 1 строки\n",
    "df.loc[[45, 55]]"
   ]
  },
  {
   "cell_type": "code",
   "execution_count": null,
   "id": "c9e64b15-5c56-4e0d-899d-5d0cd32f9851",
   "metadata": {
    "collapsed": true,
    "jupyter": {
     "outputs_hidden": true
    }
   },
   "outputs": [],
   "source": [
    "# Отбор строк по позициям\n",
    "df.iloc[[45, 8]]"
   ]
  },
  {
   "cell_type": "code",
   "execution_count": null,
   "id": "6f962086-d99e-47df-acd2-b6dd3fe967b2",
   "metadata": {
    "collapsed": true,
    "jupyter": {
     "outputs_hidden": true
    }
   },
   "outputs": [],
   "source": [
    "# Получаем позиции по значению индекса\n",
    "df.index.get_loc(45)"
   ]
  },
  {
   "cell_type": "code",
   "execution_count": null,
   "id": "f93d446f-0beb-4828-95ad-d444e61103b1",
   "metadata": {
    "collapsed": true,
    "jupyter": {
     "outputs_hidden": true
    }
   },
   "outputs": [],
   "source": [
    "# Первые 3 строки\n",
    "df[:3]"
   ]
  },
  {
   "cell_type": "code",
   "execution_count": null,
   "id": "a00d0550-bbb2-439a-8d9d-f433dc9f59e7",
   "metadata": {
    "collapsed": true,
    "jupyter": {
     "outputs_hidden": true
    }
   },
   "outputs": [],
   "source": [
    "# Последние 3 строки\n",
    "df[-3:]"
   ]
  },
  {
   "cell_type": "code",
   "execution_count": null,
   "id": "0e72db3b-aa42-4303-999c-c1af4c862891",
   "metadata": {
    "collapsed": true,
    "jupyter": {
     "outputs_hidden": true
    }
   },
   "outputs": [],
   "source": [
    "# Только последняя строка\n",
    "df[-1:]"
   ]
  },
  {
   "cell_type": "code",
   "execution_count": null,
   "id": "365b44cb-a40e-4311-8c7d-6e1383347481",
   "metadata": {
    "collapsed": true,
    "jupyter": {
     "outputs_hidden": true
    }
   },
   "outputs": [],
   "source": [
    "# Срез по значению индекса\n",
    "df[0:2]"
   ]
  },
  {
   "cell_type": "code",
   "execution_count": null,
   "id": "721abdd8-51f2-4760-8a12-f0ced1314989",
   "metadata": {
    "collapsed": true,
    "jupyter": {
     "outputs_hidden": true
    }
   },
   "outputs": [],
   "source": [
    "# Пример bool серии\n",
    "df['distance'] >= 3"
   ]
  },
  {
   "cell_type": "code",
   "execution_count": null,
   "id": "97efbe43-3e31-4d46-8841-e989a068256d",
   "metadata": {
    "collapsed": true,
    "jupyter": {
     "outputs_hidden": true
    }
   },
   "outputs": [],
   "source": [
    "# Отбор строк\n",
    "df[df['distance'] >= 33]"
   ]
  },
  {
   "cell_type": "code",
   "execution_count": null,
   "id": "edd17e75-1de3-4f8b-9130-857b6b00d82d",
   "metadata": {
    "collapsed": true,
    "jupyter": {
     "outputs_hidden": true
    }
   },
   "outputs": [],
   "source": [
    "# Более 1 условия\n",
    "df[(df['distance'] >= 33) &\n",
    "        (df['pickup_zone'] == 'JFK Airport')]"
   ]
  },
  {
   "cell_type": "code",
   "execution_count": null,
   "id": "f691f54f-bef0-4f2b-a56d-ab1f48e8aea2",
   "metadata": {
    "collapsed": true,
    "jupyter": {
     "outputs_hidden": true
    }
   },
   "outputs": [],
   "source": [
    "df.loc[[0, 1],\n",
    "         ['pickup', 'dropoff']]"
   ]
  },
  {
   "cell_type": "code",
   "execution_count": null,
   "id": "789586e0-2174-4e7a-abf3-2a532afa8de7",
   "metadata": {
    "collapsed": true,
    "jupyter": {
     "outputs_hidden": true
    }
   },
   "outputs": [],
   "source": [
    "# Переименование столбцов\n",
    "# Создадим новую переменную\n",
    "df_2 = df.rename(columns={'passengers': 'people'}) # rename passengers to people\n",
    "df_2[:2]"
   ]
  },
  {
   "cell_type": "code",
   "execution_count": null,
   "id": "1660d3c3-ca2c-469c-ac57-188beb09f67d",
   "metadata": {
    "collapsed": true,
    "jupyter": {
     "outputs_hidden": true
    }
   },
   "outputs": [],
   "source": [
    "# Переименовать без создания новых переменных\n",
    "df.rename(columns={'passengers': 'people'}, inplace=True) # renaming inplace\n",
    "df.rename(columns ={'people': 'passengers'}, inplace=True)"
   ]
  },
  {
   "cell_type": "code",
   "execution_count": 8,
   "id": "142c1566-62e5-4bce-b1ed-bf0fbd02aaea",
   "metadata": {
    "collapsed": true,
    "jupyter": {
     "outputs_hidden": true
    }
   },
   "outputs": [],
   "source": [
    "# Создадим копию датафрейма\n",
    "df_c = df.copy()"
   ]
  },
  {
   "cell_type": "code",
   "execution_count": null,
   "id": "ec57a717-3d99-47d2-9d4f-ba6f779ea245",
   "metadata": {
    "collapsed": true,
    "jupyter": {
     "outputs_hidden": true
    }
   },
   "outputs": [],
   "source": [
    "# Добавим новый столбец\n",
    "df_c['total_income'] = (df_c['tip']\n",
    "                        + df_c['total']) # add new column that is result of addition (sum of) two columns\n",
    "df_c.head(5)"
   ]
  },
  {
   "cell_type": "code",
   "execution_count": null,
   "id": "ff301b01-d65b-4d46-8973-f68a8223ca7e",
   "metadata": {
    "collapsed": true,
    "jupyter": {
     "outputs_hidden": true
    }
   },
   "outputs": [],
   "source": [
    "# Создать столбец с указанием места для этого столбца\n",
    "df_c.insert(13, 'fare+total', (df_c['total_income']\n",
    "                                   + df_c['fare']))\n",
    "df_c[:2]"
   ]
  },
  {
   "cell_type": "code",
   "execution_count": null,
   "id": "006893b3-5ad0-44de-837d-256d152def24",
   "metadata": {
    "collapsed": true,
    "jupyter": {
     "outputs_hidden": true
    }
   },
   "outputs": [],
   "source": [
    "# Изменить существующий столбец\n",
    "df_c['fare+total'] = df_c['fare+total'].round()\n",
    "df_c[:4]"
   ]
  },
  {
   "cell_type": "code",
   "execution_count": null,
   "id": "5045e98d-6666-4788-b040-4c19359acb05",
   "metadata": {
    "collapsed": true,
    "jupyter": {
     "outputs_hidden": true
    },
    "tags": []
   },
   "outputs": [],
   "source": [
    "df_c.rename(columns={'passengers': 'people'}, inplace=True)\n",
    "df_c.insert(0, 'people', df_c.pop('people')) # cut people column and insert at columns it first ('0' position)\n",
    "df_c.head(2)"
   ]
  },
  {
   "cell_type": "code",
   "execution_count": null,
   "id": "21bc3c6b-9e0c-4b80-b4ab-b44bc5ba5f53",
   "metadata": {
    "collapsed": true,
    "jupyter": {
     "outputs_hidden": true
    }
   },
   "outputs": [],
   "source": [
    "# Создать столбец из серии\n",
    "# Создать серию со случайными значениями\n",
    "np.random.seed(123456)\n",
    "s_random = pd.Series(np.random.normal(size=1615),\n",
    "                     index=df_c.index)\n",
    "\n",
    "# Добавить столбец из серии\n",
    "df_c.loc[:, 'sample_col'] = s_random"
   ]
  },
  {
   "cell_type": "code",
   "execution_count": null,
   "id": "2523a972-1de8-4eb0-a892-26a68b1cfc96",
   "metadata": {
    "collapsed": true,
    "jupyter": {
     "outputs_hidden": true
    }
   },
   "outputs": [],
   "source": [
    "# Расположить столбцы в обратном порядке\n",
    "# Имена столбцов в обратном порядке\n",
    "cols = rus_alc_c.columns[::-1]\n",
    "football.iloc[:, ::-1]\n",
    "\n",
    "# Расположить столбцы в обратном порядке\n",
    "rus_alc_c[cols][:4]\n"
   ]
  },
  {
   "cell_type": "code",
   "execution_count": null,
   "id": "4a6e3a54-92e8-4549-aa04-1ce13c35d1b5",
   "metadata": {
    "collapsed": true,
    "jupyter": {
     "outputs_hidden": true
    }
   },
   "outputs": [],
   "source": [
    "df[[c for c in df if c not in ['b', 'x']] \n",
    "       + ['b', 'x']] #append columns 'b', 'x' from dataset to the end of dataset (last 2 columns)"
   ]
  },
  {
   "cell_type": "code",
   "execution_count": null,
   "id": "038e2e3e-fb68-4235-a596-4739556f65ff",
   "metadata": {
    "collapsed": true,
    "jupyter": {
     "outputs_hidden": true
    },
    "tags": []
   },
   "outputs": [],
   "source": [
    "cols = list(df.columns.values) # change columns order in list and transfer it to a new variable 'new_cols'\n",
    "new_cols = ['pickup',\n",
    " 'dropoff',\n",
    " 'passengers',\n",
    " 'distance',\n",
    " 'fare',\n",
    " 'tip',\n",
    " 'tolls',\n",
    " 'color',\n",
    " 'payment',\n",
    " 'pickup_zone',\n",
    " 'dropoff_zone',\n",
    "'total',\n",
    " 'pickup_borough',\n",
    " 'dropoff_borough']\n",
    "df = df.reindex(columns=new_cols)\n",
    "df.head(2)"
   ]
  },
  {
   "cell_type": "code",
   "execution_count": null,
   "id": "ca7c7944-d41f-4ffc-9e79-04d9ab76a56b",
   "metadata": {
    "collapsed": true,
    "jupyter": {
     "outputs_hidden": true
    }
   },
   "outputs": [],
   "source": [
    "df[['pu_year','pu_month','pu_day']] = df['pickup'].str.split('-',expand=True) #slipt pickup column into 3 columns\n",
    "df[['pu_day','time']] = df['pu_day'].str.split(' ',expand=True)"
   ]
  },
  {
   "cell_type": "code",
   "execution_count": null,
   "id": "f48faea3-cd95-44cc-b8fa-2467439fb1a2",
   "metadata": {
    "collapsed": true,
    "jupyter": {
     "outputs_hidden": true
    },
    "tags": []
   },
   "outputs": [],
   "source": [
    "df[df.columns[-4:]] # last 4 columns (-1;-;2;-3;-4)\n",
    "df[df.columns[:-4]] # without 4 last columns"
   ]
  },
  {
   "cell_type": "code",
   "execution_count": null,
   "id": "1e9699b4-e385-4008-a485-87402751f5bf",
   "metadata": {
    "collapsed": true,
    "jupyter": {
     "outputs_hidden": true
    },
    "tags": []
   },
   "outputs": [],
   "source": [
    "df['full_time'] = df['pu_year']+ df['pu_month'] + df['pu_day'] + df['time'] # also you may concatenate columns from \n",
    "# another dataframe (e.g. df1['col1']+df2['col2'])"
   ]
  },
  {
   "cell_type": "code",
   "execution_count": null,
   "id": "19db591f-ee30-4517-8575-419d9b5ddc24",
   "metadata": {
    "collapsed": true,
    "jupyter": {
     "outputs_hidden": true
    },
    "tags": []
   },
   "outputs": [],
   "source": [
    "data1 = {'set1': [55, 22, 11, 77, 33]} \n",
    "df1 = pd.DataFrame(data1) \n",
    "\n",
    "data2 = {'set2': [23, 45, 21, 73, 48]} \n",
    "df2 = pd.DataFrame(data2)\n",
    "\n",
    "concatenated = df1['set1'].map(str) + df2['set2'].map(str) # to conactenate integers with strings you need map(str) function\n",
    "\n",
    "combined = pd.DataFrame(concatenated)\n",
    "combined = combined.astype('int32')\n",
    "combined.head(10)\n",
    "# max_value = combined.max()\n",
    "\n",
    "# print(max_value)"
   ]
  },
  {
   "cell_type": "markdown",
   "id": "9213e85c-b28c-43cf-b990-681006e73978",
   "metadata": {
    "jp-MarkdownHeadingCollapsed": true,
    "tags": []
   },
   "source": [
    "### Some other tricks (numpy, list comprehension)"
   ]
  },
  {
   "cell_type": "code",
   "execution_count": null,
   "id": "aba1d936-f15e-4526-b582-83e2d4fe3a18",
   "metadata": {
    "collapsed": true,
    "jupyter": {
     "outputs_hidden": true
    },
    "pycharm": {
     "name": "#%%\n"
    }
   },
   "outputs": [],
   "source": [
    "import numpy as np"
   ]
  },
  {
   "cell_type": "code",
   "execution_count": null,
   "id": "f8d66117-3d4e-4f0c-aa77-0b0362403d6e",
   "metadata": {
    "collapsed": true,
    "jupyter": {
     "outputs_hidden": true
    },
    "pycharm": {
     "name": "#%%\n"
    }
   },
   "outputs": [],
   "source": [
    "my_arr = np.arange(1000)\n",
    "my_list = list(range(1000))"
   ]
  },
  {
   "cell_type": "code",
   "execution_count": null,
   "id": "db0ed224-06d8-4df2-8298-2e4f89951c58",
   "metadata": {
    "collapsed": true,
    "jupyter": {
     "outputs_hidden": true
    },
    "pycharm": {
     "name": "#%%\n"
    }
   },
   "outputs": [],
   "source": [
    "% time for _ in range(100000):my_arr2 = my_arr*2"
   ]
  },
  {
   "cell_type": "code",
   "execution_count": null,
   "id": "3ea05830-8d5f-472d-8e37-b55d1dee1405",
   "metadata": {
    "collapsed": true,
    "jupyter": {
     "outputs_hidden": true
    },
    "pycharm": {
     "name": "#%%\n"
    }
   },
   "outputs": [],
   "source": [
    "% time for _ in range(100000):my_list2 = [i*2 for i in my_list]"
   ]
  },
  {
   "cell_type": "markdown",
   "id": "05f6e4d0-4c62-4e87-801c-3b11d966d482",
   "metadata": {
    "jp-MarkdownHeadingCollapsed": true,
    "tags": []
   },
   "source": [
    "### Next tests"
   ]
  },
  {
   "cell_type": "code",
   "execution_count": null,
   "id": "4071cf27-bc1c-4ace-bab9-4165431c135f",
   "metadata": {
    "collapsed": true,
    "jupyter": {
     "outputs_hidden": true
    }
   },
   "outputs": [],
   "source": [
    "# Можно задать пользовательскую индексацию\n",
    "albums_df.index = ['a', 'b', 'c', 'd', 'e']"
   ]
  },
  {
   "cell_type": "code",
   "execution_count": null,
   "id": "7f159eb3-17fb-4d99-86b9-9589bc9b3f0a",
   "metadata": {
    "collapsed": true,
    "jupyter": {
     "outputs_hidden": true
    }
   },
   "outputs": [],
   "source": [
    "albums_df_2 = pd.DataFrame([{'album': 'Point of Entry',\n",
    "                             'year': 1981},\n",
    "                            {'album': 'Screaming for Vengeance',\n",
    "                             'year': 1982}],\n",
    "                           columns=['year', 'album'])"
   ]
  },
  {
   "cell_type": "code",
   "execution_count": null,
   "id": "81bd6c8a-14d4-4c1a-993d-1fb1e5b0b864",
   "metadata": {
    "collapsed": true,
    "jupyter": {
     "outputs_hidden": true
    },
    "tags": []
   },
   "outputs": [],
   "source": [
    "# Создадим списки, которые станут столбцами датафрейма\n",
    "name = ['Rocka Rolla', 'Sad Wings of Destiny', 'Sin After Sin', 'Stained Class', 'Killing Machine']\n",
    "year = [1974, 1976, 1977, 1978, 1978]"
   ]
  },
  {
   "cell_type": "code",
   "execution_count": null,
   "id": "64e40821-1830-419d-8ca0-074cc2b7392e",
   "metadata": {
    "collapsed": true,
    "jupyter": {
     "outputs_hidden": true
    }
   },
   "outputs": [],
   "source": [
    "# Создадим словарь\n",
    "albums_dict = {'album': name, 'release_year': year}"
   ]
  },
  {
   "cell_type": "code",
   "execution_count": null,
   "id": "b474022c-066e-48f4-87fa-be46bf26fc10",
   "metadata": {
    "collapsed": true,
    "jupyter": {
     "outputs_hidden": true
    }
   },
   "outputs": [],
   "source": [
    "# Создаем DataFrame\n",
    "albums_df = pd.DataFrame(albums_dict)"
   ]
  },
  {
   "cell_type": "code",
   "execution_count": null,
   "id": "454ae08e-bfb7-443e-873f-999d70531cf4",
   "metadata": {
    "collapsed": true,
    "jupyter": {
     "outputs_hidden": true
    }
   },
   "outputs": [],
   "source": [
    "# По умолчанию индексация - это диапазон чисел\n",
    "albums_df.index"
   ]
  },
  {
   "cell_type": "markdown",
   "id": "b37c021e-020c-48c5-bee5-a15332f1279d",
   "metadata": {
    "jp-MarkdownHeadingCollapsed": true,
    "jupyter": {
     "outputs_hidden": false
    },
    "pycharm": {
     "name": "#%%\n"
    },
    "tags": []
   },
   "source": [
    "### Join and STR methods"
   ]
  },
  {
   "cell_type": "code",
   "execution_count": null,
   "id": "563c6a78-a368-456d-ab3d-4d03d0dc7887",
   "metadata": {
    "collapsed": true,
    "jupyter": {
     "outputs_hidden": true
    }
   },
   "outputs": [],
   "source": [
    "s = '8/9 Hello 9 may'\n",
    "s"
   ]
  },
  {
   "cell_type": "code",
   "execution_count": null,
   "id": "09bf74db-3ec0-487d-993d-251d5915faa5",
   "metadata": {
    "collapsed": true,
    "jupyter": {
     "outputs_hidden": true
    }
   },
   "outputs": [],
   "source": [
    "import re"
   ]
  },
  {
   "cell_type": "code",
   "execution_count": null,
   "id": "3371af1c-70fd-4844-b31f-65b0f1e8457a",
   "metadata": {
    "collapsed": true,
    "jupyter": {
     "outputs_hidden": true
    }
   },
   "outputs": [],
   "source": [
    "result = re.findall(r'.$', '8/9')\n",
    "result"
   ]
  },
  {
   "cell_type": "code",
   "execution_count": null,
   "id": "18978f63-cefd-49aa-9100-e4e00a15012e",
   "metadata": {
    "collapsed": true,
    "jupyter": {
     "outputs_hidden": true
    }
   },
   "outputs": [],
   "source": [
    "df_all = df1.merge(df2.drop_duplicates(), on=['col1','col2'], \n",
    "                   how='left', indicator=True)\n",
    "df_all\n",
    "\n",
    "   col1  col2     _merge\n",
    "0     1    10       both\n",
    "1     2    11       both\n",
    "2     3    12       both\n",
    "3     4    13  left_only\n",
    "4     5    14  left_only\n",
    "5     3    10  left_only"
   ]
  },
  {
   "cell_type": "code",
   "execution_count": null,
   "id": "638f43ca-1a7a-4897-bcab-4b96c1765320",
   "metadata": {
    "collapsed": true,
    "jupyter": {
     "outputs_hidden": true
    }
   },
   "outputs": [],
   "source": [
    "common = df1.merge(df2,on=['col1','col2'])\n",
    "print(common)\n",
    "df1[(~df1.col1.isin(common.col1))&(~df1.col2.isin(common.col2))]\n",
    "   col1  col2\n",
    "0     1    10\n",
    "1     2    11\n",
    "2     3    12\n",
    "Out[119]:\n",
    "   col1  col2\n",
    "3     4    13\n",
    "4     5    14"
   ]
  },
  {
   "cell_type": "code",
   "execution_count": null,
   "id": "f22f56f7-69c2-431f-b32a-5b2c49ed7b12",
   "metadata": {
    "collapsed": true,
    "jupyter": {
     "outputs_hidden": true
    }
   },
   "outputs": [],
   "source": [
    "# For multiple dataframes !!!!!!!!!!!!!!!!!!!\n",
    "import functools as ft"
   ]
  },
  {
   "cell_type": "code",
   "execution_count": null,
   "id": "77c5eee3-8a4e-4f11-a523-844077b356e1",
   "metadata": {
    "collapsed": true,
    "jupyter": {
     "outputs_hidden": true
    }
   },
   "outputs": [],
   "source": [
    "dfs = [df0, df1, df2, ..., dfN]\n",
    "df_final = ft.reduce(lambda left, right: pd.merge(left, right, on='name'), dfs)"
   ]
  },
  {
   "cell_type": "markdown",
   "id": "6fa70c7f-20f8-40ef-954a-02e46029795e",
   "metadata": {},
   "source": [
    "### DASK and MultiCPU"
   ]
  },
  {
   "cell_type": "code",
   "execution_count": null,
   "id": "adb2f8ca-070a-4b60-a769-4e4b11edd9cc",
   "metadata": {
    "collapsed": true,
    "jupyter": {
     "outputs_hidden": true
    }
   },
   "outputs": [],
   "source": [
    "# Create 10 datasets\n",
    "from sklearn.datasets import make_classification\n",
    "import pandas as pd\n",
    "\n",
    "for i in range(1, 11):\n",
    "    print('Generating trainset %d' % i)\n",
    "    x, y = make_classification(n_samples=100_000, n_features=100)\n",
    "    df = pd.DataFrame(data=x)\n",
    "    df['y'] = y\n",
    "    df.to_csv('trainset_%d.csv' % i, index=False)"
   ]
  },
  {
   "cell_type": "code",
   "execution_count": null,
   "id": "b376da17-af7b-4f99-ae61-6e857c7719be",
   "metadata": {
    "collapsed": true,
    "jupyter": {
     "outputs_hidden": true
    }
   },
   "outputs": [],
   "source": [
    "%%time  \n",
    "# Load 10 dataset and measure load speed\n",
    "\n",
    "import glob\n",
    "\n",
    "df_list = []\n",
    "for filename in glob.glob('trainset_*.csv'):\n",
    "    df_ = pd.read_csv(filename)\n",
    "    df_list.append(df_)\n",
    "df = pd.concat(df_list)\n",
    "df.shape"
   ]
  },
  {
   "cell_type": "code",
   "execution_count": null,
   "id": "a6941bfc-17ab-403a-b05a-1bb3cda0969c",
   "metadata": {
    "collapsed": true,
    "jupyter": {
     "outputs_hidden": true
    }
   },
   "outputs": [],
   "source": [
    "%%time\n",
    "import dask.dataframe as dd\n",
    "\n",
    "df = dd.read_csv('trainset_*.csv')\n",
    "df.shape"
   ]
  },
  {
   "cell_type": "code",
   "execution_count": null,
   "id": "dce717fd-6379-446f-ae55-0a9954b5b241",
   "metadata": {
    "collapsed": true,
    "jupyter": {
     "outputs_hidden": true
    }
   },
   "outputs": [],
   "source": [
    "df.shape"
   ]
  },
  {
   "cell_type": "code",
   "execution_count": null,
   "id": "72f23c5a-660f-46c1-8437-83450906bbea",
   "metadata": {
    "collapsed": true,
    "jupyter": {
     "outputs_hidden": true
    }
   },
   "outputs": [],
   "source": [
    "# !python -m pip install \"dask[complete]\"\n",
    "# import os\n",
    "# os.environ[\"PATH\"] += os.pathsep + 'C:/Program Files/Graphviz/bin'\n",
    "exec_graph = dd.read_csv('trainset_*.csv')\n",
    "exec_graph.visualize()"
   ]
  },
  {
   "cell_type": "code",
   "execution_count": null,
   "id": "559bfc7a-c964-4198-b16e-3e8b845bbee2",
   "metadata": {
    "collapsed": true,
    "jupyter": {
     "outputs_hidden": true
    }
   },
   "outputs": [],
   "source": [
    "!pip install dask_labextension\n",
    "!jupyter labextension install dask-labextension\n",
    "!pip uninstall bokeh\n",
    "!pip install bokeh==2.4.3"
   ]
  },
  {
   "cell_type": "code",
   "execution_count": 12,
   "id": "3d186727-2c59-4fca-9617-7ed6d5aafd37",
   "metadata": {
    "collapsed": true,
    "jupyter": {
     "outputs_hidden": true
    }
   },
   "outputs": [
    {
     "data": {
      "text/html": [
       "<table>\n",
       "    <tr>\n",
       "        <td>\n",
       "            <table style=\"border-collapse: collapse;\">\n",
       "                <thead>\n",
       "                    <tr>\n",
       "                        <td> </td>\n",
       "                        <th> Array </th>\n",
       "                        <th> Chunk </th>\n",
       "                    </tr>\n",
       "                </thead>\n",
       "                <tbody>\n",
       "                    \n",
       "                    <tr>\n",
       "                        <th> Bytes </th>\n",
       "                        <td> 74.51 GiB </td>\n",
       "                        <td> 126.51 MiB </td>\n",
       "                    </tr>\n",
       "                    \n",
       "                    <tr>\n",
       "                        <th> Shape </th>\n",
       "                        <td> (10000, 1000, 1000) </td>\n",
       "                        <td> (255, 255, 255) </td>\n",
       "                    </tr>\n",
       "                    <tr>\n",
       "                        <th> Dask graph </th>\n",
       "                        <td colspan=\"2\"> 640 chunks in 1 graph layer </td>\n",
       "                    </tr>\n",
       "                    <tr>\n",
       "                        <th> Data type </th>\n",
       "                        <td colspan=\"2\"> float64 numpy.ndarray </td>\n",
       "                    </tr>\n",
       "                </tbody>\n",
       "            </table>\n",
       "        </td>\n",
       "        <td>\n",
       "        <svg width=\"169\" height=\"159\" style=\"stroke:rgb(0,0,0);stroke-width:1\" >\n",
       "\n",
       "  <!-- Horizontal lines -->\n",
       "  <line x1=\"10\" y1=\"0\" x2=\"80\" y2=\"70\" style=\"stroke-width:2\" />\n",
       "  <line x1=\"10\" y1=\"9\" x2=\"80\" y2=\"80\" />\n",
       "  <line x1=\"10\" y1=\"19\" x2=\"80\" y2=\"90\" />\n",
       "  <line x1=\"10\" y1=\"29\" x2=\"80\" y2=\"100\" />\n",
       "  <line x1=\"10\" y1=\"38\" x2=\"80\" y2=\"109\" style=\"stroke-width:2\" />\n",
       "\n",
       "  <!-- Vertical lines -->\n",
       "  <line x1=\"10\" y1=\"0\" x2=\"10\" y2=\"38\" style=\"stroke-width:2\" />\n",
       "  <line x1=\"13\" y1=\"3\" x2=\"13\" y2=\"42\" />\n",
       "  <line x1=\"17\" y1=\"7\" x2=\"17\" y2=\"45\" />\n",
       "  <line x1=\"20\" y1=\"10\" x2=\"20\" y2=\"49\" />\n",
       "  <line x1=\"24\" y1=\"14\" x2=\"24\" y2=\"52\" />\n",
       "  <line x1=\"28\" y1=\"18\" x2=\"28\" y2=\"56\" />\n",
       "  <line x1=\"31\" y1=\"21\" x2=\"31\" y2=\"60\" />\n",
       "  <line x1=\"35\" y1=\"25\" x2=\"35\" y2=\"63\" />\n",
       "  <line x1=\"38\" y1=\"28\" x2=\"38\" y2=\"67\" />\n",
       "  <line x1=\"42\" y1=\"32\" x2=\"42\" y2=\"70\" />\n",
       "  <line x1=\"47\" y1=\"37\" x2=\"47\" y2=\"76\" />\n",
       "  <line x1=\"51\" y1=\"41\" x2=\"51\" y2=\"79\" />\n",
       "  <line x1=\"55\" y1=\"45\" x2=\"55\" y2=\"83\" />\n",
       "  <line x1=\"58\" y1=\"48\" x2=\"58\" y2=\"87\" />\n",
       "  <line x1=\"62\" y1=\"52\" x2=\"62\" y2=\"90\" />\n",
       "  <line x1=\"65\" y1=\"55\" x2=\"65\" y2=\"94\" />\n",
       "  <line x1=\"69\" y1=\"59\" x2=\"69\" y2=\"97\" />\n",
       "  <line x1=\"73\" y1=\"63\" x2=\"73\" y2=\"101\" />\n",
       "  <line x1=\"76\" y1=\"66\" x2=\"76\" y2=\"105\" />\n",
       "  <line x1=\"80\" y1=\"70\" x2=\"80\" y2=\"109\" style=\"stroke-width:2\" />\n",
       "\n",
       "  <!-- Colored Rectangle -->\n",
       "  <polygon points=\"10.0,0.0 80.58823529411765,70.58823529411765 80.58823529411765,109.18509833020366 10.0,38.596863036086\" style=\"fill:#8B4903A0;stroke-width:0\"/>\n",
       "\n",
       "  <!-- Horizontal lines -->\n",
       "  <line x1=\"10\" y1=\"0\" x2=\"48\" y2=\"0\" style=\"stroke-width:2\" />\n",
       "  <line x1=\"13\" y1=\"3\" x2=\"52\" y2=\"3\" />\n",
       "  <line x1=\"17\" y1=\"7\" x2=\"55\" y2=\"7\" />\n",
       "  <line x1=\"20\" y1=\"10\" x2=\"59\" y2=\"10\" />\n",
       "  <line x1=\"24\" y1=\"14\" x2=\"62\" y2=\"14\" />\n",
       "  <line x1=\"28\" y1=\"18\" x2=\"66\" y2=\"18\" />\n",
       "  <line x1=\"31\" y1=\"21\" x2=\"70\" y2=\"21\" />\n",
       "  <line x1=\"35\" y1=\"25\" x2=\"73\" y2=\"25\" />\n",
       "  <line x1=\"38\" y1=\"28\" x2=\"77\" y2=\"28\" />\n",
       "  <line x1=\"42\" y1=\"32\" x2=\"80\" y2=\"32\" />\n",
       "  <line x1=\"47\" y1=\"37\" x2=\"86\" y2=\"37\" />\n",
       "  <line x1=\"51\" y1=\"41\" x2=\"89\" y2=\"41\" />\n",
       "  <line x1=\"55\" y1=\"45\" x2=\"93\" y2=\"45\" />\n",
       "  <line x1=\"58\" y1=\"48\" x2=\"97\" y2=\"48\" />\n",
       "  <line x1=\"62\" y1=\"52\" x2=\"100\" y2=\"52\" />\n",
       "  <line x1=\"65\" y1=\"55\" x2=\"104\" y2=\"55\" />\n",
       "  <line x1=\"69\" y1=\"59\" x2=\"107\" y2=\"59\" />\n",
       "  <line x1=\"73\" y1=\"63\" x2=\"111\" y2=\"63\" />\n",
       "  <line x1=\"76\" y1=\"66\" x2=\"115\" y2=\"66\" />\n",
       "  <line x1=\"80\" y1=\"70\" x2=\"119\" y2=\"70\" style=\"stroke-width:2\" />\n",
       "\n",
       "  <!-- Vertical lines -->\n",
       "  <line x1=\"10\" y1=\"0\" x2=\"80\" y2=\"70\" style=\"stroke-width:2\" />\n",
       "  <line x1=\"19\" y1=\"0\" x2=\"90\" y2=\"70\" />\n",
       "  <line x1=\"29\" y1=\"0\" x2=\"100\" y2=\"70\" />\n",
       "  <line x1=\"39\" y1=\"0\" x2=\"110\" y2=\"70\" />\n",
       "  <line x1=\"48\" y1=\"0\" x2=\"119\" y2=\"70\" style=\"stroke-width:2\" />\n",
       "\n",
       "  <!-- Colored Rectangle -->\n",
       "  <polygon points=\"10.0,0.0 48.596863036086,0.0 119.18509833020366,70.58823529411765 80.58823529411765,70.58823529411765\" style=\"fill:#8B4903A0;stroke-width:0\"/>\n",
       "\n",
       "  <!-- Horizontal lines -->\n",
       "  <line x1=\"80\" y1=\"70\" x2=\"119\" y2=\"70\" style=\"stroke-width:2\" />\n",
       "  <line x1=\"80\" y1=\"80\" x2=\"119\" y2=\"80\" />\n",
       "  <line x1=\"80\" y1=\"90\" x2=\"119\" y2=\"90\" />\n",
       "  <line x1=\"80\" y1=\"100\" x2=\"119\" y2=\"100\" />\n",
       "  <line x1=\"80\" y1=\"109\" x2=\"119\" y2=\"109\" style=\"stroke-width:2\" />\n",
       "\n",
       "  <!-- Vertical lines -->\n",
       "  <line x1=\"80\" y1=\"70\" x2=\"80\" y2=\"109\" style=\"stroke-width:2\" />\n",
       "  <line x1=\"90\" y1=\"70\" x2=\"90\" y2=\"109\" />\n",
       "  <line x1=\"100\" y1=\"70\" x2=\"100\" y2=\"109\" />\n",
       "  <line x1=\"110\" y1=\"70\" x2=\"110\" y2=\"109\" />\n",
       "  <line x1=\"119\" y1=\"70\" x2=\"119\" y2=\"109\" style=\"stroke-width:2\" />\n",
       "\n",
       "  <!-- Colored Rectangle -->\n",
       "  <polygon points=\"80.58823529411765,70.58823529411765 119.18509833020366,70.58823529411765 119.18509833020366,109.18509833020366 80.58823529411765,109.18509833020366\" style=\"fill:#ECB172A0;stroke-width:0\"/>\n",
       "\n",
       "  <!-- Text -->\n",
       "  <text x=\"99.886667\" y=\"129.185098\" font-size=\"1.0rem\" font-weight=\"100\" text-anchor=\"middle\" >1000</text>\n",
       "  <text x=\"139.185098\" y=\"89.886667\" font-size=\"1.0rem\" font-weight=\"100\" text-anchor=\"middle\" transform=\"rotate(-90,139.185098,89.886667)\">1000</text>\n",
       "  <text x=\"35.294118\" y=\"93.890981\" font-size=\"1.0rem\" font-weight=\"100\" text-anchor=\"middle\" transform=\"rotate(45,35.294118,93.890981)\">10000</text>\n",
       "</svg>\n",
       "        </td>\n",
       "    </tr>\n",
       "</table>"
      ],
      "text/plain": [
       "dask.array<ones_like, shape=(10000, 1000, 1000), dtype=float64, chunksize=(255, 255, 255), chunktype=numpy.ndarray>"
      ]
     },
     "execution_count": 12,
     "metadata": {},
     "output_type": "execute_result"
    }
   ],
   "source": [
    "import dask.array as da\n",
    "image = da.ones((10000,1000,1000))\n",
    "image"
   ]
  },
  {
   "cell_type": "code",
   "execution_count": 17,
   "id": "d16732b5-581d-4d10-80fa-b4ea2a7cc238",
   "metadata": {
    "tags": []
   },
   "outputs": [
    {
     "data": {
      "text/html": [
       "<div>\n",
       "    <div style=\"width: 24px; height: 24px; background-color: #e1e1e1; border: 3px solid #9D9D9D; border-radius: 5px; position: absolute;\"> </div>\n",
       "    <div style=\"margin-left: 48px;\">\n",
       "        <h3 style=\"margin-bottom: 0px;\">Client</h3>\n",
       "        <p style=\"color: #9D9D9D; margin-bottom: 0px;\">Client-22486e57-02fb-11ee-8dac-202b206f6ddc</p>\n",
       "        <table style=\"width: 100%; text-align: left;\">\n",
       "\n",
       "        <tr>\n",
       "        \n",
       "            <td style=\"text-align: left;\"><strong>Connection method:</strong> Cluster object</td>\n",
       "            <td style=\"text-align: left;\"><strong>Cluster type:</strong> distributed.LocalCluster</td>\n",
       "        \n",
       "        </tr>\n",
       "\n",
       "        \n",
       "            <tr>\n",
       "                <td style=\"text-align: left;\">\n",
       "                    <strong>Dashboard: </strong> <a href=\"http://127.0.0.1:8787/status\" target=\"_blank\">http://127.0.0.1:8787/status</a>\n",
       "                </td>\n",
       "                <td style=\"text-align: left;\"></td>\n",
       "            </tr>\n",
       "        \n",
       "\n",
       "        </table>\n",
       "\n",
       "        \n",
       "            <button style=\"margin-bottom: 12px;\" data-commandlinker-command=\"dask:populate-and-launch-layout\" data-commandlinker-args='{\"url\": \"http://127.0.0.1:8787/status\" }'>\n",
       "                Launch dashboard in JupyterLab\n",
       "            </button>\n",
       "        \n",
       "\n",
       "        \n",
       "            <details>\n",
       "            <summary style=\"margin-bottom: 20px;\"><h3 style=\"display: inline;\">Cluster Info</h3></summary>\n",
       "            <div class=\"jp-RenderedHTMLCommon jp-RenderedHTML jp-mod-trusted jp-OutputArea-output\">\n",
       "    <div style=\"width: 24px; height: 24px; background-color: #e1e1e1; border: 3px solid #9D9D9D; border-radius: 5px; position: absolute;\">\n",
       "    </div>\n",
       "    <div style=\"margin-left: 48px;\">\n",
       "        <h3 style=\"margin-bottom: 0px; margin-top: 0px;\">LocalCluster</h3>\n",
       "        <p style=\"color: #9D9D9D; margin-bottom: 0px;\">c59bf406</p>\n",
       "        <table style=\"width: 100%; text-align: left;\">\n",
       "            <tr>\n",
       "                <td style=\"text-align: left;\">\n",
       "                    <strong>Dashboard:</strong> <a href=\"http://127.0.0.1:8787/status\" target=\"_blank\">http://127.0.0.1:8787/status</a>\n",
       "                </td>\n",
       "                <td style=\"text-align: left;\">\n",
       "                    <strong>Workers:</strong> 4\n",
       "                </td>\n",
       "            </tr>\n",
       "            <tr>\n",
       "                <td style=\"text-align: left;\">\n",
       "                    <strong>Total threads:</strong> 16\n",
       "                </td>\n",
       "                <td style=\"text-align: left;\">\n",
       "                    <strong>Total memory:</strong> 14.69 GiB\n",
       "                </td>\n",
       "            </tr>\n",
       "            \n",
       "            <tr>\n",
       "    <td style=\"text-align: left;\"><strong>Status:</strong> running</td>\n",
       "    <td style=\"text-align: left;\"><strong>Using processes:</strong> True</td>\n",
       "</tr>\n",
       "\n",
       "            \n",
       "        </table>\n",
       "\n",
       "        <details>\n",
       "            <summary style=\"margin-bottom: 20px;\">\n",
       "                <h3 style=\"display: inline;\">Scheduler Info</h3>\n",
       "            </summary>\n",
       "\n",
       "            <div style=\"\">\n",
       "    <div>\n",
       "        <div style=\"width: 24px; height: 24px; background-color: #FFF7E5; border: 3px solid #FF6132; border-radius: 5px; position: absolute;\"> </div>\n",
       "        <div style=\"margin-left: 48px;\">\n",
       "            <h3 style=\"margin-bottom: 0px;\">Scheduler</h3>\n",
       "            <p style=\"color: #9D9D9D; margin-bottom: 0px;\">Scheduler-d4ad0ec5-3b78-426f-8fe1-045027c20138</p>\n",
       "            <table style=\"width: 100%; text-align: left;\">\n",
       "                <tr>\n",
       "                    <td style=\"text-align: left;\">\n",
       "                        <strong>Comm:</strong> tcp://127.0.0.1:60108\n",
       "                    </td>\n",
       "                    <td style=\"text-align: left;\">\n",
       "                        <strong>Workers:</strong> 4\n",
       "                    </td>\n",
       "                </tr>\n",
       "                <tr>\n",
       "                    <td style=\"text-align: left;\">\n",
       "                        <strong>Dashboard:</strong> <a href=\"http://127.0.0.1:8787/status\" target=\"_blank\">http://127.0.0.1:8787/status</a>\n",
       "                    </td>\n",
       "                    <td style=\"text-align: left;\">\n",
       "                        <strong>Total threads:</strong> 16\n",
       "                    </td>\n",
       "                </tr>\n",
       "                <tr>\n",
       "                    <td style=\"text-align: left;\">\n",
       "                        <strong>Started:</strong> Just now\n",
       "                    </td>\n",
       "                    <td style=\"text-align: left;\">\n",
       "                        <strong>Total memory:</strong> 14.69 GiB\n",
       "                    </td>\n",
       "                </tr>\n",
       "            </table>\n",
       "        </div>\n",
       "    </div>\n",
       "\n",
       "    <details style=\"margin-left: 48px;\">\n",
       "        <summary style=\"margin-bottom: 20px;\">\n",
       "            <h3 style=\"display: inline;\">Workers</h3>\n",
       "        </summary>\n",
       "\n",
       "        \n",
       "        <div style=\"margin-bottom: 20px;\">\n",
       "            <div style=\"width: 24px; height: 24px; background-color: #DBF5FF; border: 3px solid #4CC9FF; border-radius: 5px; position: absolute;\"> </div>\n",
       "            <div style=\"margin-left: 48px;\">\n",
       "            <details>\n",
       "                <summary>\n",
       "                    <h4 style=\"margin-bottom: 0px; display: inline;\">Worker: 0</h4>\n",
       "                </summary>\n",
       "                <table style=\"width: 100%; text-align: left;\">\n",
       "                    <tr>\n",
       "                        <td style=\"text-align: left;\">\n",
       "                            <strong>Comm: </strong> tcp://127.0.0.1:60130\n",
       "                        </td>\n",
       "                        <td style=\"text-align: left;\">\n",
       "                            <strong>Total threads: </strong> 4\n",
       "                        </td>\n",
       "                    </tr>\n",
       "                    <tr>\n",
       "                        <td style=\"text-align: left;\">\n",
       "                            <strong>Dashboard: </strong> <a href=\"http://127.0.0.1:60131/status\" target=\"_blank\">http://127.0.0.1:60131/status</a>\n",
       "                        </td>\n",
       "                        <td style=\"text-align: left;\">\n",
       "                            <strong>Memory: </strong> 3.67 GiB\n",
       "                        </td>\n",
       "                    </tr>\n",
       "                    <tr>\n",
       "                        <td style=\"text-align: left;\">\n",
       "                            <strong>Nanny: </strong> tcp://127.0.0.1:60111\n",
       "                        </td>\n",
       "                        <td style=\"text-align: left;\"></td>\n",
       "                    </tr>\n",
       "                    <tr>\n",
       "                        <td colspan=\"2\" style=\"text-align: left;\">\n",
       "                            <strong>Local directory: </strong> C:\\Users\\PHYZIC~1\\AppData\\Local\\Temp\\dask-worker-space\\worker-f8njn4f5\n",
       "                        </td>\n",
       "                    </tr>\n",
       "\n",
       "                    \n",
       "\n",
       "                    \n",
       "\n",
       "                </table>\n",
       "            </details>\n",
       "            </div>\n",
       "        </div>\n",
       "        \n",
       "        <div style=\"margin-bottom: 20px;\">\n",
       "            <div style=\"width: 24px; height: 24px; background-color: #DBF5FF; border: 3px solid #4CC9FF; border-radius: 5px; position: absolute;\"> </div>\n",
       "            <div style=\"margin-left: 48px;\">\n",
       "            <details>\n",
       "                <summary>\n",
       "                    <h4 style=\"margin-bottom: 0px; display: inline;\">Worker: 1</h4>\n",
       "                </summary>\n",
       "                <table style=\"width: 100%; text-align: left;\">\n",
       "                    <tr>\n",
       "                        <td style=\"text-align: left;\">\n",
       "                            <strong>Comm: </strong> tcp://127.0.0.1:60133\n",
       "                        </td>\n",
       "                        <td style=\"text-align: left;\">\n",
       "                            <strong>Total threads: </strong> 4\n",
       "                        </td>\n",
       "                    </tr>\n",
       "                    <tr>\n",
       "                        <td style=\"text-align: left;\">\n",
       "                            <strong>Dashboard: </strong> <a href=\"http://127.0.0.1:60135/status\" target=\"_blank\">http://127.0.0.1:60135/status</a>\n",
       "                        </td>\n",
       "                        <td style=\"text-align: left;\">\n",
       "                            <strong>Memory: </strong> 3.67 GiB\n",
       "                        </td>\n",
       "                    </tr>\n",
       "                    <tr>\n",
       "                        <td style=\"text-align: left;\">\n",
       "                            <strong>Nanny: </strong> tcp://127.0.0.1:60112\n",
       "                        </td>\n",
       "                        <td style=\"text-align: left;\"></td>\n",
       "                    </tr>\n",
       "                    <tr>\n",
       "                        <td colspan=\"2\" style=\"text-align: left;\">\n",
       "                            <strong>Local directory: </strong> C:\\Users\\PHYZIC~1\\AppData\\Local\\Temp\\dask-worker-space\\worker-wu06od6o\n",
       "                        </td>\n",
       "                    </tr>\n",
       "\n",
       "                    \n",
       "\n",
       "                    \n",
       "\n",
       "                </table>\n",
       "            </details>\n",
       "            </div>\n",
       "        </div>\n",
       "        \n",
       "        <div style=\"margin-bottom: 20px;\">\n",
       "            <div style=\"width: 24px; height: 24px; background-color: #DBF5FF; border: 3px solid #4CC9FF; border-radius: 5px; position: absolute;\"> </div>\n",
       "            <div style=\"margin-left: 48px;\">\n",
       "            <details>\n",
       "                <summary>\n",
       "                    <h4 style=\"margin-bottom: 0px; display: inline;\">Worker: 2</h4>\n",
       "                </summary>\n",
       "                <table style=\"width: 100%; text-align: left;\">\n",
       "                    <tr>\n",
       "                        <td style=\"text-align: left;\">\n",
       "                            <strong>Comm: </strong> tcp://127.0.0.1:60125\n",
       "                        </td>\n",
       "                        <td style=\"text-align: left;\">\n",
       "                            <strong>Total threads: </strong> 4\n",
       "                        </td>\n",
       "                    </tr>\n",
       "                    <tr>\n",
       "                        <td style=\"text-align: left;\">\n",
       "                            <strong>Dashboard: </strong> <a href=\"http://127.0.0.1:60128/status\" target=\"_blank\">http://127.0.0.1:60128/status</a>\n",
       "                        </td>\n",
       "                        <td style=\"text-align: left;\">\n",
       "                            <strong>Memory: </strong> 3.67 GiB\n",
       "                        </td>\n",
       "                    </tr>\n",
       "                    <tr>\n",
       "                        <td style=\"text-align: left;\">\n",
       "                            <strong>Nanny: </strong> tcp://127.0.0.1:60113\n",
       "                        </td>\n",
       "                        <td style=\"text-align: left;\"></td>\n",
       "                    </tr>\n",
       "                    <tr>\n",
       "                        <td colspan=\"2\" style=\"text-align: left;\">\n",
       "                            <strong>Local directory: </strong> C:\\Users\\PHYZIC~1\\AppData\\Local\\Temp\\dask-worker-space\\worker-o4d64ezj\n",
       "                        </td>\n",
       "                    </tr>\n",
       "\n",
       "                    \n",
       "\n",
       "                    \n",
       "\n",
       "                </table>\n",
       "            </details>\n",
       "            </div>\n",
       "        </div>\n",
       "        \n",
       "        <div style=\"margin-bottom: 20px;\">\n",
       "            <div style=\"width: 24px; height: 24px; background-color: #DBF5FF; border: 3px solid #4CC9FF; border-radius: 5px; position: absolute;\"> </div>\n",
       "            <div style=\"margin-left: 48px;\">\n",
       "            <details>\n",
       "                <summary>\n",
       "                    <h4 style=\"margin-bottom: 0px; display: inline;\">Worker: 3</h4>\n",
       "                </summary>\n",
       "                <table style=\"width: 100%; text-align: left;\">\n",
       "                    <tr>\n",
       "                        <td style=\"text-align: left;\">\n",
       "                            <strong>Comm: </strong> tcp://127.0.0.1:60134\n",
       "                        </td>\n",
       "                        <td style=\"text-align: left;\">\n",
       "                            <strong>Total threads: </strong> 4\n",
       "                        </td>\n",
       "                    </tr>\n",
       "                    <tr>\n",
       "                        <td style=\"text-align: left;\">\n",
       "                            <strong>Dashboard: </strong> <a href=\"http://127.0.0.1:60137/status\" target=\"_blank\">http://127.0.0.1:60137/status</a>\n",
       "                        </td>\n",
       "                        <td style=\"text-align: left;\">\n",
       "                            <strong>Memory: </strong> 3.67 GiB\n",
       "                        </td>\n",
       "                    </tr>\n",
       "                    <tr>\n",
       "                        <td style=\"text-align: left;\">\n",
       "                            <strong>Nanny: </strong> tcp://127.0.0.1:60114\n",
       "                        </td>\n",
       "                        <td style=\"text-align: left;\"></td>\n",
       "                    </tr>\n",
       "                    <tr>\n",
       "                        <td colspan=\"2\" style=\"text-align: left;\">\n",
       "                            <strong>Local directory: </strong> C:\\Users\\PHYZIC~1\\AppData\\Local\\Temp\\dask-worker-space\\worker-yz9oiojz\n",
       "                        </td>\n",
       "                    </tr>\n",
       "\n",
       "                    \n",
       "\n",
       "                    \n",
       "\n",
       "                </table>\n",
       "            </details>\n",
       "            </div>\n",
       "        </div>\n",
       "        \n",
       "\n",
       "    </details>\n",
       "</div>\n",
       "\n",
       "        </details>\n",
       "    </div>\n",
       "</div>\n",
       "            </details>\n",
       "        \n",
       "\n",
       "    </div>\n",
       "</div>"
      ],
      "text/plain": [
       "<Client: 'tcp://127.0.0.1:60108' processes=4 threads=16, memory=14.69 GiB>"
      ]
     },
     "execution_count": 17,
     "metadata": {},
     "output_type": "execute_result"
    }
   ],
   "source": [
    "from dask.distributed import Client\n",
    "client = Client()\n",
    "client\n",
    "\n",
    "# # !pip install gcsfs"
   ]
  },
  {
   "cell_type": "code",
   "execution_count": 16,
   "id": "b6745134-a631-463e-93cb-f6d1a43b9e9f",
   "metadata": {
    "tags": []
   },
   "outputs": [],
   "source": [
    "client.close() #close client"
   ]
  },
  {
   "cell_type": "code",
   "execution_count": 2,
   "id": "38ec6f66-60c0-47d6-a528-f05e83dc581b",
   "metadata": {
    "tags": []
   },
   "outputs": [],
   "source": [
    "import dask.dataframe as dd\n",
    "df = dd.read_csv(\n",
    "    'gcs://anaconda-public-data/nyc-taxi/csv/2015/yellow_*.csv',\n",
    "    storage_options = {'token':'anon'},\n",
    "    parse_dates=['tpep_pickup_datetime', 'tpep_dropoff_datetime']\n",
    ").persist()"
   ]
  },
  {
   "cell_type": "code",
   "execution_count": 3,
   "id": "65f39ab1-95ac-4ff6-9ed5-b8da1b8e3eb8",
   "metadata": {
    "tags": []
   },
   "outputs": [
    {
     "data": {
      "text/plain": [
       "1    102991045\n",
       "2     20901372\n",
       "5      7939001\n",
       "3      6135107\n",
       "6      5123951\n",
       "4      2981071\n",
       "0        40853\n",
       "7          239\n",
       "8          181\n",
       "9          169\n",
       "Name: passenger_count, dtype: int64"
      ]
     },
     "execution_count": 3,
     "metadata": {},
     "output_type": "execute_result"
    }
   ],
   "source": [
    "df.passenger_count.value_counts().compute()"
   ]
  },
  {
   "cell_type": "code",
   "execution_count": 18,
   "id": "69840089-f80d-45e5-a65d-e5d65ed7dcf4",
   "metadata": {},
   "outputs": [
    {
     "name": "stdout",
     "output_type": "stream",
     "text": [
      "CPU times: total: 7.88 s\n",
      "Wall time: 23.3 s\n"
     ]
    },
    {
     "data": {
      "text/plain": [
       "450011741.6801506"
      ]
     },
     "execution_count": 18,
     "metadata": {},
     "output_type": "execute_result"
    }
   ],
   "source": [
    "%%time\n",
    "import dask.array as da\n",
    "x = da.random.random((30000,30000), chunks=\"2MiB\")\n",
    "y = (x + x.T) - x.mean(axis=0)\n",
    "y.sum().compute()"
   ]
  },
  {
   "cell_type": "code",
   "execution_count": 4,
   "id": "a3d87689-0e2f-4405-b6bd-ded7ed9db862",
   "metadata": {},
   "outputs": [
    {
     "name": "stdout",
     "output_type": "stream",
     "text": [
      "<class 'dask.dataframe.core.DataFrame'>\n",
      "Columns: 19 entries, VendorID to total_amount\n",
      "dtypes: datetime64[ns](2), object(1), float64(12), int64(4)"
     ]
    }
   ],
   "source": [
    "df.info()"
   ]
  },
  {
   "cell_type": "code",
   "execution_count": 6,
   "id": "0518cd7c-c29a-4b4b-86fb-cb7be10654e7",
   "metadata": {},
   "outputs": [
    {
     "data": {
      "text/html": [
       "<div>\n",
       "<style scoped>\n",
       "    .dataframe tbody tr th:only-of-type {\n",
       "        vertical-align: middle;\n",
       "    }\n",
       "\n",
       "    .dataframe tbody tr th {\n",
       "        vertical-align: top;\n",
       "    }\n",
       "\n",
       "    .dataframe thead th {\n",
       "        text-align: right;\n",
       "    }\n",
       "</style>\n",
       "<table border=\"1\" class=\"dataframe\">\n",
       "  <thead>\n",
       "    <tr style=\"text-align: right;\">\n",
       "      <th></th>\n",
       "      <th>VendorID</th>\n",
       "      <th>tpep_pickup_datetime</th>\n",
       "      <th>tpep_dropoff_datetime</th>\n",
       "      <th>passenger_count</th>\n",
       "      <th>trip_distance</th>\n",
       "      <th>pickup_longitude</th>\n",
       "      <th>pickup_latitude</th>\n",
       "      <th>RateCodeID</th>\n",
       "      <th>store_and_fwd_flag</th>\n",
       "      <th>dropoff_longitude</th>\n",
       "      <th>dropoff_latitude</th>\n",
       "      <th>payment_type</th>\n",
       "      <th>fare_amount</th>\n",
       "      <th>extra</th>\n",
       "      <th>mta_tax</th>\n",
       "      <th>tip_amount</th>\n",
       "      <th>tolls_amount</th>\n",
       "      <th>improvement_surcharge</th>\n",
       "      <th>total_amount</th>\n",
       "    </tr>\n",
       "  </thead>\n",
       "  <tbody>\n",
       "    <tr>\n",
       "      <th>0</th>\n",
       "      <td>2</td>\n",
       "      <td>2015-01-15 19:05:39</td>\n",
       "      <td>2015-01-15 19:23:42</td>\n",
       "      <td>1</td>\n",
       "      <td>1.59</td>\n",
       "      <td>-73.993896</td>\n",
       "      <td>40.750111</td>\n",
       "      <td>1</td>\n",
       "      <td>N</td>\n",
       "      <td>-73.974785</td>\n",
       "      <td>40.750618</td>\n",
       "      <td>1</td>\n",
       "      <td>12.0</td>\n",
       "      <td>1.0</td>\n",
       "      <td>0.5</td>\n",
       "      <td>3.25</td>\n",
       "      <td>0.0</td>\n",
       "      <td>0.3</td>\n",
       "      <td>17.05</td>\n",
       "    </tr>\n",
       "    <tr>\n",
       "      <th>1</th>\n",
       "      <td>1</td>\n",
       "      <td>2015-01-10 20:33:38</td>\n",
       "      <td>2015-01-10 20:53:28</td>\n",
       "      <td>1</td>\n",
       "      <td>3.30</td>\n",
       "      <td>-74.001648</td>\n",
       "      <td>40.724243</td>\n",
       "      <td>1</td>\n",
       "      <td>N</td>\n",
       "      <td>-73.994415</td>\n",
       "      <td>40.759109</td>\n",
       "      <td>1</td>\n",
       "      <td>14.5</td>\n",
       "      <td>0.5</td>\n",
       "      <td>0.5</td>\n",
       "      <td>2.00</td>\n",
       "      <td>0.0</td>\n",
       "      <td>0.3</td>\n",
       "      <td>17.80</td>\n",
       "    </tr>\n",
       "  </tbody>\n",
       "</table>\n",
       "</div>"
      ],
      "text/plain": [
       "   VendorID tpep_pickup_datetime tpep_dropoff_datetime  passenger_count  \\\n",
       "0         2  2015-01-15 19:05:39   2015-01-15 19:23:42                1   \n",
       "1         1  2015-01-10 20:33:38   2015-01-10 20:53:28                1   \n",
       "\n",
       "   trip_distance  pickup_longitude  pickup_latitude  RateCodeID  \\\n",
       "0           1.59        -73.993896        40.750111           1   \n",
       "1           3.30        -74.001648        40.724243           1   \n",
       "\n",
       "  store_and_fwd_flag  dropoff_longitude  dropoff_latitude  payment_type  \\\n",
       "0                  N         -73.974785         40.750618             1   \n",
       "1                  N         -73.994415         40.759109             1   \n",
       "\n",
       "   fare_amount  extra  mta_tax  tip_amount  tolls_amount  \\\n",
       "0         12.0    1.0      0.5        3.25           0.0   \n",
       "1         14.5    0.5      0.5        2.00           0.0   \n",
       "\n",
       "   improvement_surcharge  total_amount  \n",
       "0                    0.3         17.05  \n",
       "1                    0.3         17.80  "
      ]
     },
     "execution_count": 6,
     "metadata": {},
     "output_type": "execute_result"
    }
   ],
   "source": [
    "df.head(2)"
   ]
  }
 ],
 "metadata": {
  "kernelspec": {
   "display_name": "Python 3 (ipykernel)",
   "language": "python",
   "name": "python3"
  },
  "language_info": {
   "codemirror_mode": {
    "name": "ipython",
    "version": 3
   },
   "file_extension": ".py",
   "mimetype": "text/x-python",
   "name": "python",
   "nbconvert_exporter": "python",
   "pygments_lexer": "ipython3",
   "version": "3.10.11"
  }
 },
 "nbformat": 4,
 "nbformat_minor": 5
}
